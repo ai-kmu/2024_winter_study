{
  "nbformat": 4,
  "nbformat_minor": 0,
  "metadata": {
    "colab": {
      "provenance": [],
      "gpuType": "T4"
    },
    "kernelspec": {
      "name": "python3",
      "display_name": "Python 3"
    },
    "language_info": {
      "name": "python"
    },
    "accelerator": "GPU"
  },
  "cells": [
    {
      "cell_type": "markdown",
      "source": [
        "# **0. 필요한 library import**\n",
        "\n",
        "이번 dataset은 cifar-100 이기 때문에 torchvision 에 저장된 dataset을 불러와서 사용할 것이기 때문에 필요한 library들을 import 했다."
      ],
      "metadata": {
        "id": "WTwu1qQEq_8W"
      }
    },
    {
      "cell_type": "code",
      "source": [
        "import torch\n",
        "import torch.nn as nn\n",
        "import torch.optim as optim\n",
        "import torchvision.datasets as dsets\n",
        "import torchvision.transforms as transforms\n",
        "from torch.utils.data import DataLoader\n",
        "import matplotlib.pyplot as plt\n",
        "import numpy as np"
      ],
      "metadata": {
        "id": "b0VfG5-90qnZ"
      },
      "execution_count": null,
      "outputs": []
    },
    {
      "cell_type": "markdown",
      "source": [
        "# **1. 초기 설정**\n",
        "\n",
        "이 코드는 PyTorch를 사용하여 CIFAR-100 데이터셋을 로드하고, 모델 학습을 위한 환경을 설정하는 과정으로 torch.cuda.is_available()을 확인하여 GPU(CUDA) 또는 CPU를 선택하고, torchvision.datasets.CIFAR100을 이용해 데이터를 다운로드 및 변환(크기 조정, 정규화)한 후, DataLoader로 배치 크기 128의 미니배치를 생성한다. 또한, 생성 모델(GAN 등)에서 사용할 노이즈 벡터 크기(100)와 CIFAR-100의 클래스 개수(100)를 정의하고, 합성곱(Conv) 및 배치 정규화(BatchNorm) 레이어의 가중치를 정규분포를 따라 초기화하는 함수 weights_init을 설정하는데, 이 설정은 보통 GAN(Generative Adversarial Network) 같은 생성 모델을 훈련할 때 사용된다."
      ],
      "metadata": {
        "id": "dPBNfe0TsHFf"
      }
    },
    {
      "cell_type": "code",
      "source": [
        "# 디바이스 설정\n",
        "device = torch.device('cuda' if torch.cuda.is_available() else 'cpu')\n",
        "# CIFAR100 데이터 로딩\n",
        "dataset = dsets.CIFAR100(root='./data', download=True,\n",
        "                         transform=transforms.Compose([\n",
        "                             transforms.Resize(32),\n",
        "                             transforms.ToTensor(),\n",
        "                             transforms.Normalize((0.5, 0.5, 0.5), (0.5, 0.5, 0.5))\n",
        "                         ]))\n",
        "dataloader = DataLoader(dataset, batch_size=128, shuffle=True)\n",
        "\n",
        "nz = 100\n",
        "num_classes = 100\n",
        "\n",
        "def weights_init(m):\n",
        "    classname = m.__class__.__name__\n",
        "    if classname.find('Conv') != -1:\n",
        "        nn.init.normal_(m.weight.data, 0.0, 0.02)\n",
        "    elif classname.find('BatchNorm') != -1:\n",
        "        nn.init.normal_(m.weight.data, 1.0, 0.02)\n",
        "        nn.init.constant_(m.bias.data, 0)\n"
      ],
      "metadata": {
        "colab": {
          "base_uri": "https://localhost:8080/"
        },
        "id": "aG7lnseo04UL",
        "outputId": "f2673286-de87-478c-987a-842d86659304"
      },
      "execution_count": null,
      "outputs": [
        {
          "output_type": "stream",
          "name": "stdout",
          "text": [
            "Files already downloaded and verified\n"
          ]
        }
      ]
    },
    {
      "cell_type": "markdown",
      "source": [
        "# **2. 모델 설정**\n",
        "\n",
        "이 코드는 일반 GAN과 Conditional GAN(CGAN)의 생성자(Generator)와 판별자(Discriminator)를 정의하고 학습을 위한 설정을 완료하는 과정이다. Generator는 ConvTranspose2d(전치 합성곱) 연산을 이용해 노이즈를 32x32 RGB 이미지로 변환하고, Discriminator는 합성곱 신경망(CNN) 기반으로 입력 이미지가 진짜인지 판별한다. CGAN에서는 nn.Embedding을 활용해 클래스 레이블을 추가 정보로 활용하며, ConditionalDiscriminator는 이미지와 레이블을 채널 차원에서 결합하여 판별하는 구조다. 이후, 모델을 GPU로 이동시키고(.to(device)), 가중치를 초기화(weights_init)하며, BCELoss(이진 교차 엔트로피 손실)를 사용해 학습 손실을 계산하고, Adam 옵티마이저를 설정해 학습할 준비를 마쳐. 학습은 50 에포크 동안 진행될 예정이다!"
      ],
      "metadata": {
        "id": "xi3DABh3salU"
      }
    },
    {
      "cell_type": "code",
      "source": [
        "class Generator(nn.Module):\n",
        "    def __init__(self):\n",
        "        super(Generator, self).__init__()\n",
        "        self.main = nn.Sequential(\n",
        "            nn.ConvTranspose2d(nz, 512, 4, 1, 0, bias=False),\n",
        "            nn.BatchNorm2d(512),\n",
        "            nn.ReLU(True),\n",
        "            nn.ConvTranspose2d(512, 256, 4, 2, 1, bias=False),\n",
        "            nn.BatchNorm2d(256),\n",
        "            nn.ReLU(True),\n",
        "            nn.ConvTranspose2d(256, 128, 4, 2, 1, bias=False),\n",
        "            nn.BatchNorm2d(128),\n",
        "            nn.ReLU(True),\n",
        "            nn.ConvTranspose2d(128, 3, 4, 2, 1, bias=False),\n",
        "            nn.Tanh()\n",
        "        )\n",
        "\n",
        "    def forward(self, input):\n",
        "        return self.main(input)\n",
        "\n",
        "class Discriminator(nn.Module):\n",
        "    def __init__(self):\n",
        "        super(Discriminator, self).__init__()\n",
        "        self.main = nn.Sequential(\n",
        "            nn.Conv2d(3, 128, kernel_size=4, stride=2, padding=1, bias=False),\n",
        "            nn.LeakyReLU(0.2, inplace=True),\n",
        "            nn.Conv2d(128, 256, kernel_size=4, stride=2, padding=1, bias=False),\n",
        "            nn.BatchNorm2d(256),\n",
        "            nn.LeakyReLU(0.2, inplace=True),\n",
        "            nn.Conv2d(256, 512, kernel_size=4, stride=2, padding=1, bias=False),\n",
        "            nn.BatchNorm2d(512),\n",
        "            nn.LeakyReLU(0.2, inplace=True),\n",
        "            nn.Conv2d(512, 1, kernel_size=4, stride=1, padding=0, bias=False),\n",
        "            nn.Sigmoid()\n",
        "        )\n",
        "\n",
        "    def forward(self, x):\n",
        "        return self.main(x).view(-1)"
      ],
      "metadata": {
        "id": "KfsDP7Pf09ET"
      },
      "execution_count": null,
      "outputs": []
    },
    {
      "cell_type": "code",
      "source": [
        "class CGAN_Generator(nn.Module):\n",
        "    def __init__(self):\n",
        "        super(CGAN_Generator, self).__init__()\n",
        "        self.label_emb = nn.Embedding(num_classes, nz)\n",
        "        self.model = Generator()\n",
        "\n",
        "    def forward(self, z, label):\n",
        "        label_embedding = self.label_emb(label).unsqueeze(2).unsqueeze(3)\n",
        "        input = torch.mul(z, label_embedding)\n",
        "        return self.model(input)\n",
        "\n",
        "class ConditionalDiscriminator(nn.Module):\n",
        "    def __init__(self, num_classes):\n",
        "        super(ConditionalDiscriminator, self).__init__()\n",
        "        self.label_emb = nn.Embedding(num_classes, num_classes)\n",
        "        self.model = nn.Sequential(\n",
        "            nn.Conv2d(3 + num_classes, 128, kernel_size=4, stride=2, padding=1, bias=False),\n",
        "            nn.LeakyReLU(0.2, inplace=True),\n",
        "            nn.Conv2d(128, 256, kernel_size=4, stride=2, padding=1, bias=False),\n",
        "            nn.BatchNorm2d(256),\n",
        "            nn.LeakyReLU(0.2, inplace=True),\n",
        "            nn.Conv2d(256, 512, kernel_size=4, stride=2, padding=1, bias=False),\n",
        "            nn.BatchNorm2d(512),\n",
        "            nn.LeakyReLU(0.2, inplace=True),\n",
        "            nn.Conv2d(512, 1, kernel_size=4, stride=1, padding=0, bias=False),\n",
        "            nn.Sigmoid()\n",
        "        )\n",
        "\n",
        "    def forward(self, x, label):\n",
        "        label_embedding = self.label_emb(label).unsqueeze(2).unsqueeze(3).repeat(1, 1, x.size(2), x.size(3))\n",
        "        input = torch.cat([x, label_embedding], dim=1)\n",
        "        return self.model(input).view(-1)\n",
        "\n",
        "G = Generator().to(device).apply(weights_init)\n",
        "D = Discriminator().to(device).apply(weights_init)\n",
        "G_c = CGAN_Generator().to(device).apply(weights_init)\n",
        "D_c = ConditionalDiscriminator(num_classes).to(device).apply(weights_init)\n",
        "\n",
        "criterion = nn.BCELoss()\n",
        "optimizerD_GAN = optim.Adam(D.parameters(), lr=0.0002)\n",
        "optimizerG_GAN = optim.Adam(G.parameters(), lr=0.0002)\n",
        "optimizerD_CGAN = optim.Adam(D_c.parameters(), lr=0.0002)\n",
        "optimizerG_CGAN = optim.Adam(G_c.parameters(), lr=0.0002)\n",
        "\n",
        "# 학습 루프\n",
        "epochs = 50"
      ],
      "metadata": {
        "id": "Vggn7q5F1Ajy"
      },
      "execution_count": null,
      "outputs": []
    },
    {
      "cell_type": "markdown",
      "source": [
        "# **3. 학습하기**\n",
        "\n",
        "이 코드는 GAN과 CGAN을 동시에 학습하는 과정을 구현한 것으로 먼저, dataloader에서 CIFAR-100의 이미지와 레이블을 불러온 후, 각 배치에 대해 GAN과 CGAN의 판별자(Discriminator)와 생성자(Generator)를 번갈아 학습시킨다. GAN 학습에서는 생성자 G가 랜덤 노이즈를 입력받아 가짜 이미지를 생성하고, 판별자 D는 실제 이미지와 가짜 이미지를 구분하는 역할을 한다. 판별자는 실제 이미지를 입력받으면 1(진짜)로, 가짜 이미지를 입력받으면 0(가짜)로 예측하도록 학습하고, 생성자는 판별자를 속여 가짜 이미지를 진짜처럼 보이도록 학습한다. 각각의 손실을 BCE(Binary Cross Entropy) Loss로 계산하고, Adam 옵티마이저를 사용해 가중치를 업데이트한다.\n",
        "\n",
        "CGAN 학습에서는 GAN과 유사하지만, 생성자 G_c와 판별자 D_c가 클래스 레이블 정보를 추가적으로 활용하는 차이가 있다. G_c는 랜덤 노이즈와 함께 특정 클래스의 레이블을 입력받아 해당 클래스의 가짜 이미지를 생성하고, D_c는 이미지와 레이블을 함께 입력받아 진짜/가짜를 판별한다. 판별자는 실제 데이터와 레이블이 짝을 이루면 1(진짜), 가짜 데이터와 레이블이 짝을 이루면 0(가짜)로 예측하도록 학습되며, 생성자는 판별자를 속여 가짜 데이터를 진짜처럼 보이게 만들도록 훈련된다."
      ],
      "metadata": {
        "id": "sGBjodhst0Ud"
      }
    },
    {
      "cell_type": "code",
      "source": [
        "for epoch in range(epochs):\n",
        "    for i, (images, labels) in enumerate(dataloader):\n",
        "        batch_size = images.size(0)\n",
        "\n",
        "        real_labels = torch.ones(batch_size, device=device)\n",
        "        fake_labels = torch.zeros(batch_size, device=device)\n",
        "\n",
        "        D.zero_grad()\n",
        "        real_images = images.to(device)\n",
        "        output = D(real_images)\n",
        "        loss_real = criterion(output, real_labels)\n",
        "\n",
        "        noise = torch.randn(batch_size, nz, 1, 1, device=device)\n",
        "        fake_images = G(noise)\n",
        "        output = D(fake_images.detach())\n",
        "        loss_fake = criterion(output, fake_labels)\n",
        "\n",
        "        loss_D_GAN = (loss_real + loss_fake) / 2\n",
        "        loss_D_GAN.backward()\n",
        "        optimizerD_GAN.step()\n",
        "\n",
        "        G.zero_grad()\n",
        "        output = D(fake_images)\n",
        "        loss_G_GAN = criterion(output, real_labels)\n",
        "        loss_G_GAN.backward()\n",
        "        optimizerG_GAN.step()\n",
        "\n",
        "        D_c.zero_grad()\n",
        "        label_emb = labels.to(device)\n",
        "\n",
        "        output = D_c(real_images, label_emb)\n",
        "        loss_real_c = criterion(output, real_labels)\n",
        "\n",
        "        noise = torch.randn(batch_size, nz, 1, 1, device=device)\n",
        "        fake_images_c = G_c(noise, label_emb)\n",
        "        output = D_c(fake_images_c.detach(), label_emb)\n",
        "        loss_fake_c = criterion(output, fake_labels)\n",
        "\n",
        "        loss_D_CGAN = (loss_real_c + loss_fake_c) / 2\n",
        "        loss_D_CGAN.backward()\n",
        "        optimizerD_CGAN.step()\n",
        "\n",
        "        G_c.zero_grad()\n",
        "        output = D_c(fake_images_c, label_emb)\n",
        "        loss_G_CGAN = criterion(output, real_labels)\n",
        "        loss_G_CGAN.backward()\n",
        "        optimizerG_CGAN.step()\n",
        "\n",
        "    print(f\"Epoch [{epoch+1}/{epochs}] | GAN Loss D: {loss_D_GAN.item():.4f} | GAN Loss G: {loss_G_GAN.item():.4f} | CGAN Loss D: {loss_D_CGAN.item():.4f} | CGAN Loss G: {loss_G_CGAN.item():.4f}\")"
      ],
      "metadata": {
        "colab": {
          "base_uri": "https://localhost:8080/"
        },
        "id": "XI29oghu1IxS",
        "outputId": "387e8292-2cfc-45de-ccff-1f1648ea882f"
      },
      "execution_count": null,
      "outputs": [
        {
          "output_type": "stream",
          "name": "stdout",
          "text": [
            "Epoch [1/50] | GAN Loss D: 0.0237 | GAN Loss G: 6.2751 | CGAN Loss D: 0.0834 | CGAN Loss G: 2.9788\n",
            "Epoch [2/50] | GAN Loss D: 0.0077 | GAN Loss G: 6.9643 | CGAN Loss D: 0.2378 | CGAN Loss G: 1.8079\n",
            "Epoch [3/50] | GAN Loss D: 0.0228 | GAN Loss G: 8.4066 | CGAN Loss D: 0.3451 | CGAN Loss G: 2.3149\n",
            "Epoch [4/50] | GAN Loss D: 0.0035 | GAN Loss G: 7.5532 | CGAN Loss D: 0.4971 | CGAN Loss G: 0.8850\n",
            "Epoch [5/50] | GAN Loss D: 0.0060 | GAN Loss G: 10.0809 | CGAN Loss D: 2.4695 | CGAN Loss G: 7.0333\n",
            "Epoch [6/50] | GAN Loss D: 0.0033 | GAN Loss G: 10.4914 | CGAN Loss D: 0.1846 | CGAN Loss G: 2.5358\n",
            "Epoch [7/50] | GAN Loss D: 0.0130 | GAN Loss G: 7.6993 | CGAN Loss D: 0.0863 | CGAN Loss G: 2.6034\n",
            "Epoch [8/50] | GAN Loss D: 0.0193 | GAN Loss G: 5.5524 | CGAN Loss D: 0.9611 | CGAN Loss G: 1.9010\n",
            "Epoch [9/50] | GAN Loss D: 0.0258 | GAN Loss G: 5.4258 | CGAN Loss D: 0.3424 | CGAN Loss G: 1.4058\n",
            "Epoch [10/50] | GAN Loss D: 0.0024 | GAN Loss G: 10.5032 | CGAN Loss D: 0.2842 | CGAN Loss G: 2.2597\n",
            "Epoch [11/50] | GAN Loss D: 0.0053 | GAN Loss G: 5.8513 | CGAN Loss D: 0.2237 | CGAN Loss G: 2.3361\n",
            "Epoch [12/50] | GAN Loss D: 0.0340 | GAN Loss G: 6.0783 | CGAN Loss D: 0.2243 | CGAN Loss G: 2.7130\n",
            "Epoch [13/50] | GAN Loss D: 0.0770 | GAN Loss G: 5.5321 | CGAN Loss D: 0.8940 | CGAN Loss G: 0.8102\n",
            "Epoch [14/50] | GAN Loss D: 0.0487 | GAN Loss G: 5.5240 | CGAN Loss D: 0.1674 | CGAN Loss G: 3.3578\n",
            "Epoch [15/50] | GAN Loss D: 0.0504 | GAN Loss G: 6.9698 | CGAN Loss D: 0.3066 | CGAN Loss G: 3.0110\n",
            "Epoch [16/50] | GAN Loss D: 0.1031 | GAN Loss G: 7.4240 | CGAN Loss D: 0.5463 | CGAN Loss G: 1.2283\n",
            "Epoch [17/50] | GAN Loss D: 0.1083 | GAN Loss G: 4.5418 | CGAN Loss D: 0.9384 | CGAN Loss G: 3.0232\n",
            "Epoch [18/50] | GAN Loss D: 0.1342 | GAN Loss G: 9.4274 | CGAN Loss D: 0.5236 | CGAN Loss G: 2.1039\n",
            "Epoch [19/50] | GAN Loss D: 0.0391 | GAN Loss G: 5.4293 | CGAN Loss D: 0.3165 | CGAN Loss G: 1.7775\n",
            "Epoch [20/50] | GAN Loss D: 0.0542 | GAN Loss G: 5.0280 | CGAN Loss D: 0.4152 | CGAN Loss G: 1.4854\n",
            "Epoch [21/50] | GAN Loss D: 0.0648 | GAN Loss G: 6.9184 | CGAN Loss D: 0.4942 | CGAN Loss G: 1.6979\n",
            "Epoch [22/50] | GAN Loss D: 0.2053 | GAN Loss G: 5.8673 | CGAN Loss D: 0.4977 | CGAN Loss G: 1.9473\n",
            "Epoch [23/50] | GAN Loss D: 0.0145 | GAN Loss G: 7.2593 | CGAN Loss D: 0.1452 | CGAN Loss G: 3.9907\n",
            "Epoch [24/50] | GAN Loss D: 0.1040 | GAN Loss G: 3.0710 | CGAN Loss D: 0.4651 | CGAN Loss G: 1.3133\n",
            "Epoch [25/50] | GAN Loss D: 0.0492 | GAN Loss G: 4.7167 | CGAN Loss D: 0.9730 | CGAN Loss G: 1.0938\n",
            "Epoch [26/50] | GAN Loss D: 0.3080 | GAN Loss G: 3.1151 | CGAN Loss D: 0.3030 | CGAN Loss G: 1.3364\n",
            "Epoch [27/50] | GAN Loss D: 0.2087 | GAN Loss G: 4.4173 | CGAN Loss D: 0.3370 | CGAN Loss G: 1.4752\n",
            "Epoch [28/50] | GAN Loss D: 0.1900 | GAN Loss G: 4.7090 | CGAN Loss D: 0.9949 | CGAN Loss G: 0.6348\n",
            "Epoch [29/50] | GAN Loss D: 0.1489 | GAN Loss G: 3.6599 | CGAN Loss D: 0.4128 | CGAN Loss G: 1.2201\n",
            "Epoch [30/50] | GAN Loss D: 0.2093 | GAN Loss G: 3.4932 | CGAN Loss D: 0.1526 | CGAN Loss G: 2.4870\n",
            "Epoch [31/50] | GAN Loss D: 0.0443 | GAN Loss G: 4.5756 | CGAN Loss D: 0.2525 | CGAN Loss G: 1.5350\n",
            "Epoch [32/50] | GAN Loss D: 0.0201 | GAN Loss G: 4.7970 | CGAN Loss D: 0.6467 | CGAN Loss G: 1.5276\n",
            "Epoch [33/50] | GAN Loss D: 0.0918 | GAN Loss G: 4.5008 | CGAN Loss D: 0.5358 | CGAN Loss G: 0.9644\n",
            "Epoch [34/50] | GAN Loss D: 0.0890 | GAN Loss G: 4.2304 | CGAN Loss D: 0.2624 | CGAN Loss G: 1.8582\n",
            "Epoch [35/50] | GAN Loss D: 0.2279 | GAN Loss G: 3.1350 | CGAN Loss D: 0.4081 | CGAN Loss G: 1.8192\n",
            "Epoch [36/50] | GAN Loss D: 0.0165 | GAN Loss G: 7.0073 | CGAN Loss D: 0.4071 | CGAN Loss G: 1.9866\n",
            "Epoch [37/50] | GAN Loss D: 0.3181 | GAN Loss G: 2.9551 | CGAN Loss D: 0.7651 | CGAN Loss G: 0.8732\n",
            "Epoch [38/50] | GAN Loss D: 0.1323 | GAN Loss G: 4.8770 | CGAN Loss D: 0.3349 | CGAN Loss G: 1.6057\n",
            "Epoch [39/50] | GAN Loss D: 0.0816 | GAN Loss G: 4.6614 | CGAN Loss D: 0.4036 | CGAN Loss G: 1.1623\n",
            "Epoch [40/50] | GAN Loss D: 0.1157 | GAN Loss G: 5.7652 | CGAN Loss D: 0.6737 | CGAN Loss G: 1.4936\n",
            "Epoch [41/50] | GAN Loss D: 0.1479 | GAN Loss G: 3.8091 | CGAN Loss D: 0.4360 | CGAN Loss G: 1.3914\n",
            "Epoch [42/50] | GAN Loss D: 0.1086 | GAN Loss G: 3.7921 | CGAN Loss D: 0.2099 | CGAN Loss G: 1.9066\n",
            "Epoch [43/50] | GAN Loss D: 0.2163 | GAN Loss G: 3.4800 | CGAN Loss D: 0.1077 | CGAN Loss G: 2.6954\n",
            "Epoch [44/50] | GAN Loss D: 0.1147 | GAN Loss G: 4.5570 | CGAN Loss D: 0.6464 | CGAN Loss G: 2.2480\n",
            "Epoch [45/50] | GAN Loss D: 0.0723 | GAN Loss G: 4.1883 | CGAN Loss D: 0.3089 | CGAN Loss G: 2.3217\n",
            "Epoch [46/50] | GAN Loss D: 0.0499 | GAN Loss G: 6.2124 | CGAN Loss D: 0.4125 | CGAN Loss G: 1.3432\n",
            "Epoch [47/50] | GAN Loss D: 0.2712 | GAN Loss G: 4.0541 | CGAN Loss D: 0.2041 | CGAN Loss G: 2.3361\n",
            "Epoch [48/50] | GAN Loss D: 0.0995 | GAN Loss G: 4.5390 | CGAN Loss D: 0.5643 | CGAN Loss G: 1.2653\n",
            "Epoch [49/50] | GAN Loss D: 0.2935 | GAN Loss G: 4.8826 | CGAN Loss D: 0.3363 | CGAN Loss G: 1.2893\n",
            "Epoch [50/50] | GAN Loss D: 0.1055 | GAN Loss G: 3.6884 | CGAN Loss D: 0.4538 | CGAN Loss G: 1.7324\n"
          ]
        }
      ]
    },
    {
      "cell_type": "markdown",
      "source": [
        "# **4. 학습 결과 생성하기**\n",
        "\n",
        "이 코드는 GAN과 CGAN을 이용해 새로운 이미지를 생성하고 시각화하는 함수들을 정의한것으로, generate_gan_images(G, num_images=5) 함수는 학습된 GAN 생성자 G를 사용해 랜덤 노이즈에서 이미지를 생성하고, generate_cgan_images(G_c, class_idx, num_images=5) 함수는 CGAN 생성자 G_c를 이용해 특정 클래스(class_idx)의 이미지를 생성한다. 두 함수 모두 평가 모드(eval())로 전환한 후, 랜덤 노이즈를 입력받아 가짜 이미지를 생성하고, [-1, 1] 범위로 정규화된 출력을 [0, 1]로 변환한 뒤, matplotlib을 사용해 이미지를 출력한다. GAN은 무작위 이미지를 생성하지만, CGAN은 특정 클래스(class_idx)에 해당하는 이미지를 생성할 수 있는 특징이 있다. 마지막으로, generate_gan_images(G, num_images=5)를 호출해 일반 GAN 이미지를 생성하고, generate_cgan_images(G_c, class_idx=3, num_images=5)를 호출해 CIFAR-100에서 지정한 클래스의 가짜 이미지를 생성해 출력하는 것이다!"
      ],
      "metadata": {
        "id": "TD9cYW3buY0I"
      }
    },
    {
      "cell_type": "code",
      "source": [
        "def generate_gan_images(G, num_images=5):\n",
        "    G.eval()  # 평가 모드\n",
        "    noise = torch.randn(num_images, nz, 1, 1, device=device)\n",
        "    with torch.no_grad():\n",
        "        fake_images = G(noise).cpu().numpy()\n",
        "\n",
        "    fake_images = (fake_images + 1) / 2  # [-1, 1] → [0, 1]\n",
        "    fake_images = np.transpose(fake_images, (0, 2, 3, 1))  # (C, H, W) → (H, W, C)\n",
        "\n",
        "    fig, axes = plt.subplots(1, num_images, figsize=(10, 2))\n",
        "    for i in range(num_images):\n",
        "        axes[i].imshow(fake_images[i])\n",
        "        axes[i].axis('off')\n",
        "    plt.show()\n",
        "\n",
        "def generate_cgan_images(G_c, class_idx, num_images=5):\n",
        "    G_c.eval()  # 평가 모드\n",
        "    noise = torch.randn(num_images, nz, 1, 1, device=device)\n",
        "    labels = torch.tensor([class_idx] * num_images, device=device)\n",
        "\n",
        "    with torch.no_grad():\n",
        "        fake_images = G_c(noise, labels).cpu().numpy()\n",
        "\n",
        "    fake_images = (fake_images + 1) / 2  # [-1, 1] → [0, 1]\n",
        "    fake_images = np.transpose(fake_images, (0, 2, 3, 1))  # (C, H, W) → (H, W, C)\n",
        "\n",
        "    fig, axes = plt.subplots(1, num_images, figsize=(10, 2))\n",
        "    for i in range(num_images):\n",
        "        axes[i].imshow(fake_images[i])\n",
        "        axes[i].axis('off')\n",
        "    plt.show()\n",
        "\n",
        "print(\"Generating images using GAN...\")\n",
        "generate_gan_images(G, num_images=5)\n",
        "\n",
        "target_class = 3  \\\n",
        "print(f\"Generating images using CGAN for class {target_class}...\")\n",
        "generate_cgan_images(G_c, class_idx=target_class, num_images=5)\n"
      ],
      "metadata": {
        "id": "MU6CCHfB1TUA",
        "colab": {
          "base_uri": "https://localhost:8080/",
          "height": 358
        },
        "outputId": "4b810b7d-88a6-4293-bac2-125ff9ff010b"
      },
      "execution_count": null,
      "outputs": [
        {
          "output_type": "stream",
          "name": "stdout",
          "text": [
            "Generating images using GAN...\n"
          ]
        },
        {
          "output_type": "display_data",
          "data": {
            "text/plain": [
              "<Figure size 1000x200 with 5 Axes>"
            ],
            "image/png": "[encoded data removed]"
          },
          "metadata": {}
        },
        {
          "output_type": "stream",
          "name": "stdout",
          "text": [
            "Generating images using CGAN for class 3...\n"
          ]
        },
        {
          "output_type": "display_data",
          "data": {
            "text/plain": [
              "<Figure size 1000x200 with 5 Axes>"
            ],
            "image/png": "[encoded data removed]"
          },
          "metadata": {}
        }
      ]
    },
    {
      "cell_type": "markdown",
      "source": [
        "# **5. 결과 분석**\n",
        "\n",
        "GAN의 결과 분석\n",
        "\n",
        "저번 딥러닝 기초 수업에서도 GAN을 이용한 이미지 생성을 실행했었는데, 잘 생성이 되지 않았었다. 아마 그 이유는 Colab에서 돌릴 수 있는 epoch의 한계 때문이지 않을까 생각한다. 그래도 일단 생성 이미지에 대해서 보자면, 1, 2, 3, 4, 5 모두 해상도는 떨어지지만, 얼추 형태가 보이는 무언가를 만들어낸 것을 볼 수 있다. 2번의 경우, 부엉이와 비슷한 무언가인 것 같고, 1번은 해달과 같은 무언가를 나타낸 것 같다. 모든 결과가 얼추 추정할 수 있을 정도의 모습으로 나온 것 같다.\n",
        "\n",
        "CGAN의 결과 분석\n",
        "\n",
        "CGAN의 3번 index는 비버이다. 이미지들을 살펴보면, 2, 5번은 노이즈가 많아 잘 보이지 않지만, 3, 4번을 보면, 얼추 비버라고 생각될 정도의 얼굴 모습을 잡아낸 것을 볼 수 있다. CGAN의 결과가 GAN보다 상대적으로 더 나은 형태를 보이며, 특정 클래스에 대한 구조를 더욱 명확하게 표현하고 있음을 확인할 수 있다. 이는 CGAN이 레이블 정보를 추가로 제공받아 학습하기 때문에, 보다 정교한 이미지 생성을 수행할 수 있기 때문으로 보인다.\n",
        "\n",
        "특히, GAN과 비교했을 때 CGAN은 생성된 이미지에서 클래스의 특징이 보다 뚜렷하게 나타나는 경향을 보였다. 하지만 여전히 일부 이미지에서는 노이즈가 심하게 발생하거나, 형태가 흐릿하게 보이는 한계점이 존재했다. 이는 데이터셋의 복잡도, 모델 구조, 학습 epoch 수 등의 영향을 받은 결과로 보인다.\n",
        "\n",
        "비교 및 결론\n",
        "\n",
        "GAN과 CGAN을 비교해 보면, CGAN이 클래스 정보를 활용하여 보다 명확한 특징을 잡아낼 수 있는 장점이 있지만, 완벽한 품질의 이미지를 생성하는 데에는 여전히 부족함이 있었다. 특히, 학습 시간이 제한된 환경에서는 더욱 이러한 한계가 두드러졌다.\n",
        "\n",
        "추후 개선을 위해 고려할 수 있는 점들은 다음과 같다:\n",
        "\n",
        "- Epoch 증가: 충분한 학습을 통해 보다 정교한 결과를 도출할 수 있음\n",
        "\n",
        "- 데이터 증강: 학습 데이터의 다양성을 높여 모델이 더 나은 일반화 성능을 갖도록 유도\n",
        "\n",
        "- 모델 구조 개선: ResNet 기반의 발전된 생성 모델을 활용하여 품질 개선\n",
        "\n",
        "- 고해상도 이미지 생성: Progressive GAN과 같은 기법을 적용하여 이미지 해상도를 높이는 방법 고려\n",
        "\n",
        "이러한 개선을 통해 보다 현실적인 이미지를 생성할 수 있을 것으로 기대된다.\n",
        "\n",
        "논문과 다른점\n",
        "\n",
        "gan의 원 저자는 generator를 만들 때, MLP 만을 사용한 것으로 알고 있다. 하지만, 과제 자체가 CNN을 사용하라는 명시가 있었기 때문에 이를 고려해서 모델을 구성하였다.\n",
        "\n"
      ],
      "metadata": {
        "id": "glxdVcC5LTwg"
      }
    }
  ]
}