{
  "cells": [
    {
      "cell_type": "code",
      "execution_count": null,
      "id": "967f5c9d-0603-4c4a-a63e-994fa4ab5fea",
      "metadata": {
        "execution": {
          "execution_failed": "2025-02-24T12:40:36.078Z"
        },
        "id": "967f5c9d-0603-4c4a-a63e-994fa4ab5fea"
      },
      "outputs": [],
      "source": [
        "!pip install datasets\n",
        "!pip install wandb"
      ]
    },
    {
      "cell_type": "code",
      "execution_count": null,
      "id": "2f3ee6b6-8a66-4cb0-8a64-1e2a57245e2e",
      "metadata": {
        "execution": {
          "iopub.execute_input": "2025-02-24T07:13:54.303442Z",
          "iopub.status.busy": "2025-02-24T07:13:54.302904Z",
          "iopub.status.idle": "2025-02-24T07:15:43.064158Z",
          "shell.execute_reply": "2025-02-24T07:15:43.063145Z",
          "shell.execute_reply.started": "2025-02-24T07:13:54.303391Z"
        },
        "id": "2f3ee6b6-8a66-4cb0-8a64-1e2a57245e2e",
        "outputId": "21d05a53-58d7-4bc1-a734-6d09c2beb084"
      },
      "outputs": [
        {
          "name": "stdout",
          "output_type": "stream",
          "text": [
            "Defaulting to user installation because normal site-packages is not writeable\n",
            "Looking in indexes: http://repo.ai.gato/registry/repository/pypi-proxy/simple\n",
            "Requirement already satisfied: pandas in /usr/gatoai/python/venv/jupyter-4.3.5-py3.10/lib/python3.10/site-packages (2.2.3)\n",
            "Requirement already satisfied: numpy>=1.22.4 in /usr/gatoai/python/venv/3.10/lib/python3.10/site-packages (from pandas) (1.26.4)\n",
            "Requirement already satisfied: python-dateutil>=2.8.2 in /usr/gatoai/python/venv/pytorch-2.6.0-cuda12.4-py3.10/lib/python3.10/site-packages (from pandas) (2.9.0.post0)\n",
            "Requirement already satisfied: pytz>=2020.1 in /usr/gatoai/python/venv/jupyter-4.3.5-py3.10/lib/python3.10/site-packages (from pandas) (2025.1)\n",
            "Requirement already satisfied: tzdata>=2022.7 in /usr/gatoai/python/venv/jupyter-4.3.5-py3.10/lib/python3.10/site-packages (from pandas) (2025.1)\n",
            "Requirement already satisfied: six>=1.5 in /usr/gatoai/python/venv/pytorch-2.6.0-cuda12.4-py3.10/lib/python3.10/site-packages (from python-dateutil>=2.8.2->pandas) (1.17.0)\n",
            "\n",
            "\u001b[1m[\u001b[0m\u001b[34;49mnotice\u001b[0m\u001b[1;39;49m]\u001b[0m\u001b[39;49m A new release of pip is available: \u001b[0m\u001b[31;49m25.0\u001b[0m\u001b[39;49m -> \u001b[0m\u001b[32;49m25.0.1\u001b[0m\n",
            "\u001b[1m[\u001b[0m\u001b[34;49mnotice\u001b[0m\u001b[1;39;49m]\u001b[0m\u001b[39;49m To update, run: \u001b[0m\u001b[32;49mpython -m pip install --upgrade pip\u001b[0m\n"
          ]
        }
      ],
      "source": [
        "!pip install --upgrade pandas"
      ]
    },
    {
      "cell_type": "code",
      "execution_count": null,
      "id": "7e63e35c-cbb3-4065-8cbf-17d0d72983dc",
      "metadata": {
        "execution": {
          "iopub.execute_input": "2025-02-24T07:22:22.189831Z",
          "iopub.status.busy": "2025-02-24T07:22:22.188454Z",
          "iopub.status.idle": "2025-02-24T07:24:44.303212Z",
          "shell.execute_reply": "2025-02-24T07:24:44.301403Z",
          "shell.execute_reply.started": "2025-02-24T07:22:22.189790Z"
        },
        "id": "7e63e35c-cbb3-4065-8cbf-17d0d72983dc",
        "outputId": "66095ddd-df22-4e41-f7fe-73db1f3aeb8d"
      },
      "outputs": [
        {
          "name": "stdout",
          "output_type": "stream",
          "text": [
            "Defaulting to user installation because normal site-packages is not writeable\n",
            "Looking in indexes: http://repo.ai.gato/registry/repository/pypi-proxy/simple\n",
            "Requirement already satisfied: evaluate in /usr/gatoai/python/venv/3.10/lib/python3.10/site-packages (0.4.3)\n",
            "Requirement already satisfied: datasets>=2.0.0 in /usr/gatoai/python/venv/3.10/lib/python3.10/site-packages (from evaluate) (3.2.0)\n",
            "Requirement already satisfied: numpy>=1.17 in /usr/gatoai/python/venv/3.10/lib/python3.10/site-packages (from evaluate) (1.26.4)\n",
            "Requirement already satisfied: dill in /usr/gatoai/python/venv/3.10/lib/python3.10/site-packages (from evaluate) (0.3.8)\n",
            "Requirement already satisfied: pandas in /usr/gatoai/python/venv/jupyter-4.3.5-py3.10/lib/python3.10/site-packages (from evaluate) (2.2.3)\n",
            "Requirement already satisfied: requests>=2.19.0 in /usr/gatoai/python/venv/jupyter-4.3.5-py3.10/lib/python3.10/site-packages (from evaluate) (2.32.3)\n",
            "Requirement already satisfied: tqdm>=4.62.1 in /usr/gatoai/python/venv/jupyter-4.3.5-py3.10/lib/python3.10/site-packages (from evaluate) (4.67.1)\n",
            "Requirement already satisfied: xxhash in /usr/gatoai/python/venv/3.10/lib/python3.10/site-packages (from evaluate) (3.5.0)\n",
            "Requirement already satisfied: multiprocess in /usr/gatoai/python/venv/3.10/lib/python3.10/site-packages (from evaluate) (0.70.16)\n",
            "Requirement already satisfied: fsspec>=2021.05.0 in /usr/gatoai/python/venv/jupyter-4.3.5-py3.10/lib/python3.10/site-packages (from fsspec[http]>=2021.05.0->evaluate) (2025.2.0)\n",
            "Requirement already satisfied: huggingface-hub>=0.7.0 in /usr/gatoai/python/venv/3.10/lib/python3.10/site-packages (from evaluate) (0.27.1)\n",
            "Requirement already satisfied: packaging in /usr/gatoai/python/venv/jupyter-4.3.5-py3.10/lib/python3.10/site-packages (from evaluate) (24.2)\n",
            "Requirement already satisfied: filelock in /usr/gatoai/python/venv/3.10/lib/python3.10/site-packages (from datasets>=2.0.0->evaluate) (3.17.0)\n",
            "Requirement already satisfied: pyarrow>=15.0.0 in /usr/gatoai/python/venv/jupyter-4.3.5-py3.10/lib/python3.10/site-packages (from datasets>=2.0.0->evaluate) (19.0.0)\n",
            "Collecting fsspec>=2021.05.0 (from fsspec[http]>=2021.05.0->evaluate)\n",
            "  Using cached http://repo.ai.gato/registry/repository/pypi-proxy/packages/fsspec/2024.9.0/fsspec-2024.9.0-py3-none-any.whl (179 kB)\n",
            "Requirement already satisfied: aiohttp in /usr/gatoai/python/venv/jupyter-4.3.5-py3.10/lib/python3.10/site-packages (from datasets>=2.0.0->evaluate) (3.11.12)\n",
            "Requirement already satisfied: pyyaml>=5.1 in /usr/gatoai/python/venv/pytorch-2.6.0-cuda12.4-py3.10/lib/python3.10/site-packages (from datasets>=2.0.0->evaluate) (6.0.2)\n",
            "Requirement already satisfied: typing-extensions>=3.7.4.3 in /usr/gatoai/python/venv/pytorch-2.6.0-cuda12.4-py3.10/lib/python3.10/site-packages (from huggingface-hub>=0.7.0->evaluate) (4.12.2)\n",
            "Requirement already satisfied: charset-normalizer<4,>=2 in /usr/gatoai/python/venv/jupyter-4.3.5-py3.10/lib/python3.10/site-packages (from requests>=2.19.0->evaluate) (3.4.1)\n",
            "Requirement already satisfied: idna<4,>=2.5 in /usr/gatoai/python/venv/jupyter-4.3.5-py3.10/lib/python3.10/site-packages (from requests>=2.19.0->evaluate) (3.10)\n",
            "Requirement already satisfied: urllib3<3,>=1.21.1 in /usr/gatoai/python/venv/pytorch-2.6.0-cuda12.4-py3.10/lib/python3.10/site-packages (from requests>=2.19.0->evaluate) (1.26.20)\n",
            "Requirement already satisfied: certifi>=2017.4.17 in /usr/gatoai/python/venv/jupyter-4.3.5-py3.10/lib/python3.10/site-packages (from requests>=2.19.0->evaluate) (2025.1.31)\n",
            "Requirement already satisfied: python-dateutil>=2.8.2 in /usr/gatoai/python/venv/pytorch-2.6.0-cuda12.4-py3.10/lib/python3.10/site-packages (from pandas->evaluate) (2.9.0.post0)\n",
            "Requirement already satisfied: pytz>=2020.1 in /usr/gatoai/python/venv/jupyter-4.3.5-py3.10/lib/python3.10/site-packages (from pandas->evaluate) (2025.1)\n",
            "Requirement already satisfied: tzdata>=2022.7 in /usr/gatoai/python/venv/jupyter-4.3.5-py3.10/lib/python3.10/site-packages (from pandas->evaluate) (2025.1)\n",
            "Requirement already satisfied: aiohappyeyeballs>=2.3.0 in /usr/gatoai/python/venv/jupyter-4.3.5-py3.10/lib/python3.10/site-packages (from aiohttp->datasets>=2.0.0->evaluate) (2.4.4)\n",
            "Requirement already satisfied: aiosignal>=1.1.2 in /usr/gatoai/python/venv/jupyter-4.3.5-py3.10/lib/python3.10/site-packages (from aiohttp->datasets>=2.0.0->evaluate) (1.3.2)\n",
            "Requirement already satisfied: async-timeout<6.0,>=4.0 in /usr/gatoai/python/venv/jupyter-4.3.5-py3.10/lib/python3.10/site-packages (from aiohttp->datasets>=2.0.0->evaluate) (5.0.1)\n",
            "Requirement already satisfied: attrs>=17.3.0 in /usr/gatoai/python/venv/jupyter-4.3.5-py3.10/lib/python3.10/site-packages (from aiohttp->datasets>=2.0.0->evaluate) (25.1.0)\n",
            "Requirement already satisfied: frozenlist>=1.1.1 in /usr/gatoai/python/venv/jupyter-4.3.5-py3.10/lib/python3.10/site-packages (from aiohttp->datasets>=2.0.0->evaluate) (1.5.0)\n",
            "Requirement already satisfied: multidict<7.0,>=4.5 in /usr/gatoai/python/venv/jupyter-4.3.5-py3.10/lib/python3.10/site-packages (from aiohttp->datasets>=2.0.0->evaluate) (6.1.0)\n",
            "Requirement already satisfied: propcache>=0.2.0 in /usr/gatoai/python/venv/jupyter-4.3.5-py3.10/lib/python3.10/site-packages (from aiohttp->datasets>=2.0.0->evaluate) (0.2.1)\n",
            "Requirement already satisfied: yarl<2.0,>=1.17.0 in /usr/gatoai/python/venv/jupyter-4.3.5-py3.10/lib/python3.10/site-packages (from aiohttp->datasets>=2.0.0->evaluate) (1.18.3)\n",
            "Requirement already satisfied: six>=1.5 in /usr/gatoai/python/venv/pytorch-2.6.0-cuda12.4-py3.10/lib/python3.10/site-packages (from python-dateutil>=2.8.2->pandas->evaluate) (1.17.0)\n",
            "Installing collected packages: fsspec\n",
            "\u001b[31mERROR: pip's dependency resolver does not currently take into account all the packages that are installed. This behaviour is the source of the following dependency conflicts.\n",
            "cudf-cu12 24.12.0 requires numba-cuda<0.0.18,>=0.0.13, which is not installed.\n",
            "s3fs 2025.2.0 requires fsspec==2025.2.0.*, but you have fsspec 2024.9.0 which is incompatible.\n",
            "cudf-cu12 24.12.0 requires pyarrow<19.0.0a0,>=14.0.0; platform_machine == \"x86_64\", but you have pyarrow 19.0.0 which is incompatible.\u001b[0m\u001b[31m\n",
            "\u001b[0mSuccessfully installed fsspec-2024.9.0\n",
            "\n",
            "\u001b[1m[\u001b[0m\u001b[34;49mnotice\u001b[0m\u001b[1;39;49m]\u001b[0m\u001b[39;49m A new release of pip is available: \u001b[0m\u001b[31;49m25.0\u001b[0m\u001b[39;49m -> \u001b[0m\u001b[32;49m25.0.1\u001b[0m\n",
            "\u001b[1m[\u001b[0m\u001b[34;49mnotice\u001b[0m\u001b[1;39;49m]\u001b[0m\u001b[39;49m To update, run: \u001b[0m\u001b[32;49mpython -m pip install --upgrade pip\u001b[0m\n"
          ]
        }
      ],
      "source": [
        "!pip install evaluate"
      ]
    },
    {
      "cell_type": "code",
      "execution_count": null,
      "id": "f7d8f0b0-444e-4f42-9f05-3b060de48965",
      "metadata": {
        "execution": {
          "iopub.execute_input": "2025-02-24T12:40:46.977702Z",
          "iopub.status.busy": "2025-02-24T12:40:46.977194Z",
          "iopub.status.idle": "2025-02-24T12:40:49.423513Z",
          "shell.execute_reply": "2025-02-24T12:40:49.422132Z",
          "shell.execute_reply.started": "2025-02-24T12:40:46.977651Z"
        },
        "colab": {
          "referenced_widgets": [
            "f3ba17803892483e9b353a213ba2e6c3"
          ]
        },
        "id": "f7d8f0b0-444e-4f42-9f05-3b060de48965",
        "outputId": "af57b156-0e05-461a-f94f-7ae876e357fe"
      },
      "outputs": [
        {
          "data": {
            "application/vnd.jupyter.widget-view+json": {
              "model_id": "f3ba17803892483e9b353a213ba2e6c3",
              "version_major": 2,
              "version_minor": 0
            },
            "text/plain": [
              "VBox(children=(HTML(value='<center> <img\\nsrc=https://huggingface.co/front/assets/huggingface_logo-noborder.sv…"
            ]
          },
          "metadata": {},
          "output_type": "display_data"
        }
      ],
      "source": [
        "from huggingface_hub import notebook_login\n",
        "\n",
        "notebook_login()"
      ]
    },
    {
      "cell_type": "code",
      "execution_count": null,
      "id": "b35d24cd-1136-4441-ad6c-da2aa37ec4fe",
      "metadata": {
        "execution": {
          "iopub.execute_input": "2025-02-24T12:40:57.976673Z",
          "iopub.status.busy": "2025-02-24T12:40:57.976280Z",
          "iopub.status.idle": "2025-02-24T12:41:08.935602Z",
          "shell.execute_reply": "2025-02-24T12:41:08.934546Z",
          "shell.execute_reply.started": "2025-02-24T12:40:57.976639Z"
        },
        "id": "b35d24cd-1136-4441-ad6c-da2aa37ec4fe",
        "outputId": "309908e5-4a4c-49a0-f886-2b713178f8d3"
      },
      "outputs": [
        {
          "name": "stderr",
          "output_type": "stream",
          "text": [
            "\u001b[34m\u001b[1mwandb\u001b[0m: Currently logged in as: \u001b[33mhyobink1027\u001b[0m (\u001b[33mhyobink1027-kookmin-university\u001b[0m) to \u001b[32mhttps://api.wandb.ai\u001b[0m. Use \u001b[1m`wandb login --relogin`\u001b[0m to force relogin\n"
          ]
        },
        {
          "data": {
            "text/plain": [
              "True"
            ]
          },
          "execution_count": 2,
          "metadata": {},
          "output_type": "execute_result"
        }
      ],
      "source": [
        "import wandb\n",
        "\n",
        "wandb.login()"
      ]
    },
    {
      "cell_type": "markdown",
      "id": "3f9b0357-f36f-4be4-ae68-48d5d39544c3",
      "metadata": {
        "id": "3f9b0357-f36f-4be4-ae68-48d5d39544c3"
      },
      "source": [
        "# 데이터 전처리"
      ]
    },
    {
      "cell_type": "code",
      "execution_count": null,
      "id": "f7abd292-52b3-4b15-95a8-851fa2fb578b",
      "metadata": {
        "execution": {
          "iopub.execute_input": "2025-02-24T12:41:27.447949Z",
          "iopub.status.busy": "2025-02-24T12:41:27.447195Z",
          "iopub.status.idle": "2025-02-24T12:45:01.630056Z",
          "shell.execute_reply": "2025-02-24T12:45:01.629098Z",
          "shell.execute_reply.started": "2025-02-24T12:41:27.447897Z"
        },
        "id": "f7abd292-52b3-4b15-95a8-851fa2fb578b",
        "outputId": "aaa5ad50-f0b6-4180-d10f-24cb13e163a8"
      },
      "outputs": [
        {
          "name": "stderr",
          "output_type": "stream",
          "text": [
            "\u001b[34m\u001b[1mwandb\u001b[0m: Using wandb-core as the SDK backend.  Please refer to https://wandb.me/wandb-core for more information.\n"
          ]
        },
        {
          "data": {
            "text/html": [
              "Tracking run with wandb version 0.19.6"
            ],
            "text/plain": [
              "<IPython.core.display.HTML object>"
            ]
          },
          "metadata": {},
          "output_type": "display_data"
        },
        {
          "data": {
            "text/html": [
              "Run data is saved locally in <code>/home/20203057/wandb/run-20250224_214341-mlanhl8b</code>"
            ],
            "text/plain": [
              "<IPython.core.display.HTML object>"
            ]
          },
          "metadata": {},
          "output_type": "display_data"
        },
        {
          "data": {
            "text/html": [
              "Syncing run <strong><a href='https://wandb.ai/hyobink1027-kookmin-university/KoT5_finetuning/runs/mlanhl8b' target=\"_blank\">kot5-finetune</a></strong> to <a href='https://wandb.ai/hyobink1027-kookmin-university/KoT5_finetuning' target=\"_blank\">Weights & Biases</a> (<a href='https://wandb.me/developer-guide' target=\"_blank\">docs</a>)<br>"
            ],
            "text/plain": [
              "<IPython.core.display.HTML object>"
            ]
          },
          "metadata": {},
          "output_type": "display_data"
        },
        {
          "data": {
            "text/html": [
              " View project at <a href='https://wandb.ai/hyobink1027-kookmin-university/KoT5_finetuning' target=\"_blank\">https://wandb.ai/hyobink1027-kookmin-university/KoT5_finetuning</a>"
            ],
            "text/plain": [
              "<IPython.core.display.HTML object>"
            ]
          },
          "metadata": {},
          "output_type": "display_data"
        },
        {
          "data": {
            "text/html": [
              " View run at <a href='https://wandb.ai/hyobink1027-kookmin-university/KoT5_finetuning/runs/mlanhl8b' target=\"_blank\">https://wandb.ai/hyobink1027-kookmin-university/KoT5_finetuning/runs/mlanhl8b</a>"
            ],
            "text/plain": [
              "<IPython.core.display.HTML object>"
            ]
          },
          "metadata": {},
          "output_type": "display_data"
        },
        {
          "name": "stdout",
          "output_type": "stream",
          "text": [
            "DatasetDict({\n",
            "    train: Dataset({\n",
            "        features: ['id', 'title', 'context', 'question', 'answers'],\n",
            "        num_rows: 60407\n",
            "    })\n",
            "    validation: Dataset({\n",
            "        features: ['id', 'title', 'context', 'question', 'answers'],\n",
            "        num_rows: 5774\n",
            "    })\n",
            "})\n",
            "trainable params: 884,736 || all params: 223,788,288 || trainable%: 0.3953\n"
          ]
        }
      ],
      "source": [
        "from datasets import load_dataset\n",
        "from transformers import (\n",
        "    AutoTokenizer,\n",
        "    T5ForConditionalGeneration,\n",
        "    Seq2SeqTrainer,\n",
        "    Seq2SeqTrainingArguments,\n",
        "    BitsAndBytesConfig,\n",
        "    EarlyStoppingCallback\n",
        ")\n",
        "from peft import LoraConfig, get_peft_model, prepare_model_for_kbit_training\n",
        "import torch\n",
        "import wandb\n",
        "\n",
        "\n",
        "# 1. W&B 초기화 (학습 시작 직전에 실행)\n",
        "wandb.init(project=\"KoT5_finetuning\", name=\"kot5-finetune\")\n",
        "\n",
        "# 2. 데이터셋 불러오기 (KorQuAD)\n",
        "korquad = load_dataset(\"KorQuAD/squad_kor_v1\")\n",
        "print(korquad)\n",
        "\n",
        "# 3. QLoRA 설정 (4-bit 양자화)\n",
        "bnb_config = BitsAndBytesConfig(\n",
        "    load_in_4bit=True,\n",
        "    bnb_4bit_quant_type=\"nf4\",\n",
        "    bnb_4bit_compute_dtype=torch.bfloat16,\n",
        "    bnb_4bit_use_double_quant=True\n",
        ")\n",
        "\n",
        "# 4. KoT5 모델 & 토크나이저 로드 (QLoRA 적용)\n",
        "model_name = \"wisenut-nlp-team/KoT5-base\"\n",
        "tokenizer = AutoTokenizer.from_pretrained(model_name)\n",
        "model = T5ForConditionalGeneration.from_pretrained(model_name, quantization_config=bnb_config, device_map=\"auto\")\n",
        "\n",
        "# 5. LoRA 설정 (적용 모듈 추가)\n",
        "lora_config = LoraConfig(\n",
        "    r=8,\n",
        "    lora_alpha=32,\n",
        "    lora_dropout=0.1,\n",
        "    target_modules=[\"q\", \"v\"],\n",
        "    bias=\"none\",\n",
        "    task_type=\"SEQ_2_SEQ_LM\"\n",
        ")\n",
        "\n",
        "# 6. LoRA 적용 (순서 확인)\n",
        "model = prepare_model_for_kbit_training(model)  # QLoRA 훈련 준비\n",
        "model = get_peft_model(model, lora_config)  # LoRA 적용\n",
        "model.print_trainable_parameters()  # trainable parameters 확인\n",
        "\n",
        "# 7. 데이터 전처리 함수\n",
        "def preprocess_function(examples):\n",
        "    inputs = []\n",
        "    outputs = []\n",
        "\n",
        "    for question, context, answer_dict in zip(examples[\"question\"], examples[\"context\"], examples[\"answers\"]):\n",
        "        answer = answer_dict[\"text\"][0]\n",
        "\n",
        "        input_text = f\"질문: {question} \\n맥락: {context} \\n정답을 생성하세요.\" + \" \" + tokenizer.eos_token\n",
        "        output_text = f\" {answer}\" + \" \" + tokenizer.eos_token\n",
        "\n",
        "        inputs.append(input_text)\n",
        "        outputs.append(output_text)\n",
        "\n",
        "    model_inputs = tokenizer(inputs, max_length=256, truncation=True, padding='max_length')\n",
        "    labels = tokenizer(outputs, max_length=256, truncation=True, padding='max_length')[\"input_ids\"]\n",
        "    model_inputs[\"labels\"] = [[(token if token != tokenizer.pad_token_id else -100) for token in seq] for seq in labels]\n",
        "\n",
        "    return model_inputs\n",
        "\n",
        "# 8. 전처리 적용\n",
        "tokenized_korquad = korquad.map(preprocess_function, batched=True, remove_columns=korquad[\"train\"].column_names)\n"
      ]
    },
    {
      "cell_type": "markdown",
      "id": "291044df-1cae-4aa7-a06b-07b2e8848fe8",
      "metadata": {
        "id": "291044df-1cae-4aa7-a06b-07b2e8848fe8"
      },
      "source": [
        "## KorQuAD dataset\n",
        "- 구조 : id, title, context, question, answer (답변의 시작 위치 포함)\n",
        "\n",
        "## 모델 선택\n",
        "처음에는 falcon-rw-1b 모델을 선택하고 finetuning을 진행하였다. 하지만 이 모델은 영어로 학습이 된 모델이라 글자가 깨지는 현상이 발생하였다.\n",
        "따라서 한국어로 학습을 시킨 모델인 KoT5로 선정하였다.\n",
        "\n",
        "### KoT5\n",
        "T5(Text-to-Text Transfer Transformer)는 Google Research에서 개발한 모델로 모든 텍스트 기반 작업을 text-text 형식으로 변환하여 처리한다. Encoder-Decoder 구조로 이루어져 있다. Encoder는 input text를 처리하고 context를 이해하는데 사용되며, decoder는 encoder의 출력을 기반으로 새로운 text를 생성한다.T5는 text 분류, 번역, 질의응답, 요약 등 다양한 작업에서 뛰어난 성능을 보인다. KoT5는 T5를 한국어 데이터로 학습시킨 모델로, 한국어 text 분류, 번역, 질의응답 등 다양한 작업에 활용될 수 있다.\n",
        "\n",
        "## QLoRA\n",
        "QLoRA를 사용하여 4-bit quantization 설정을 구성하였다.\n",
        "- load_in_4bit=True\n",
        "    - 모델을 4-bit로 양자화하여 GPU 메모리 사용량을 대폭 감소\n",
        "- bnb_4bit_quant_type=\"nf4\"\n",
        "    - NF4 (NormalFloat4): 4-bit 양자화 중에서도 높은 정밀도를 유지하는 포맷\n",
        "- bnb_4bit_compute_dtype=torch.bfloat16\n",
        "    - 연산 시 bfloat16을 사용해 속도와 정밀도의 균형을 맞춤\n",
        "- bnb_4bit_use_double_quant=True\n",
        "    - 추가 양자화 적용으로 메모리 사용량을 추가로 감소\n",
        "\n",
        "QLoRA를 사용하여 메모리의 사용량을 줄이면서 성능 저하를 최소화하였다.\n",
        "\n",
        "## LoRA\n",
        "LoRA를 적용하여 일부 레이어만 finetuning하였다.\n",
        "- r\n",
        "    - rank 값으로, 적은 수의 파라미터만 업데이트\n",
        "- lora_alpha\n",
        "    - scaling 계수\n",
        "- lora_dropout\n",
        "    - dropout 적용\n",
        "- target_modules=[\"q\", \"v\"]\n",
        "    - Attention layer의 query와 value에만 LoRA 적용\n",
        "- bias=\"none\"\n",
        "    - 기존의 bias는 업데이트하지 않음\n",
        "- task_type=\"SEQ_2_SEQ_LM\"\n",
        "    - 시퀀스-to-시퀀스 학습임을 명시\n",
        "모델 전체를 학습시키지 않고 일부 레이어만 업데이트하여 메모리와 연산 비용을 줄였다.\n",
        "\n",
        "## 입력 포맷 조정\n",
        "프롬프트 형식으로 입력을 재구성하였고 KoT5에 맞게 question-context-answer를 토큰으로 변환하였다. PAD 토큰을 제거하여 Loss 계산의 정확성을 높였다.\n",
        "\n",
        "기존 column(question, context, answer)를 제거 후, tokenized dataset 생성하였다."
      ]
    },
    {
      "cell_type": "code",
      "execution_count": null,
      "id": "9bcd81a3-a945-4bda-afc6-22e44f31e285",
      "metadata": {
        "execution": {
          "iopub.execute_input": "2025-02-24T12:45:01.635024Z",
          "iopub.status.busy": "2025-02-24T12:45:01.633676Z",
          "iopub.status.idle": "2025-02-24T15:19:10.951151Z",
          "shell.execute_reply": "2025-02-24T15:19:10.949932Z",
          "shell.execute_reply.started": "2025-02-24T12:45:01.634984Z"
        },
        "id": "9bcd81a3-a945-4bda-afc6-22e44f31e285",
        "outputId": "a048d037-b8e1-481e-9fe3-bfc3e4690bcd"
      },
      "outputs": [
        {
          "name": "stderr",
          "output_type": "stream",
          "text": [
            "/usr/gatoai/python/venv/3.10/lib/python3.10/site-packages/transformers/training_args.py:1575: FutureWarning: `evaluation_strategy` is deprecated and will be removed in version 4.46 of 🤗 Transformers. Use `eval_strategy` instead\n",
            "  warnings.warn(\n",
            "/tmp/ipykernel_15918/2771610206.py:28: FutureWarning: `tokenizer` is deprecated and will be removed in version 5.0.0 for `Seq2SeqTrainer.__init__`. Use `processing_class` instead.\n",
            "  trainer = Seq2SeqTrainer(\n",
            "Detected kernel version 3.10.0, which is below the recommended minimum of 5.5.0; this can cause the process to hang. It is recommended to upgrade the kernel to the minimum version or higher.\n",
            "`use_cache=True` is incompatible with gradient checkpointing. Setting `use_cache=False`...\n"
          ]
        },
        {
          "data": {
            "text/html": [
              "\n",
              "    <div>\n",
              "      \n",
              "      <progress value='7000' max='30204' style='width:300px; height:20px; vertical-align: middle;'></progress>\n",
              "      [ 7000/30204 2:34:00 < 8:30:38, 0.76 it/s, Epoch 0/2]\n",
              "    </div>\n",
              "    <table border=\"1\" class=\"dataframe\">\n",
              "  <thead>\n",
              " <tr style=\"text-align: left;\">\n",
              "      <th>Step</th>\n",
              "      <th>Training Loss</th>\n",
              "      <th>Validation Loss</th>\n",
              "    </tr>\n",
              "  </thead>\n",
              "  <tbody>\n",
              "    <tr>\n",
              "      <td>500</td>\n",
              "      <td>4.777800</td>\n",
              "      <td>4.893693</td>\n",
              "    </tr>\n",
              "    <tr>\n",
              "      <td>1000</td>\n",
              "      <td>0.667400</td>\n",
              "      <td>0.403998</td>\n",
              "    </tr>\n",
              "    <tr>\n",
              "      <td>1500</td>\n",
              "      <td>0.534200</td>\n",
              "      <td>0.318126</td>\n",
              "    </tr>\n",
              "    <tr>\n",
              "      <td>2000</td>\n",
              "      <td>0.499800</td>\n",
              "      <td>0.296151</td>\n",
              "    </tr>\n",
              "    <tr>\n",
              "      <td>2500</td>\n",
              "      <td>0.384300</td>\n",
              "      <td>0.294296</td>\n",
              "    </tr>\n",
              "    <tr>\n",
              "      <td>3000</td>\n",
              "      <td>0.327600</td>\n",
              "      <td>0.284961</td>\n",
              "    </tr>\n",
              "    <tr>\n",
              "      <td>3500</td>\n",
              "      <td>0.365300</td>\n",
              "      <td>0.267470</td>\n",
              "    </tr>\n",
              "    <tr>\n",
              "      <td>4000</td>\n",
              "      <td>0.426700</td>\n",
              "      <td>0.268030</td>\n",
              "    </tr>\n",
              "    <tr>\n",
              "      <td>4500</td>\n",
              "      <td>0.287200</td>\n",
              "      <td>0.271772</td>\n",
              "    </tr>\n",
              "    <tr>\n",
              "      <td>5000</td>\n",
              "      <td>0.266200</td>\n",
              "      <td>0.256603</td>\n",
              "    </tr>\n",
              "    <tr>\n",
              "      <td>5500</td>\n",
              "      <td>0.340100</td>\n",
              "      <td>0.246487</td>\n",
              "    </tr>\n",
              "    <tr>\n",
              "      <td>6000</td>\n",
              "      <td>0.272300</td>\n",
              "      <td>0.255847</td>\n",
              "    </tr>\n",
              "    <tr>\n",
              "      <td>6500</td>\n",
              "      <td>0.329600</td>\n",
              "      <td>0.258515</td>\n",
              "    </tr>\n",
              "    <tr>\n",
              "      <td>7000</td>\n",
              "      <td>0.384300</td>\n",
              "      <td>0.254746</td>\n",
              "    </tr>\n",
              "  </tbody>\n",
              "</table><p>"
            ],
            "text/plain": [
              "<IPython.core.display.HTML object>"
            ]
          },
          "metadata": {},
          "output_type": "display_data"
        },
        {
          "name": "stderr",
          "output_type": "stream",
          "text": [
            "Passing a tuple of `past_key_values` is deprecated and will be removed in Transformers v4.48.0. You should pass an instance of `EncoderDecoderCache` instead, e.g. `past_key_values=EncoderDecoderCache.from_legacy_cache(past_key_values)`.\n"
          ]
        },
        {
          "data": {
            "text/html": [],
            "text/plain": [
              "<IPython.core.display.HTML object>"
            ]
          },
          "metadata": {},
          "output_type": "display_data"
        },
        {
          "data": {
            "text/html": [
              "<br>    <style><br>        .wandb-row {<br>            display: flex;<br>            flex-direction: row;<br>            flex-wrap: wrap;<br>            justify-content: flex-start;<br>            width: 100%;<br>        }<br>        .wandb-col {<br>            display: flex;<br>            flex-direction: column;<br>            flex-basis: 100%;<br>            flex: 1;<br>            padding: 10px;<br>        }<br>    </style><br><div class=\"wandb-row\"><div class=\"wandb-col\"><h3>Run history:</h3><br/><table class=\"wandb\"><tr><td>eval/loss</td><td>█▁▁▁▁▁▁▁▁▁▁▁▁▁</td></tr><tr><td>eval/runtime</td><td>▄▃▅▃▃▄▂▁▂▁▇▅▅█</td></tr><tr><td>eval/samples_per_second</td><td>▄▅▄▅▅▄▆▇▇█▂▃▃▁</td></tr><tr><td>eval/steps_per_second</td><td>▄▅▄▅▅▄▆▇▇█▂▃▃▁</td></tr><tr><td>train/epoch</td><td>▁▁▁▁▁▂▂▂▂▃▃▃▃▃▃▄▄▄▄▄▄▄▅▅▅▅▅▅▅▅▆▆▆▆▆▇▇███</td></tr><tr><td>train/global_step</td><td>▁▁▁▁▂▂▂▂▃▃▃▃▄▄▄▄▄▄▅▅▅▅▅▅▆▆▆▆▆▇▇▇▇▇▇█████</td></tr><tr><td>train/grad_norm</td><td>▃█▃▂▃▃▆▄▄▂▅▄▁▄▁▂▄▄▇▂▄▂▄▁▂▁▃▂▃▆▂▃▃▁▁▃▂▃▃▃</td></tr><tr><td>train/learning_rate</td><td>▁▂▇██████████▇▇▇▇▇▇▇▇▇▇▇▇▇▇▇▇▇▇▇▇▇▇▆▆▆▆▆</td></tr><tr><td>train/loss</td><td>████▆▁▂▂▁▁▁▁▁▁▁▁▁▁▁▁▁▁▁▁▁▁▁▁▁▁▁▁▁▁▁▁▁▁▁▁</td></tr></table><br/></div><div class=\"wandb-col\"><h3>Run summary:</h3><br/><table class=\"wandb\"><tr><td>eval/loss</td><td>0.25475</td></tr><tr><td>eval/runtime</td><td>352.4003</td></tr><tr><td>eval/samples_per_second</td><td>16.385</td></tr><tr><td>eval/steps_per_second</td><td>4.098</td></tr><tr><td>total_flos</td><td>8563461193728000.0</td></tr><tr><td>train/epoch</td><td>0.46351</td></tr><tr><td>train/global_step</td><td>7000</td></tr><tr><td>train/grad_norm</td><td>3.93899</td></tr><tr><td>train/learning_rate</td><td>0.00016</td></tr><tr><td>train/loss</td><td>0.3843</td></tr><tr><td>train_loss</td><td>0.9105</td></tr><tr><td>train_runtime</td><td>9245.8004</td></tr><tr><td>train_samples_per_second</td><td>13.067</td></tr><tr><td>train_steps_per_second</td><td>3.267</td></tr></table><br/></div></div>"
            ],
            "text/plain": [
              "<IPython.core.display.HTML object>"
            ]
          },
          "metadata": {},
          "output_type": "display_data"
        },
        {
          "data": {
            "text/html": [
              " View run <strong style=\"color:#cdcd00\">kot5-finetune</strong> at: <a href='https://wandb.ai/hyobink1027-kookmin-university/KoT5_finetuning/runs/mlanhl8b' target=\"_blank\">https://wandb.ai/hyobink1027-kookmin-university/KoT5_finetuning/runs/mlanhl8b</a><br> View project at: <a href='https://wandb.ai/hyobink1027-kookmin-university/KoT5_finetuning' target=\"_blank\">https://wandb.ai/hyobink1027-kookmin-university/KoT5_finetuning</a><br>Synced 5 W&B file(s), 0 media file(s), 0 artifact file(s) and 0 other file(s)"
            ],
            "text/plain": [
              "<IPython.core.display.HTML object>"
            ]
          },
          "metadata": {},
          "output_type": "display_data"
        },
        {
          "data": {
            "text/html": [
              "Find logs at: <code>./wandb/run-20250224_214341-mlanhl8b/logs</code>"
            ],
            "text/plain": [
              "<IPython.core.display.HTML object>"
            ]
          },
          "metadata": {},
          "output_type": "display_data"
        }
      ],
      "source": [
        "# 7. 학습 설정 (QLoRA에 맞는 learning_rate 조정)\n",
        "training_args = Seq2SeqTrainingArguments(\n",
        "    output_dir=\"./kot5-korquad\",\n",
        "    evaluation_strategy=\"steps\",\n",
        "    eval_steps=500,\n",
        "    learning_rate=2e-4,\n",
        "    per_device_train_batch_size=4,\n",
        "    per_device_eval_batch_size=4,\n",
        "    num_train_epochs=2,\n",
        "    weight_decay=0.01,\n",
        "    save_total_limit=1,\n",
        "    predict_with_generate=True,\n",
        "    report_to=\"wandb\",\n",
        "    logging_dir=\"./logs_kot5\",\n",
        "    logging_steps=50,\n",
        "    run_name=\"kot5-korquad-finetune\",\n",
        "    warmup_steps=500,\n",
        "    save_strategy=\"steps\",\n",
        "    save_steps=500,\n",
        "    load_best_model_at_end=True,\n",
        "    metric_for_best_model=\"eval_loss\",\n",
        "    greater_is_better=False,\n",
        "    gradient_checkpointing=True\n",
        ")\n",
        "\n",
        "\n",
        "# 8. Trainer 초기화\n",
        "trainer = Seq2SeqTrainer(\n",
        "    model=model,\n",
        "    args=training_args,\n",
        "    train_dataset=tokenized_korquad[\"train\"],\n",
        "    eval_dataset=tokenized_korquad[\"validation\"],\n",
        "    tokenizer=tokenizer,\n",
        "    callbacks=[EarlyStoppingCallback(early_stopping_patience=3)]  # Early Stopping 적용\n",
        ")\n",
        "\n",
        "# 9. Fine-tuning 시작\n",
        "trainer.train()\n",
        "\n",
        "wandb.finish()\n"
      ]
    },
    {
      "cell_type": "markdown",
      "source": [
        "![image.png](data:image/png;base64,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)"
      ],
      "metadata": {
        "id": "82rkOr8BvNG0"
      },
      "id": "82rkOr8BvNG0"
    },
    {
      "cell_type": "markdown",
      "source": [
        "![image.png](data:image/png;base64,iVBORw0KGgoAAAANSUhEUgAAA1AAAAHYCAYAAABDZwmtAAAABHNCSVQICAgIfAhkiAAAABl0RVh0U29mdHdhcmUAZ25vbWUtc2NyZWVuc2hvdO8Dvz4AAABEaVRYdENyZWF0aW9uIFRpbWUAAAAAADIwMjXrhYQgMDLsm5QgMjXsnbwgKO2ZlCkg7Jik7KCEIDAx7IucIDEy67aEIDM07LSIYrSbVQAAIABJREFUeJzs3Xl8W/Wd7//3kXQkeUss2ZYSJ0jZbQIJECh7ICUUCpSy02mhD26XS2faR6fT+fUuj870Me20t3fur7/7u12m/T3mzp122ulG6VCgLGELewgQIDRszp5YceJd3q3tnN8fkh07thMlka3t9XzAw/JZvvomdiS9z/f7/RwjFovZmqClpUVr1qwRAAAAAGAyR747AAAAAADFggAFAAAAAFkiQAEAAABAlghQAAAAAJAlAhQAAAAAZIkABQAAAABZIkABAAAAQJYIUAAAAACQJQIUAAAAAGSJAAUAAAAAWSJAAQAAAECWCFAAAAAAkCUCFAAAAABkiQAFAAAAAFkiQAEAAABAlghQAAAAAJAlAhQAAAAAZIkABQAAAABZIkABAAAAQJYIUAAAAACQJQIUAAAAAGSJAAUAAAAAWSJAAQAAAECWCFAAAAAAkCUCFAAAAABkiQAFAAAAAFkiQAEAAABAlghQAAAAAJAlAhQAAAAAZIkABQAAAABZIkABAAAAQJYIUAAAAACQJQIUAAAAAGSJAAUAAAAAWSJAAQAAAECWCFAAgILS1dWlz937F7rp1ju0e/eeSfsGBgb0X//mG/r+D/9RbYePzHgcAACzhQAFACganV1dOnz4iJqbm2S6nPnuDgCgDBGgAABFwbZt7du3X7ZtacWyZTIMI99dAgCUIVe+OwAAKD579u7Tv/zsX7X11ddkWSlddOGFuvfzn1PjwgX6h//7/9HzL76kv/+7b2j95ZfJMAy9+PLL+rtvfUfXXXuNPveZe/T4pif1xFNPad/+AzJNUzdc91F99jP3yFdbO+NzJpNJtezcqUAgoIaGBiUS8SnHWJal17e9oX/9xS/1zrvvyuN26+KLLtRnP3OPli1dKklqbY3oX/7153r+hRdlGIYuvOB8ff6zn9GKFcuPuw8AAIkRKADASYpEDunvv/NdbX31NV14wfm6/NJL9db27fr+D3+koaFhfehDF8iyLO14510lk0klk0m98857sm1b5687T4NDQ9r05FOKxWK69pqPaOWK5br/3x/QL3/1G8UTiRmfd3BoSLt279GqlStUVVU5Zb9t29r2xpv6u7//jv60Y4fOO/cchUJn6KlnNuub3/5vikQOqa+vXz/4xx/r6Wc2a9155+raj1ytoeFhDQ4NHXcfAABjGIECAGTNsixt2bpV+w8c0Je/9Be69eabJEm//u19+uWvf6s9e/fq7NWrFQwE9M6772pgYECGYWjHO++osXGhmppWqXHhQv3kR99XZWWlnE6n9uzZq//0X7+ut7ZvV180OuPUvPb2dnV1datp1So5nVPXP8ViMW164kn19fXp3s9/Vp++61MaGRnR//je/9Tm557XSy9v0WWXXqK2tjYtXrRIX/7SF7UkHBo/P3Lo0Iz7AAAYwwgUACBryVRKBw+2anR0VN/7n/9Ll6zfoEvWb9CPfvz/aXh4WIODgwoGA1q75mwdOHhQrZFDOtTWpoMHW3XuOWvVUF8vwzA0ODikH/zox/rM5+/VF7/8FR1qa9PAwKCGR0amfV7btrV79x65XE4tWRKeNmQNDQ0rcqhN8+fN03nnniuXy6WqqipdcMH5cjgc2nfggPx+nz52w/WKHDqkL335K/rm339He/bukyQtCAZn3AcAwBhGoAAAJ83pdOrPPnGHLvrQh8bDjGmaWrZ0qbxery644Hw9+/wL2vHOOzJkKBaP6/zzzpNpmtq7b5++9e3v6vCRw7r7U5/UWatX6//9wQ81Ojoq27Knfb54PK733v9AixcvVkN9/Sn32+Vy6c7bb1PojDP0wIMP6enNz+qZZ5/T//XVr+jjH7vhuPscDq45AgAIUACAk+ByOhUKnSHDMBTtjWrN2WepsnLqeqSzVp+pQEODXnjxJUmGFgSDam5ukmVZeva5F7R3377xYBI5dEhWyjru8/b19Wvf/v26/LLL5PV6pz2mqqpSixc1asc77+it7dt19lmrNTIyom3b3pBlWVoSDsnlcml4eFiXXHyRLrv0Ej33/Av69nf/Qdu3v61rPnK1UsnktPuuveYjqpjheQEA5YUABQDImsPh0KUXX6xHHntcjz/xpLp7erRi+XJ1dXUpGAzos//hHnm9XgUDAZ2zdo0efuRRSdKtt9yk+ro6GYahefNqZFmWfvPb+/T++x/o1ddf1+HDR7R48SJJktPlksfjVm80qpdf2apQ6AwdamtT/8CAmlatHB8JOva4P7vzdn302mu0Zeur+j8//Ve9tf1tDQ4O6t333lfTqpW6/NJLtXPXLn3z2/9NTatW6qoNG/Tq668rFoupsbFRe/fu1be/+w/T7jNdvF0CANKc3/jGN745cUN3d7eCwWCeugMAKHTz5s3Teeeco2g0qq1bX9Vbb7+t0VhMF5x/vppWrZRpmnI6nYrF49ryyityuZz61Cc+oeXLlsnhcKi+vk77DxzQjnfe1f4DB3X5ZZeqvq5O/QMDuubqqxVoaNDQ4JBe27ZNtm3rwgs/pG3b3lBbW5tuvulGVVdVSZLcpjnpuEsuvkjLly3TqpUrtf/AQb21/W319kZ1xfrL9bW//istCYdlWZa6u3v03PMv6tHHHlf7kXbd8+m7dOftt8ntds+4r6KiIs9/6wCAQmHEYrFJE85bWlq0Zs2afPUHAIBJxirpebxe/fVXviyPx5PvLgEAyhgrYgEABa27p0etkUM6s7lJpmnmuzsAgDJHgAIAFLQDBw4qFotp5YrlVMIDAOQdU/gAAAAAIEtcygMAAACALBGgAAAAACBLBCgAAAAAyBIBCgAAAACyRIACAAAAgCwRoAAAAAAgSwQoAAAAAMgSAQoAAAAAskSAAgAAAIAsEaAAAAAAIEsEKAAAAADIEgEKAAAAALJEgAIAAACALBVkgDp8uEOf+NluWXa+ewIAAAAARxVkgJKkI0OWWnvj+e4GAAAAAIwr2AA1FLcV6UvkuxsAAAAAMK5gA5QktUYZgQIAAABQOAo7QDGFDwAAAEABKdgA1VjjZAofAAAAgIJSsAFqud+p1mhCgzEr310BAAAAAEkFHKBW+NIjUKyDAgAAAFAoCjZALfe7ZFk2AQoAAABAwSjYALWs1ilJrIMCAAAAUDAKNkDVeAyZTkORXgIUAAAAgMJQsAFKkpoDXkagAAAAABSMgg5QTQGPWqNxdQwm890VAAAAACjsANUc8KpzMKkIhSQAAAAAFIDCDlBBrySpNco0PgAAAAD5V9ABalWDR5IUIUABAAAAKAAFHaAchlRX5eJeUAAAAAAKQkEHKCm9Dqo1Gpdt2/nuCgAAAIAyV/ABqingUSSa0AHuBwUAAAAgzwo+QDUHvBqKW9wPCgAAAEDeFUGASheSaO1lHRQAAACA/Cr4ANU435QkCkkAAAAAyLuCD1CStKzOwxQ+AAAAAHlXFAGqqcGjSG9CA7FUvrsCAAAAoIwVRYBqDnoV6UuolRvqAgAAAMijoglQlm0rQiEJAAAAAHlUFAFqVYNbklgHBQAAACCviiJA1Xic8rocTOEDAAAAkFdFEaCko+ugAAAAACBfiiZANQU8au2Nq32AEAUAAAAgP4omQDUHvOoaSirCND4AAAAAeVI0Aaop4JEk1kEBAAAAyJuiCVAr6tMBinVQAAAAAPKlaAKUw5ACNaZao9wLCgAAAEB+FE2AkqTmhnQhCQAAAADIh+IKUJlS5vt6CFEAAAAA5l5RBaimBo+G4xaV+AAAAADkRVEFqOagV5JYBwUAAAAgL4oqQAVrXJKkCAEKAAAAQB4UVYCSpBX1bqbwAQAAAMiLogtQzQGvWqNxDSfsfHcFAAAAQJkpvgAV9Ko1mtD+7li+uwIAAACgzBRdgGoKeCRRSAIAAADA3Cu6ALWiPh2gIn2sgwIAAAAwt4ouQNV4nKpyO9TaywgUAAAAgLlVdAFKSk/ji/Ql890NAAAAAGWmKANUupBEXB2DhCgAAAAAc6c4A1SDR91DSR1kGh8AAACAOVScASrolUQlPgAAAABzqygD1BJ/phJflCl8AAAAAOZOUQYohyEtnOdiBAoAAADAnCrKACVJzQGvIgQoAAAAAHOoeANU0KtIX0J7u2P57goAAACAMlG0AaqpwaPhuMX9oAAAAADMmaINUCsbxgpJMI0PAAAAwNwo2gAVrDElSa3cCwoAAADAHCnaACVJTQGPIn2JfHcDAAAAQJko6gDVHPCqNRpXLGnnuysAAAAAykBRB6imgEeRaEK7u6jEBwAAAGD2FXWAag56JYkb6gIAAACYE0UdoJb63ZKkSJR1UAAAAABmX1EHqBqPU/M8DkagAAAAAMyJog5QUnoaHwEKAAAAwFwo+gCVLiSRVPdQKt9dAQAAAFDichqgbNvWtm3b9V/+y7f0/PNbZNuzX168OeBVz3BSe3uoxAcAAABgduU0QPX09GrLltdkmqYMw8hl0zNaFchU4utlGh8AAACA2ZWzAJVKpfTKK9vk9XoUDDbkqtkTCvsylfj6qMQHAAAAYHa5ctXQvn0HtWvXHl199ZXasuX1rM+Lx2cOPqOjU6flmebULi+uNdXaG1cqxTooAAAAAJLT6ZyVdnMSoIaHh/XSS1t11llnKhw+46QC1MDA4Iz7+vun7quurpqybWWdqYM9ccVijEIBAAAAkCorCzhAbd/+jpLJlC666Hy5XCfX0bo635Rthw93SJICgbqs2li9sFJbD/aoM+YYn9IHAAAAALmWkwC1bdt27dy5R9u37xjftmPHezp06LBuv/3j0067y6XmgFcjCUsHeuIEKAAAAACzJifJ5i//8t7xx8PDI/q3f/udzjxzldavv3hOqvEtq0uHptYoU/gAAAAAzJ6iv5GuJAVrTDkMqTVKKXMAAAAAsyfnc+sqKyv0hS/ck+tmT6g56FWEESgAAAAAs6gkRqAkqbnBo9ZoXImUne+uAAAAAChRpROggl4d6ktoZ+fUe0cBAAAAQC6UTIBqCnglSQd7WQcFAAAAYHaUTIAK+UxJUqSPdVAAAAAAZkfJBKgaj1O+CieV+AAAAADMmpIJUFKmEh9T+AAAAADMkpIKUE0BjyJ9SfWOpPLdFQAAAAAlqKQCVHPAq57hpHZRiQ8AAADALCipALW83iNJirAOCgAAAMAsKKkAFfa5JYlCEgAAAABmRUkFKIchhf1uRaKUMgcAAACQeyUVoCSpqcGjVgIUAAAAgFlQcgGqOehVpC9BiAIAAACQc6UXoAJejSYs7e2mEh8AAACA3Cq5ABX2mZIoJAEAAAAg90ouQAVrTLmdhlp7mcIHAAAAILdKLkBJUlPAo0gfAQoAAABAbpVkgGoOeNUajcuy7Xx3BQAAAEAJKc0AFfSqrS+hlg4KSQAAAADInZIMUCvqPZKkfT0UkgAAAACQOyUZoEKZSnwR7gUFAAAAIIdKMkDVeJyqr3IpQilzAAAAADlUkgFKSlfi415QAAAAAHKpZANUc9CrSDSh/tFUvrsCAAAAoESUbIBqavCodySllk4q8QEAAADIjZINUEvr0pX4DlKJDwAAAECOlGyACvvcksQ6KAAAAAA5U7IBymFIy+rcivRRyhwAAABAbpRsgJKk5oBXrdwLCgAAAECOlHaAylTia2MUCgAAAEAOlHSAWlHvUSxpaWcXlfgAAAAAnL6SDlBhnylJau2lkAQAAACA01fSASpYY6rCdLAOCgAAAEBOlHSAkqSmgIdKfAAAAAByouQDVHPAqwhT+AAAAADkQMkHqKaAR239Ce3spJAEAAAAgNNT8gFqWZ1HkrSbAAUAAADgNJV8gAplKvGxDgoAAADA6Sr5AFXjcSpQ7VJrlHVQAAAAAE5PyQcoSWoOerkXFAAAAIDTVh4BKuBVpC+hwVgq310BAAAAUMTKIkCtanArOpKiEh8AAACA01IWASrsT1fi29vNND4AAAAAp648ApTPLUkUkgAAAABwWsoiQDkMaWWDR5EopcwBAAAAnLqyCFBSupAEI1AAAAAATkfZBKimgEeRvqSO9DMKBQAAAODUlE2AWlbnUTxpUYkPAAAAwCkrmwAV9pmSpP3cUBcAAADAKSqbABWsMVXldihCgAIAAABwisomQElSc9CrSF8y390AAAAAUKTKKkA1NXioxAcAAADglJVVgGoOenW4P6HdXRSSAAAAAHDyyipAhX1uSaISHwAAAIBTUlYBKpSpxNca5V5QAAAAAE5eWQWoGo9TjfNMtVKJDwAAAMApKKsAJaXXQVFIAgAAAMCpKLsA1dTgUaQvoZGEne+uAAAAACgyZReglte71TeSUkvHaL67AgAAAKDIlF2ACvs9kqRdlDIHAAAAcJLKL0BlSplTSAIAAADAySq7AOUwpOaAV5E+SpkDAAAAODllF6AkqSngUYRKfAAAAABOUlkGqOagV5FoQp1DyXx3BQAAAEARKcsAFfa5FU/ZammnEh8AAACA7JVpgDIlSXu7mcYHAAAAIHuuXDQyODikxx57Sm+++SfF43GtWrVcGzZcrqamFTIMIxdPkVPBGlPzvE61sg4KAAAAwEnISYAaGBhUVVWl7r33Hs2fX6MnnnhWTz75rBYuXKD582ty8RQ51xykEh8AAACAk5OTALVwYVA33HCNJMm2ba1cuUxHjnQomSzcgNLc4NGTLQP57gYAAACAIpLzNVCHD7dry5bX1NgYVE1Nda6bz5kVDR4dGUhob3cs310BAAAAUCRyMgIlpddB/fM//0J79uzXokULtX79JXK73Sc8r7OzZ8Z97e1dU7ZVV1edVj/HBLy2JGlHZEBBr5WTNgEAAAAUhqqqillpN2cBqrq6Sl/96l8oGu3TH//4hO677w+6++47FQjUH/c8n2/elG1jocrnmz9ln8vlzEl/Vy5I/9HbBm1VVHhy0iYAAACA0pazADWmtna+Nm68Qr/4xX1qazt8wgDlcs3cBbfbzHX3xs2vcOiMWrcifUk5HGVZzR0AAADAScpJcnjuuZf1m988oGi0T6lUSh98sEu2bau+vi4Xzc+apoCHUuYAAAAAspaTEajVq5u0Y8f7+tu//a6cTqdWrVquO++8SYsWLcxF87OmOeDVaweHFU/ZcjsL735VAAAAAApLTgJUIFCvL3/587loak4t8ZvqH03pg/ZRrW2cnUVmAAAAAEpHWS/+CfvTxSN2dlLKHAAAAMCJlXeA8rnldBg62Ms6KAAAAAAnVtYBymFITQ0eRfoS+e4KAAAAgCJQ1gFKkpqDXrUyAgUAAAAgC2UfoFY1pEuZ9wyn8t0VAAAAAAWu7ANUyOdW0pI+6BjNd1cAAAAAFLiyD1BhnylJ2kUlPgAAAAAnUPYBKlhjyl/pUmuUdVAAAAAAjq/sA5QkNQU8ikSpxAcAAADg+AhQkpoDXrUSoAAAAACcAAFK0tI6t9oHEtxQFwAAAMBxEaAkhX1uSVTiAwAAAHB8BChJoUwlvj3djEABAAAAmBkBSlKNx6mwz63WXtZBAQAAAJgZASqjOehVhFLmAAAAAI6DAJXR1OBRpC+hpGXnuysAAAAAChQBKiPkM9U/mtLOzli+uwIAAACgQBGgMsJ+jyTpg3Yq8QEAAACYHgEqI+xzy+1yaB+V+AAAAADMgACV4TCk5sw6KAAAAACYDgFqguagV61U4gMAAAAwAwLUBMvq3GqNxhUdSeW7KwAAAAAKEAFqgpDPrZQlKvEBAAAAmBYBaoKwz5QkfdBBJT4AAAAAUxGgJgjWmKqvculAD+ugAAAAAExFgDoGhSQAAAAAzIQAdYwmSpkDAAAAmAEB6hhhv1sdA0lFooQoAAAAAJMRoI4R9rklSS0UkgAAAABwDALUMUKZSnwtlDIHAAAAcAwC1DFqPE4tq/MoQiEJAAAAAMcgQE0jXYmPNVAAAAAAJiNATWNFnVuRaEKWbee7KwAAAAAKCAFqGiGfqYFYSjs7mcYHAAAA4CgC1DTCfo8kKvEBAAAAmIwANY2wz60K06FdVOIDAAAAMAEBahoOQ2oOeBXpo5AEAAAAgKMIUDNoCnjU2ssaKAAAAABHEaBmsMTvVms0rv7RVL67AgAAAKBAEKBmEPK5ZdnSTtZBAQAAAMggQM0g7DMlUYkPAAAAwFEEqBkEa0wFa1za0806KAAAAABpBKjjaA56FaGQBAAAAIAMAtRxrKjzUMocAAAAwDgC1HGE/W51DCbV1k+IAgAAAECAOq6wzy1J2tlBJT4AAAAABKjjClGJDwAAAMAEBKjjqPE4tarBo/0UkgAAAAAgAtQJNQU8aiVAAQAAABAB6oSW+j2K9CXz3Q0AAAAABYAAdQIhn6nBWEo7OykkAQAAAJQ7AtQJhP0eSSJAAQAAACBAnUjY51a1x0ElPgAAAAAEqBNxGFJTg0cHe7mZLgAAAFDuCFBZaAp41RqlEh8AAABQ7ghQWQj53IpE4xqKW/nuCgAAAIA8IkBlIeRzy7Kllg4KSQAAAADljACVhbDPlEQlPgAAAKDcEaCyEKwx1Tjf1E4q8QEAAABljQCVpeaAh0ISAAAAQJkjQGVpqd+jSB+lzAEAAIByRoDKUtjvVudgUu0DhCgAAACgXBGgshT2uSVJLRSSAAAAAMoWASpLIZ8pw5Ba2ikkAQAAAJQrAlSWajxONTV4tKebQhIAAABAuSJAnYSmgJdKfAAAAEAZI0CdhLDPrUiUIhIAAABAuXLlopFUKqVt27Zr8+YX1dPTq7POatbHPnat6uv9uWi+YIR8pobilvZ0xbS83pPv7gAAAACYYzkZgWpp2a3W1jZ9+tN36s///DPq7x/Qo48+qVistKa7hf3p0EQlPgAAAKA85WQEavXqJq1e3SRJsm1bl1zyIW3duk0jIyPyeNy5eIqCEPa5Nb/CqZaOUV1/5rx8dwcAAADAHMtJgJrItm319PSquroqq/A0NDQ8476+voEp2yoqvKfVv9O1ss6tPV0xxeOshQIAAAAKldttzkq7OQ9Qra1teuutHdq48Qp5vScOO6mUNeM+y5q6z7bt0+rf6VpeZ2rLgZG89wMAAADA3MtpgOrvH9CmTU8rEGjQWWc1yzCME54zb171lG1jo1I+3/xcdi8nltZX6Hdv98t2mvK6TvznAwAAAFA6clbGfGBgUA888IgMw6FbbrlelZUVuWq6oIR8btmSWjpG890VAAAAAHMsJwGqr29Av/3tHxSLxXXnnTfJ56vNRbMFKexLz6Vs6aASHwAAAFBucjKF79VXt2nHjvdkWZZ27HhPkuR0OnX77R/X5ZdflNVUvmIRrDF1Rq3JCBQAAABQhnISoK655sO65poP56KpotAc9OpAb2nd4woAAADAieVsDVQ5CdW6FYlSxhwAAAAoNwSoUxD2u9U1lFTXUCrfXQEAAAAwhwhQpyDsS98gmHVQAAAAQHkhQJ2CkM+U0yG1dFKJDwAAACgnBKhTUONxqjngVUs7I1AAAABAOSFAnaIV9R61RqnEBwAAAJQTAtQpCvvcivRRiQ8AAAAoJwSoUxTymRqOW9rXzTooAAAAoFwQoE5R2O+RJO2kkAQAAABQNghQpyjsc8tf6aQSHwAAAFBGCFCnyGFIzQGvdhOgAAAAgLJBgDoNS/xutUYpJAEAAACUCwLUaQj53GqNxhVP2fnuCgAAAIA5QIA6DSGfW5LU0sENdQEAAIByQIA6DWGfKYlKfAAAAEC5IECdhmCNqSV+t1o6CFAAAABAOSBAnaaV9R7t6SJAAQAAAOWAAHWaQj63In1U4gMAAADKAQHqNIX9bnUPJdUznMp3VwAAAADMMgLUaQpTiQ8AAAAoGwSo0xTymXK7DCrxAQAAAGWAAHWaajxONQe8aiFAAQAAACWPAJUDS/1u7e8mQAEAAACljgCVA2Eq8QEAAABlgQCVAyGfqeG4pYNRQhQAAABQyghQORD2eyRJLe1U4gMAAABKGQEqB8I+txqqXVTiAwAAAEocASoHHIa0st7DvaAAAACAEkeAypElfrcORuP57gYAAACAWUSAypGQz61INKGUZee7KwAAAABmCQEqR0I+tyRxQ10AAACghBGgciTsMyWJdVAAAABACSNA5UiwxtTyeg+V+AAAAIASRoDKoWV+t1o6CFAAAABAqSJA5dBYIQkAAAAApYkAlUNhv1s9w0n1jaby3RUAAAAAs4AAlUPhsUp8TOMDAAAAShIBKodCPlOVpoNKfAAAAECJIkDlUI3Hqaagl0p8AAAAQIkiQOVYqNbUbgIUAAAAUJIIUDkW9rnVGo3nuxsAAAAAZgEBKsdCPlOjSVuH+ihnDgAAAJQaAlSOhf0eSaKQBAAAAFCCCFA5Fva5tWCeSSlzAAAAoAQRoHLMYUjL/G4q8QEAAAAliAA1C5b43drbTYACAAAASg0BahaEfG4d6kvItvPdEwAAAAC5RICaBSGfW5KYxgcAAACUGALULAj7TElU4gMAAABKDQFqFgRrTK1q8KiFESgAAACgpBCgZknYRyU+AAAAoNQQoGZJyOfWgZ54vrsBAAAAIIcIULMk7HerZzipgVgq310BAAAAkCMEqFkSphIfAAAAUHIIULMk5DNV7XaopZ1KfAAAAECpIEDNkhqPUysDXirxAQAAACWEADWLQrUmU/gAAACAEkKAmkVhn1sHe6nEBwAAAJQKAtQsCvlMxZK2Dvcn8t0VAAAAADlAgJpFYb9HEpX4AAAAgFJBgJpFYZ9bjfNNtXRQiQ8AAAAoBQSoWeQwpCU+t1o6GIECAAAASgEBapYt8bu1q4sABQAAAJQCAtQsC/ncauujiAQAAABQCghQsyzkc0uSdlFIAgAAACh6BKhZFvaZMkQlPgAAAKAU5CRA2batzs4uPfTQ4/qbv/mOtm7dJtu2c9F00QvWmFoZ8FCJDwAAACgBORuB6unp1ejoqFwuV66aLBnhWrdaGIECAAAAil5O0o5hGGpqWqlgMKD29s5cNFlSQj63tkX68t0NAAAAAKcp78MP1/DgAAAef0lEQVRFljXzVD/LsqZsMwxjNrszK0I+U73DSQ3FUqp0s+wMAAAAmG2zlRvyHqA6O7tm3NfR0T1lW3V11Wx2Z1YEK9Ih8e3Wfq1d4MlzbwAAAIDSV11dOSvt5j1ABYMNU7YdPtwhSVqwYOq+YtRkejTf26XWQUOXztIPEgAAAMDsYz7ZHKjxOLWs3qOWdirxAQAAAMWMADVHQrUmlfgAAACAIpeTKXzd3T36p3/6udrajkiSdu7cowceeESf+cyndOaZq3LxFEUv7HPr8ff7890NAAAAAKchJwGqrs6vr3/9q7loqmSFfKbiKVsdAwkFasx8dwcAAADAKWAK3xwJ+9PV95jGBwAAABQvAtQcCfvcWlxrqqWDQhIAAABAsSJAzRGHIYVq3drJCBQAAABQtAhQc2iJ362WDgIUAAAAUKwIUHMo5HPrUF8i390AAAAAcIoIUHMo5HNLkvZ2MwoFAAAAFCMC1BwK+0y5HAbT+AAAAIAiRYCaQ8EaU8vq3VTiAwAAAIoUAWqOhanEBwAAABQtAtQcC/kIUAAAAECxIkDNsbDfrehISrGkne+uAAAAADhJBKg5Fs5U4mMdFAAAAFB8CFBzLOQz5a90qoVpfAAAAEDRIUDNsRqPU2G/hxEoAAAAoAgRoPIgVGtqJ/eCAgAAAIoOASoPwj63dncRoAAAAIBiQ4DKg5DPVDxlq3s4le+uAAAAADgJBKg8CPs9kqSWdtZBAQAAAMWEAJUHYZ9bi2tNKvEBAAAARYYAlQcOQwrVuqnEBwAAABQZAlSeLPG7tZMRKAAAAKCoEKDyJORz62BvPN/dAAAAAHASCFB5EvK5JUn7exiFAgAAAIoFASpPwj5THpeDaXwAAABAESFA5UmwxlTYb6qlg2l8AAAAQLEgQOVRmEp8AAAAQFEhQOVRyEclPgAAAKCYEKDyKOx3q2c4qUTKzndXAAAAAGSBAJVH4UwlPqbxAQAAAMWBAJVHIZ8pf6WTaXwAAABAkSBA5VGNx6mw36MWAhQAAABQFAhQeRaqNZnCBwAAABQJAlSehX1u7exgBAoAAAAoBgSoPAv5TMVTtnpHUvnuCgAAAIATIEDlWdjvkUQlPgAAAKAYEKDyLOxza3GtyTQ+AAAAoAgQoPLMYUihWjeV+AAAAEqcZVl6+unn9cMf/m91d/dkfV4ikdQjjzypV199Q7Ztz3jcrl179b3v/UgHDkRO2GY8Htcvf3m/7r//YSUSyaz7Ikm9vVH94Af/pK1btx23P6WKAFUAlvjdTOEDAAAocJZl6Y9/fEIPP7xJlmWd9PmGYWjVqhW69NILVV1dnfV5Q0ND6u2NavHiRhmGcdLPW4ja2o7oxz/+F7W1Hcl3V04aAaoAhHxu7e+J57sbAAAAOI5UytLoaEzSqY26GIahUGiRLrjgXHk87qzPO3y4XaZpyu/3ndLzHq8/+RKPx5VIJPL2/KfDle8OIB2gJOmvHzqk+iqnGqpN1Vc5VV/lmvQYAAAA+TE6GtOvfnW/3nprhyTpmWde1K23fkyNjUE98cSzamxcoHff/UBnn71aS5eGtHnzC2ptPaTKygpt3Hil1q+/RC6XU88/v0XvvvuBPv3pO5VKpfTrX/+7/H6furq61dnZrXD4DN1yy/XjYSmVSungwYgaGxfI43ErlUpp27btevbZl9TR0aV4PH0R/sorL9Patasn9TmRSGrLlle1efNL6u/v1/LlS/Xxj1+nUGiRJMm2bR050q6f/ORftH//QdXV+fWxj12rc845S4ODQ3riiWe1ffsODQwMatWq5brllhvU2LjgpP7eurq6tWnTZr399rvyeNxav/5iLVgQ1C9/+TuNjIzqu9/9XwqFFunee+/R8PCIHn54k1padqu2dr5uuOEjWrdurZLJpH7/+z8qGu2Tw2Goq6tHTqdT1113tc4556w5D4J8Ki8AYZ+ptY0V2t0V09b9ScVTU69q1FakQ1Q6VLkyj4+GrUCNqUC1S47SGNUFAAAoKF6vR3fddYecTqdqa+fr4x//qBwOh3bt2qu2tiOqrq7SX/3Vn6uyskJvvbVDl156oc48s0kHD7bqscee1rJlYYXDZ0xpd3h4WFVVlfrc5+5SLBbXr3/979q2bbuuvvpKORwODQ+PqKurR5dddqEcDofef3+nnn9+i2677UYtWBDQAw88okWLFuqqq9Zrz5794+3atq033tiu557bouuu26hw+Aw9+eSz+v3vH9Y993xCNTXVsm1bfX0Duv76jfrkJ2/T5s0vaNOmZ7RwYVBOp0Pz59fo85+/W36/Tw888Iheemmrbrnlhqz/zizL0htvvK3+/gF97WtfUkWFV9FonxYvbtRnPvMpPfrok7rrrjvU2LhA0WifHn74cS1a1Ki77rpdO3a8p5de2qoFCwIKBOqVSqUUi8V09913qK7Ory1bXtczz7yghQuDCgYbcvEjzhoBqgAEa0z99M9CkqSBmKWuoaS6BpPqHk5OeJxS12BS7QMJvdc+qv7RqfeNqnQ70sGq0qn6SaNYLgVrTAVqXApUueR2kbIAAABypaamWpdddpFqatLrmi644FwlEkl1dnapu7tHo6Oj6uzsVii0eMq5brdbzc0rVVFRIdM01dBQp2i0T6lUSg6HQ52d3TIMQ/X1dbJtW52d3aqurtLChUFVVlZo8eJGtbUdUTw+eTrcyMiItm9/R2vWnKnzzz9XpunStddepV/84j7t2rVX5523RoZhqKlphdasOUum6dKHP7xeP//5b9Xaekjnn3+Orr76Sg0ODikSaVMymVR7e5diseyXnRiGocrKSvX3D6it7YjWrl2tefNqphxn27b27Tug4eFRXXzx+aqpqda6dWu1Z89+RSJtamiok2EYWrx4kWpra+VwONTcvEKvvfaGIpE2BQL1czoKRYAqMDUeh2o8bi31zzwv1rKljsGkOgYTk8JV19DRx29GhtU9nNSxhVGcDmOaaYIuBapNBarTI1nBapcq3SyPAwAAyIbL5ZTbnf7sZtu2Pvhglx588DH5fPMVCDTI6XRNCTjTM2QYDiWTCdl2egSntTWihoY6VVR4ZRiGFi1aoDfffFtdXd0KBhsUibSpvr5Opjn5Y308nlAsFlNdnV8ul1OSVF1dperqKvX3D0xbPc/tNmWapkZHRzU0NKxHH31Su3bt1apVy2UYhiwrpVQq++IZhmHoQx86V7FYTI8//rSeeGKzPvrRjVOmGkrSwMCQDhxo1be+9b3xbQ6HQwsXBqftq8PhkGRoZGTuC7ERoIqQw5AW1Li0oOb4P77+0ZQ6B5PqHEqNh62uoVQmaCW1qzOmV/YPKZac+kvpq3AenSqYGcFqqHKOj2QFq03N8xKyAABAeZqpfHc02qennnpOl19+sS677EL19w+otfWQTmWAZHQ0psOHO3TeeWfL6UyHoECgQfPmzdPPf36fnE6nmptX6oorLhnfP8btNuX1etTX1y/LsuR0OjU6OqqRkRHNm1cz7YjN4OCQRkdHVVVVqW3btqurq0df/OJn5fPV6sUXt+rtt9896T+D1+vV1VdfqauuWq9t27Zr06ZnNH9+ehTKto/+PdbUVGn58iW66647VFc3uVjG2DqvyX0d1ujoqKqrK0+6T6eLAFXC5nmdmud1ann9zMdMHM3qHEiqYzCpzsxoVtdQUkcGEnrnyPRTBqsyUwYbql3pNViZtVjBmqMjWnUUvwAAACXC4XDINE11d/doZGR0fNRpomQypWQyKYfDoVgspg8+2KWent4ps4Ky0dPTq2QyqWAwML5t//6DGhkZ0Ze+9DnV1/snHW8YRiaUWKqoqNA555ytp556TosXL9SyZUu0adNmORxOrVy5LHOsrT179unIkXZVVVVq06bNqqysUCh0ht544+3xdo8c6dCuXXuUTE4eRTvRaFQikdQbb2yX3+/TihVLVVlZKYcj3UePx6N4PKHu7l7V19dpyZKQtm59Qy+8kF6z5XQ61dbWrmCwIXPO5L4+8cRmVVVVKhw+gyISmFuTRrMWznzcsaNZnYNJdQwkM9uSev3AkLqHU7KOeXUwnYYaxtdhZYJVjUuBapf8lU65nYbcLkfmq5H+Or5NcpTIvQ4AAEDxM02XLrvsQt1334P6+te/oxtu+IiWLg1POsbvr9XFF1+gxx9/Rvff/5DOOecsBQLpEHAybNtWa+sh+Xy142urJGnBgqAGBgb1zW/+D0lH11B99KNXqb7eL5+vVk8//bzuuusOnX/+uRodjel3v3tIg4NDWr58iW677UbV1fkVj8flcjk1b16N/u3ffqe2tiNaujSkO+64SXV1Pq1bt1YHD6an1NXV+bRy5fLxG+5WVVVp6dKwXn55q1asWDpjEQeHw5BhGPrNb/5dnZ3dqqvza/36i3XGGYuUSqV03nln62c/+5Xq6vz6whfu0c03X68HH3xM//k/f0sOh0MXXbRO119/jSoqPDIMQy6XS7/85f06dOjweF99vtqT+nvNBSMWi036xNvS0qI1a9bMeUcmOny4Q5K0cGHgBEeWjsOHO1RX55Pbbea7K6dsptGszqGjjzsGEhqdZsrgTJwOyeN0yHQa8rgMmccErPT2afY70/unC2jTnuM4cZunq6OjWx6Pe3zYGqWnt7dfqVRyyhVBlI6RkZj6+vq1YMHcVnzC3Dp8uEPBYH1mjQVKUXt7l6qqKvMy/StbsVhcf/zjJjU1rdDZZ5+ZWYNk6emnX1B3d49uvvl6eb0edXX16A9/eEQ1NTW6/fYbZZrF+1lyJvF4XPff/7A8Hrduuun6Keu9ptPdHZUk1dXlPmAxAoWcOdnRrJ7hlBIpW/GUrXjKUjyl9OOklfma3pdI2YolLSWO3Z/5fyhuTb8/c37SOrWb3R1rLGCNhzLHdKFs5tCWjMXkcsbk8cRy0p9i4XIachiGnIbkcGj8sdNhyOHIbDckp2HI4UhvdxqGHJnj0/uN9PYJ56f3G3I5MscaY/s1fr7TOaGtsec0JjyHQ2KMEwBQiKLRPo2MjKqxccH4FLVUKqXe3l4ZhuR0Osan4Y2MjGrZsiVT1kHNhba2I3rwwccUjfZN2u5wOLRu3TnauHF9Tvpl2/YpTYOcDQQozLnxtVlz9HyWrUyokhLWWBibIZRNF9qsqfuPnqMJx1oajNlKWDPtt5WjLIccGgtfDmMs7GlS4HNmwtvEADYW0pyZ48dCmm2l5DRsVXiHZWYCtukw5HIeDdKmw5CZ2Z7+XjJdjsz3kpkZcTUd6dDuGtueGSV1OZQZFU0HdpfzaFsAgNIRDDbo05++c9I20zS1YcPlevDBR/Xd735fkq2KigpdccUlOv/8c/MyatrYuEBf/OJn5/x5TyRXF9CnQ4BCyXMYktd0yDs+oj33V2ek8p3CZ9lSyrLHv6ZsW5YlpWzJstPbkyl7/HHKlizLVuqY8yw705ZtK5Wyxx+n96fbSmXOs6wJbdm2UtZYG2P7Nf44ZdnjzzfepqWjbR3T35RlH32+zDmWlR7pjCekRMpQfCQ9upq00uE9YdlKpNIv5unv0+3nkmFozsLascFQylRSkq3Mf+n/M48nb7Mnb5u4z7InbLMntHs6bY21dJJtTTx+QlvxRFKxWFxVe7smtzWh39O3f3SbZVvj26bt14T+HL+t9DHWhKuyU9uyT/Dnnvpzs6ypf/cOI/274HIYcjmV+Zr5PvP7lX6syd87NcN+x/hj18R9zuO05VDmvPRoM1CugsEGfeEL/yHf3ZhTbrdbd999R9bH/+1jh3XlIlsOQ/rFjoT+01W5XRZEgAIwqxyG5BgfHSntUZKTWQNl2VIilR7lTFi2EplglUjZme8zXzMjnsnM9nhmezJlZ0ZQrROGtUTKnvRcw/FUZnvyuM9VKFMlCpGhkfGSxEZm1NLIfGNkthnK/MaPPR7/amTamLjtaFvp8wwZjhO1ZRw9b7q2Ms81vs8wZmjLmOa8yW0lLWk0mb5QkMhMjU5aynxvpR+nju6b7dF2Q5lw5Zoctlwzhq+pxx4vqI0Mj2j+gR45HY6spx87DMnlcEyYfjw2Qp2ebuwcP8c4/vTkLJ+rGIosWXb6dyQXF7XSbVmZi1YTLqDZylxUm3xR6+hFuLGLXhPOSdnqGxiW252U6R6ZfMHCtiddjDl6gcaefOFDky8ypLfZU7ZZYxdgxtuaqf2J59nTt5/5+5t4AeX4bY1dRjm6beK/b2nya8nkbRovejHpdWnKa9UMr1/HvuZM+/pyotdCY8o2h3Hs697UY/Z2xbRl35ASMVMfWebRqweH9NK+QV2+9GghjtNV0AFqrJhEueju7s13FzDLhodHNDw8ku9uYJad6muXQ5In87+kzKdEneIrtaHTHW1NWunAlbI0Hr7SH5yNdCCz0seMjXWMv5Hp6JvZWE/Sb8T2pDfqiW+C0rFvnoYM2VPeGGVnPjge86ZvGPYMbRnTvNHbk96cp7Y1sV/25LaO+bNhemMfbJOp9AfZZOYDbyKV/prMhPxkZnR3LIwd/d4ePydpGel2xr+f/tikZStlp49Nf28pZad/V2NJaWj06HOPtZuybSWSk78fa0ua+5tznoyxqceGYR9d6ymNryV1SONhzqHJ60SPhrX0v0ln5sPu+EyACaP+lsYCiSFbUsqylLKM8dHPdAAyMo/HzjOmVOUtRIYxorGP8EcDhD0lSIy9XmjSa0nmNe3YYyacJ00MJfb4eUdfdybuN45pS8dp65jQM9a2jr5Opi/AHBsubNn22J9yLJBZ48lqchgzjgloR0eqJ56fDpbGlJHxie1NHvU2jgmAx5kloPT6rkltHXvc2Ai8MTVsPrMvro8s82g4bqm9Pzn1F+A0FGSAWrgwUHbhCQAKzdiV+aMmPi60OVQnk2pm61iMGVsraM74+wMAs++9zqRqPE6ducBz4oNPQkEGKKm8SphLpVHGHMdXrmugygllzEsfZczLA2XMS18xlDHHqXv8/X7N07Aq3A79+aX1Wh2syGn7BRugAAAAAOBkXXfmPHV3W5KkurrcrX0aw6UVAAAAAMgSAQoAAAAAskSAAgAAAIAsGbFYbFKdyZaWFq1ZsyZf/QEAAACAgsUIFAAAAABkiQAFAAAAAFkiQAEAAABAlghQAAAAAJAlAhQAAAAAZIkABQAAAABZIkABAAAAQJYIUAVk1669+t73/lEHDx7Kd1cwS/gZl77e3qh+8IN/0muvvSnbtk98AopOPB7Xr371ez3wwCNKpVL57g5mgW3beu65l/WTn/xUg4ND+e4OZgnvyaVvtt6TXTlrCVmJx+N6//2deuaZF+RwOPTZz96lefNq8t0t5NDw8Iiee+4lvfLKNiWTSV1++UW66qorVFHhzXfXkCODg0N67LGn9Oabf1I8HteqVcu1YcPlampake+uYRa0th7ST3/6Ky1fvlR33nlzvruDHHrvvRb97Ge/1sjIqCTJ6XTq1ls/pvXrL85zz5Artm3rwIFWPfroU9q9e5+8Xo/Wr79YGzdeme+uIQcsy9LmzS/q4Yc3ybKs8e1Op1O33HKD1q5dPSvPS4CaY/F4Qp2d3XK5XFydLkGpVEqvv/6WnE6n/vIv/6NaW9v0+ONPq6KiQhs2XJbv7iFHBgYGVVVVqXvvvUfz59foiSee1ZNPPquFCxfku2vIsdHRmF566VUlEkk5HEzaKDWxWExLloR01123q7Z2/vh23p9LRzTap4ceelw+X62+9rUvaXh4RCMjo/x7LhEOh0NXX32lrr46HYht29abb/5Jr7/+ltasWS3DMGbleQlQc6y6ukobN14ht9utHTvem/G4VCqlp59+Xrt27dUnP3mr6ur8c9hLnCqn06krr7x0/Hu/36f9+w+qvb1TyeTkqT78jIvXwoVB3XDDNZLSL9YrVy7TkSMdSiYTU96Ud+x4X5s2PaObbrpOq1Ytz0d3cYps29b777eovb1Dy5cvmfGN+MiRDv3mNw9o3bq1Wr/+Yj6YFQnbtjUyMiqPxyO3233cY4eHh/W73z0kr9erm2++Tl4vMwqKgW3b2r17n5xOp2688Vr5fLUzHst7cmno6urRK6+8rssuu1B+f62i0b5J+3P1nkyAKki23nnnfb333k7deusN/CMuYvF4XP39AwoGA3K5nBP28DMuFYcPt2vLltfU2BhUTU21hoaGJaXfuNvajmjz5he0YcNlWrlyWZ57ipMVjfbplVe2ad26c9Td3aPR0dEpxwwMDGrTpme0dGlIl1zyIcJTERkLUAcOtOq///fvK5FI6KKLztc113xYlZUV48clEglt3fqGksmkrrtuI+GpiFiWpcOH2+XxePTUU8/prbd2qK7OrxtvvPaYD8+8J5cCy7K0Y8d78ng8Wrly+aSLXrl+TyZAFaC2tiN65ZXXtWHDZQqFFue7OzhFtm3rT396T0eOdGjjxismfbDiZ1z8BgeH9M///Avt2bNfixYt1Pr1l8jtdo8HqMHBIT3++DNavnyp1q1bO2vTCDA7UqmUXn31DVVXV+m889Zo8+YXpxyTSCT03HMvK5VK6eqrr5TbbeahpzhVDodD5523RkuXhrRwYVAffLBbjzzyhLxer665ZoOk9Ov4jh3v64MPdurOO2/W/Pnz8ttpnBTLsjU8PKI9e/bphhuu0YYNl+v557do06ZnFAw2jB/He3JpGBkZ1b59B3T22c2qqqqctC/X78kEqAIzNDSsxx57Wn19/Wpv75RlWXI6nSc+EQWntbVNmze/qHXr1qqx8ejaGH7GpaG6ukpf/epfKBrt0x//+ITuu+8PuvvuO2WaLiWTSb300lb19ERlGFIsFp90RRuF78CBiHbt2quPf/yj0/7sbNvWe+/t1MDAoOrr/RoaGlZ1dVUeeorT4ff75Pf7JElr165WJNKmAwdaNToak5Sentnaeki2baunJ6rGxgVcDCkiDocht9vU2WefqYsuWie3261LLrlA99//kHp7o5J4Ty4l3d29Ghwc0qJFCyf9O52N92TmGhSY0dFRhUKLddttN+rtt99VJNKW7y7hFBw6dFi///1DWr26SRs2XD7pxZifcWmprZ2vjRuvUDyeUFvbYUlSIpGUaZq6++471N3dqz/96V0WpReRVCqlt99+Ry0tu/W97/2jvvKVr+upp57Tyy+/ph/96H+rr29QlmUpFovptttu1P/fzv28Nn3HcRx/5fNNbGBJ0x86N7uWhtBOhPqjKeloJC1OB05GDw4PHnZzN/8B8Tg2vEoPHncRlYG97Fahrf2xjQlTXFnbZYjZhBKzLilrzZc23+8ORbcaDx/HujTl+Tgmlzd84fvJM9/P99Pa2qzp6W+1vr5e69HxH/j7d5ev1dVVpdP96u9PamrqG62s/FnL0fCaAoGAmppiKpVW9OzZZhT7vi/P81WpbJ7Yxpq8O/i+r0KhIGMcRaORLd9tx5pMQO0wLS3NOnkyo1TqmA4ceEuTk7MvjldFfcjlftP1618pkYjr9On31dCw9eVkrnF98zxPExMzunHjtorFkiqViubnf5bv+9q7t1WSFA43aGgord7ew+rrO6rZ2e9VKCzXeHLYen787cjIFY2MXNHVq1/o1KkhpdMpXbz4qWKxiIwx6u09rFTqmAYH01pc/EXZ7KNaj47X8PTp77p1a1TZ7CN5nqfHj3/Vgwdz6upKKBxukBRQPN6pTGZAmcyAXNfVvXs/bDkqGTubMUaJRKeWl//Q+PiUisWS7t//UXv2hLRv3+b9mjV5d3j+lDgYdKoOhdmONZktfP+jV51Vf+nSZ0omj+j8+Y8lbf5bYoyjcDiswcG0bt68rbm5eSWTR9g2UAfKZVdjYxPK5Z4ol3uisbEJSVI0GtGFC59I4hrXO2OMDh16Vw8f/qTLlz+X4zjq7k7o3LlhtbW9rWKxpEAgoGAwKGOM+vqOanExq5mZ73TmzAcKhbjt7gb/vMaJRKcOHuzS3buzam9vYytfnWhpadL+/W/q2rUvVS6XFYm8oRMnMhoYSL14Z9VxjBzHqLGxWcePv6fx8Wl1dyfU3t5W4+lhq6PjHQ0Pf6jR0a91586k4vEOnT37kRobo8rnC6zJu8ja2ppCoWDVYT7bsSYHXNfd8gxrYWFBPT09/356AAAAANil2MIHAAAAAJYIKAAAAACwREABAAAAgCUCCgAAAAAsEVAAAAAAYImAAgAAAABLBBQAAAAAWCKgAAAAAMASAQUAAAAAlggoAAAAALBEQAEAAACAJQIKAAAAACxVBZQxRhsbG7WYBQAAAAB2tKqAisViWlpaIqIAAAAA4CUB13X9lz/M5/MqlUryPK8WMwEAAADAjvTKgAIAAAAAVOMQCQAAAACwREABAAAAgCUCCgAAAAAsEVAAAAAAYImAAgAAAABLBBQAAAAAWCKgAAAAAMASAQUAAAAAlggoAAAAALBEQAEAAACAJQIKAAAAACwRUAAAAABg6S8G4YGgLdrcMQAAAABJRU5ErkJggg==)"
      ],
      "metadata": {
        "id": "LGMNcV96ud47"
      },
      "id": "LGMNcV96ud47"
    },
    {
      "cell_type": "code",
      "execution_count": null,
      "id": "f43045b5-ac39-4126-acae-246d3904fcbf",
      "metadata": {
        "execution": {
          "iopub.execute_input": "2025-02-24T15:32:11.572132Z",
          "iopub.status.busy": "2025-02-24T15:32:11.568766Z"
        },
        "id": "f43045b5-ac39-4126-acae-246d3904fcbf",
        "outputId": "a2d35b75-0349-4ee9-fa5c-8b2d1b9eb47b"
      },
      "outputs": [
        {
          "name": "stdout",
          "output_type": "stream",
          "text": [
            "🔹 샘플 1\n",
            "question         : 임종석이 여의도 농민 폭력 시위를 주도한 혐의로 지명수배 된 날은?\n",
            "context         : 1989년 2월 15일 여의도 농민 폭력 시위를 주도한 혐의(폭력행위등처벌에관한법률위반)으로 지명수배되었다. 1989년 3월 12일 서울지방검찰청 공안부는 임종석의 사전구속영장을 발부받았다. 같은 해 6월 30일 평양축전에 임수경을 대표로 파견하여 국가보안법위반 혐의가 추가되었다. 경찰은 12월 18일~20일 사이 서울 경희대학교에서 임종석이 성명 발표를 ...\n",
            "predicted_answer    : 1989년 2월 15일 \n",
            "true_answer         : 1989년 2월 15일\n",
            "--------------------------------------------------\n"
          ]
        }
      ],
      "source": [
        "def test_model(question, context):\n",
        "    input_text = f\"질문: {question} 문맥: {context}\"\n",
        "    inputs = tokenizer.encode(input_text, return_tensors=\"pt\", max_length=256, truncation=True)\n",
        "\n",
        "    device = torch.device(\"cuda\" if torch.cuda.is_available() else \"cpu\")\n",
        "    inputs = inputs.to(device)\n",
        "    model.to(device)\n",
        "\n",
        "    outputs = model.generate(input_ids=inputs, max_length=64, num_beams=5, early_stopping=True)\n",
        "    answer = tokenizer.decode(outputs[0], skip_special_tokens=True)\n",
        "    return answer\n",
        "\n",
        "# Validation 데이터에서 1개 샘플 추출\n",
        "sampled_data = korquad[\"validation\"][0]\n",
        "\n",
        "# 샘플 테스트\n",
        "question = sampled_data[\"question\"]\n",
        "context = sampled_data[0][\"context\"]\n",
        "true_answer = sampled_data[0][\"answers\"][\"text\"][0]\n",
        "\n",
        "predicted_answer = test_model(question, context)\n",
        "\n",
        "print(f\"샘플 {i+1}\")\n",
        "print(f\"question         : {question}\")\n",
        "print(f\"context         : {context[:200]}...\")\n",
        "print(f\"predicted_answer    : {predicted_answer}\")\n",
        "print(f\"true_answer         : {true_answer}\")\n",
        "print(\"-\" * 50)"
      ]
    },
    {
      "cell_type": "code",
      "execution_count": null,
      "id": "e931fe60-3960-4a00-8d8c-ba6f3bc65f13",
      "metadata": {
        "execution": {
          "iopub.execute_input": "2025-02-24T15:25:39.390125Z",
          "iopub.status.busy": "2025-02-24T15:25:39.389500Z",
          "iopub.status.idle": "2025-02-24T15:25:55.840254Z",
          "shell.execute_reply": "2025-02-24T15:25:55.832265Z",
          "shell.execute_reply.started": "2025-02-24T15:25:39.390062Z"
        },
        "id": "e931fe60-3960-4a00-8d8c-ba6f3bc65f13",
        "outputId": "b9f98f13-5698-417a-9740-e1aedb83dede"
      },
      "outputs": [
        {
          "name": "stdout",
          "output_type": "stream",
          "text": [
            "모델의 응답: 99만원 \n"
          ]
        }
      ],
      "source": [
        "# 추가 테스트\n",
        "question = \"아이폰16e는 얼마인가요?\"\n",
        "context = \"아이폰16e는 99만원입니다.\"\n",
        "print(\"predicted_answer:\", test_model(question, context))\n"
      ]
    },
    {
      "cell_type": "markdown",
      "source": [
        "### 느낀점\n",
        "\n",
        "이번 과제를 수행하면서 데이터 전처리의 중요성을 다시 한 번 실감했다. 모델과, task에 적합한 방식으로 데이터 전처리하는 과정이 중요하다는 것을 직접 경험할 수 있었다.\n",
        "\n",
        "일부 레이어만 finetuning할 수 있는 LoRA를 새롭게 알게 되었다. LoRA는 전체 모델을 업데이트하지 않고도 적은 리소스로 효과적인 파인튜닝이 가능하다는 점에서 매우 실용적이라고 느꼈다. 또한 QLoRA에 대해서도 알게 되었는데, 기존 LoRA보다 메모리 사용량을 더욱 줄이면서도 유사한 성능을 유지할 수 있다는 점이 흥미로웠다.\n",
        "\n",
        "이번 과제를 통해 데이터 전처리의 중요성과 효율적인 finetuning 기법을 깊이 이해할 수 있었으며, 앞으로 다양한 프로젝트에서 이러한 기술들을 적극 활용할 계획이다."
      ],
      "metadata": {
        "id": "f8VTxdZvvbnv"
      },
      "id": "f8VTxdZvvbnv"
    }
  ],
  "metadata": {
    "kernelspec": {
      "display_name": "PyTorch 2.6.0 (py3.10)",
      "language": "python",
      "name": "pytorch-2.6.0-cuda12.4-py3.10"
    },
    "language_info": {
      "codemirror_mode": {
        "name": "ipython",
        "version": 3
      },
      "file_extension": ".py",
      "mimetype": "text/x-python",
      "name": "python",
      "nbconvert_exporter": "python",
      "pygments_lexer": "ipython3",
      "version": "3.10.12"
    },
    "colab": {
      "provenance": []
    }
  },
  "nbformat": 4,
  "nbformat_minor": 5
}