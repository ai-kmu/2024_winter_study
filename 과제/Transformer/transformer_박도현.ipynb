{
 "cells": [
  {
   "cell_type": "markdown",
   "id": "143adac8-ab5d-4986-b6ef-d4a69030ae3b",
   "metadata": {},
   "source": [
    "# 필요 라이브러리 가져오기"
   ]
  },
  {
   "cell_type": "code",
   "execution_count": 60,
   "id": "81a31e08-fba8-4336-b499-259a77451e91",
   "metadata": {
    "execution": {
     "iopub.execute_input": "2025-02-23T15:09:08.434618Z",
     "iopub.status.busy": "2025-02-23T15:09:08.434199Z",
     "iopub.status.idle": "2025-02-23T15:09:08.775801Z",
     "shell.execute_reply": "2025-02-23T15:09:08.774664Z",
     "shell.execute_reply.started": "2025-02-23T15:09:08.434583Z"
    }
   },
   "outputs": [],
   "source": [
    "import collections\n",
    "from functools import partial\n",
    "\n",
    "import torch\n",
    "\n",
    "import evaluate\n",
    "import numpy as np\n",
    "from tqdm import tqdm\n",
    "from datasets import load_dataset\n",
    "from transformers import pipeline, Trainer, TrainingArguments\n",
    "from transformers import AutoTokenizer, AutoModelForCausalLM\n",
    "\n",
    "from transformers import BitsAndBytesConfig, AutoModelForCausalLM\n",
    "from peft import LoraConfig, get_peft_model, prepare_model_for_kbit_training\n",
    "\n",
    "from transformers import TrainerCallback\n",
    "import matplotlib.pyplot as plt\n",
    "\n",
    "import json\n",
    "\n",
    "import huggingface_hub\n",
    "huggingface_hub.login('##허깅페이스 토큰ID##')"
   ]
  },
  {
   "cell_type": "markdown",
   "id": "d619413e-f503-4966-b91c-0b044e9dc087",
   "metadata": {},
   "source": [
    "# 모델, 데이터셋 이름 설정"
   ]
  },
  {
   "cell_type": "code",
   "execution_count": 61,
   "id": "d256a086-8fe9-41f6-9593-5c3a885b77a4",
   "metadata": {
    "execution": {
     "iopub.execute_input": "2025-02-23T15:09:11.234502Z",
     "iopub.status.busy": "2025-02-23T15:09:11.234069Z",
     "iopub.status.idle": "2025-02-23T15:09:11.239889Z",
     "shell.execute_reply": "2025-02-23T15:09:11.239137Z",
     "shell.execute_reply.started": "2025-02-23T15:09:11.234464Z"
    }
   },
   "outputs": [],
   "source": [
    "model_name = \"meta-llama/Llama-3.2-1B\" # Decoder-only 구조의 오픈소스 LLM\n",
    "\n",
    "dataset_name = \"KorQuAD/squad_kor_v1\""
   ]
  },
  {
   "cell_type": "markdown",
   "id": "2080ba1d-db0c-4b4d-84db-30eba1c65131",
   "metadata": {},
   "source": [
    "# 데이터셋 로드 및 전처리(+토크나이징)"
   ]
  },
  {
   "cell_type": "code",
   "execution_count": 68,
   "id": "ad1ab705-665b-4fa0-aad2-e2a5dc4b3399",
   "metadata": {
    "execution": {
     "iopub.execute_input": "2025-02-23T15:33:31.030596Z",
     "iopub.status.busy": "2025-02-23T15:33:30.978557Z",
     "iopub.status.idle": "2025-02-23T15:33:43.675713Z",
     "shell.execute_reply": "2025-02-23T15:33:43.672671Z",
     "shell.execute_reply.started": "2025-02-23T15:33:31.029123Z"
    }
   },
   "outputs": [
    {
     "data": {
      "text/plain": [
       "1"
      ]
     },
     "execution_count": 68,
     "metadata": {},
     "output_type": "execute_result"
    }
   ],
   "source": [
    "data = load_dataset(dataset_name)\n",
    "tokenizer = AutoTokenizer.from_pretrained(model_name, use_fast=False, padding_side='left') # pretrained 모델이 사용한 토크나이저를 사용\n",
    "tokenizer.add_special_tokens({'pad_token': '[PAD]'}) # pad_token 직접 추가"
   ]
  },
  {
   "cell_type": "code",
   "execution_count": 69,
   "id": "61b17b61-9fff-41e0-9a21-29db6bbd5858",
   "metadata": {
    "execution": {
     "iopub.execute_input": "2025-02-23T15:33:59.676281Z",
     "iopub.status.busy": "2025-02-23T15:33:59.675704Z",
     "iopub.status.idle": "2025-02-23T15:33:59.698660Z",
     "shell.execute_reply": "2025-02-23T15:33:59.697025Z",
     "shell.execute_reply.started": "2025-02-23T15:33:59.676229Z"
    }
   },
   "outputs": [
    {
     "name": "stdout",
     "output_type": "stream",
     "text": [
      "DatasetDict({\n",
      "    train: Dataset({\n",
      "        features: ['id', 'title', 'context', 'question', 'answers'],\n",
      "        num_rows: 60407\n",
      "    })\n",
      "    validation: Dataset({\n",
      "        features: ['id', 'title', 'context', 'question', 'answers'],\n",
      "        num_rows: 5774\n",
      "    })\n",
      "})\n"
     ]
    }
   ],
   "source": [
    "print(data) # 데이터 구조 확인을 위함"
   ]
  },
  {
   "cell_type": "code",
   "execution_count": 7,
   "id": "e2bc0a1f-46e1-4e00-8529-b005b268ae76",
   "metadata": {
    "execution": {
     "iopub.execute_input": "2025-02-23T03:56:39.314923Z",
     "iopub.status.busy": "2025-02-23T03:56:39.314631Z",
     "iopub.status.idle": "2025-02-23T03:56:39.326339Z",
     "shell.execute_reply": "2025-02-23T03:56:39.325311Z",
     "shell.execute_reply.started": "2025-02-23T03:56:39.314892Z"
    }
   },
   "outputs": [],
   "source": [
    "def preprocess_function(examples): # 데이터 전처리를 위한 함수\n",
    "    inputs = [] # context와 \n",
    "    outputs = []\n",
    "    \n",
    "    for question, context, answer_dict in zip(examples[\"question\"], examples[\"context\"], examples[\"answers\"]):\n",
    "        answer = answer_dict[\"text\"][0]\n",
    "        \n",
    "        input_text = f\"질문: {question} \\n맥락: {context} \\n답변\" + \" \" + tokenizer.eos_token # 모델에 입력할 프롬프트\n",
    "        \n",
    "        output_text = f\" {answer}\" + \" \" + tokenizer.eos_token # 라벨값\n",
    "\n",
    "        inputs.append(input_text)\n",
    "        outputs.append(output_text)\n",
    "\n",
    "    model_inputs = tokenizer(inputs, max_length=512, truncation=True, padding='max_length', add_special_tokens=True)\n",
    "\n",
    "    # 정답(출력) 토크나이징 및 패딩\n",
    "    labels = tokenizer(outputs, max_length=512, truncation=True, padding='max_length', add_special_tokens=True)[\"input_ids\"]\n",
    "\n",
    "    # 정답값들의 패딩 설정\n",
    "    model_inputs[\"labels\"] = [\n",
    "        [(token if token != tokenizer.pad_token_id else -100) for token in seq]\n",
    "        for seq in labels\n",
    "    ]\n",
    "\n",
    "    return model_inputs"
   ]
  },
  {
   "cell_type": "code",
   "execution_count": 8,
   "id": "bfa8bf7d-5a08-4693-ad03-024bcbd1d880",
   "metadata": {
    "execution": {
     "iopub.execute_input": "2025-02-23T03:56:39.330494Z",
     "iopub.status.busy": "2025-02-23T03:56:39.328723Z",
     "iopub.status.idle": "2025-02-23T03:56:54.646449Z",
     "shell.execute_reply": "2025-02-23T03:56:54.645642Z",
     "shell.execute_reply.started": "2025-02-23T03:56:39.330448Z"
    }
   },
   "outputs": [],
   "source": [
    "tokenized_datasets = data.map(preprocess_function, batched=True, remove_columns=[\"id\", \"title\", \"context\", \"question\", \"answers\"]) # 기존 col을 지우고 입력, 정답값만 남김"
   ]
  },
  {
   "cell_type": "code",
   "execution_count": 9,
   "id": "ac316a65-c2d3-4638-bef4-4562e019372f",
   "metadata": {
    "execution": {
     "iopub.execute_input": "2025-02-23T03:56:54.650647Z",
     "iopub.status.busy": "2025-02-23T03:56:54.649301Z",
     "iopub.status.idle": "2025-02-23T03:56:54.695886Z",
     "shell.execute_reply": "2025-02-23T03:56:54.694766Z",
     "shell.execute_reply.started": "2025-02-23T03:56:54.650608Z"
    }
   },
   "outputs": [
    {
     "name": "stdout",
     "output_type": "stream",
     "text": [
      "Sample 1 Labels:\n",
      "<|begin_of_text|> 1989년 2월 15일 <|end_of_text|>\n",
      "\n",
      "Sample 2 Labels:\n",
      "<|begin_of_text|> 임수경 <|end_of_text|>\n",
      "\n",
      "Sample 3 Labels:\n",
      "<|begin_of_text|> 1989년 <|end_of_text|>\n",
      "\n",
      "Sample 4 Labels:\n",
      "<|begin_of_text|> 학생회관 건물 계단 <|end_of_text|>\n",
      "\n",
      "Sample 5 Labels:\n",
      "<|begin_of_text|> 서울지방경찰청 공안분실 <|end_of_text|>\n",
      "\n"
     ]
    }
   ],
   "source": [
    "for i in range(5): # 토크나이징된 데이터 확인\n",
    "    labels = tokenized_datasets[\"validation\"][i][\"labels\"]\n",
    "    decoded_labels = tokenizer.decode([token for token in labels if token != -100])\n",
    "    print(f\"Sample {i+1} Labels:\\n{decoded_labels}\\n\")"
   ]
  },
  {
   "cell_type": "markdown",
   "id": "5d4c2978-0fc0-4c2e-8203-26fea39fd4ed",
   "metadata": {},
   "source": [
    "# 모델 로드 및 전처리(+양자화)"
   ]
  },
  {
   "cell_type": "code",
   "execution_count": 10,
   "id": "398a0ace-5801-4a2b-a411-5d0191481355",
   "metadata": {
    "execution": {
     "iopub.execute_input": "2025-02-23T03:56:54.702266Z",
     "iopub.status.busy": "2025-02-23T03:56:54.700950Z",
     "iopub.status.idle": "2025-02-23T03:56:54.709748Z",
     "shell.execute_reply": "2025-02-23T03:56:54.708830Z",
     "shell.execute_reply.started": "2025-02-23T03:56:54.702227Z"
    }
   },
   "outputs": [],
   "source": [
    "quantization_config = BitsAndBytesConfig( # 양자화 적용\n",
    "    load_in_4bit=True,  # 4-bit 양자화 적용\n",
    "    bnb_4bit_compute_dtype=torch.float16,  # 연산은 FP16으로 수행\n",
    "    bnb_4bit_use_double_quant=True,  # double quantization을 통해 추가적인 양자화 적용(4bit로 변환한 가중치를 8bit로 다시 양자화하여 메모리 사용 최적화)\n",
    ")"
   ]
  },
  {
   "cell_type": "code",
   "execution_count": 11,
   "id": "afb808b2-ba4f-49ea-b7b3-6a910c8e9415",
   "metadata": {
    "execution": {
     "iopub.execute_input": "2025-02-23T03:56:54.713343Z",
     "iopub.status.busy": "2025-02-23T03:56:54.712036Z",
     "iopub.status.idle": "2025-02-23T03:58:37.289784Z",
     "shell.execute_reply": "2025-02-23T03:58:37.288875Z",
     "shell.execute_reply.started": "2025-02-23T03:56:54.713299Z"
    }
   },
   "outputs": [
    {
     "name": "stderr",
     "output_type": "stream",
     "text": [
      "The new embeddings will be initialized from a multivariate normal distribution that has old embeddings' mean and covariance. As described in this article: https://nlp.stanford.edu/~johnhew/vocab-expansion.html. To disable this, use `mean_resizing=False`\n"
     ]
    },
    {
     "data": {
      "text/plain": [
       "Embedding(128257, 2048)"
      ]
     },
     "execution_count": 11,
     "metadata": {},
     "output_type": "execute_result"
    }
   ],
   "source": [
    "device = \"cuda\" if torch.cuda.is_available() else \"cpu\"\n",
    "\n",
    "model = AutoModelForCausalLM.from_pretrained( # pretrained된 모델을 가져오는 함수\n",
    "    model_name,\n",
    "    quantization_config=quantization_config, # 양자화를 적용하여 모델을 가져옴\n",
    "    torch_dtype=torch.bfloat16,\n",
    "    device_map=\"auto\",\n",
    "    offload_folder=\"./offload\"\n",
    ")\n",
    "model.config.use_cache = False\n",
    "model.resize_token_embeddings(len(tokenizer)) # pad_token추가로 토큰 사이즈 변경"
   ]
  },
  {
   "cell_type": "code",
   "execution_count": 12,
   "id": "1fe5ef65-39e7-4fd5-9ff4-c5688329d2e6",
   "metadata": {
    "execution": {
     "iopub.execute_input": "2025-02-23T03:58:37.293764Z",
     "iopub.status.busy": "2025-02-23T03:58:37.292408Z",
     "iopub.status.idle": "2025-02-23T03:58:37.604166Z",
     "shell.execute_reply": "2025-02-23T03:58:37.603162Z",
     "shell.execute_reply.started": "2025-02-23T03:58:37.293722Z"
    }
   },
   "outputs": [],
   "source": [
    "lora_config = LoraConfig( # LoRA적용(추가적인 작은 가중치만 학습해 메모리를 절약함)\n",
    "    r=8,  # LoRA 랭크 크기\n",
    "    lora_alpha=32,  # LoRA scaling factor\n",
    "    lora_dropout=0.1,  # LoRA dropout(과적합 방지)\n",
    "    target_modules=[\"q_proj\", \"v_proj\"],  # LoRA 적용 부분\n",
    ")\n",
    "\n",
    "model = prepare_model_for_kbit_training(model) # 4-bit 모델 학습 준비, 무조건 get_peft_model보다 앞에 있어야 함, 아니면 학습 가능 파라미터 0이 됨\n",
    "model = get_peft_model(model, lora_config) #모델에 적용"
   ]
  },
  {
   "cell_type": "code",
   "execution_count": 13,
   "id": "cf89f448-af3e-4305-a742-f2b13211864a",
   "metadata": {
    "execution": {
     "iopub.execute_input": "2025-02-23T03:58:37.608380Z",
     "iopub.status.busy": "2025-02-23T03:58:37.607021Z",
     "iopub.status.idle": "2025-02-23T03:58:37.616462Z",
     "shell.execute_reply": "2025-02-23T03:58:37.615438Z",
     "shell.execute_reply.started": "2025-02-23T03:58:37.608340Z"
    }
   },
   "outputs": [
    {
     "name": "stdout",
     "output_type": "stream",
     "text": [
      "trainable params: 851,968 || all params: 1,236,668,416 || trainable%: 0.0689\n"
     ]
    }
   ],
   "source": [
    "model.print_trainable_parameters() # 학습하는 파라미터 표시(LoRA로 인해 6.89%의 가중치만 학습하게 됨)"
   ]
  },
  {
   "cell_type": "markdown",
   "id": "db70555d-64c3-4472-a86c-42fcb8238636",
   "metadata": {},
   "source": [
    "# Trainer 매개변수 설정"
   ]
  },
  {
   "cell_type": "code",
   "execution_count": 40,
   "id": "5bedfbc5-c034-4fec-ac7b-114fc46ef473",
   "metadata": {
    "execution": {
     "iopub.execute_input": "2025-02-23T04:57:31.208072Z",
     "iopub.status.busy": "2025-02-23T04:57:31.207667Z",
     "iopub.status.idle": "2025-02-23T04:57:31.256162Z",
     "shell.execute_reply": "2025-02-23T04:57:31.255272Z",
     "shell.execute_reply.started": "2025-02-23T04:57:31.208038Z"
    }
   },
   "outputs": [
    {
     "name": "stderr",
     "output_type": "stream",
     "text": [
      "/usr/gatoai/python/venv/3.10/lib/python3.10/site-packages/transformers/training_args.py:1575: FutureWarning: `evaluation_strategy` is deprecated and will be removed in version 4.46 of 🤗 Transformers. Use `eval_strategy` instead\n",
      "  warnings.warn(\n"
     ]
    }
   ],
   "source": [
    "training_args = TrainingArguments(\n",
    "    output_dir=\"./results\", # 학습 관련 정보 저장 디렉토리 설정\n",
    "    evaluation_strategy=\"steps\", # 설정한 step에 따라 evaluation수행\n",
    "    save_strategy=\"steps\", # 설정한 step에 따라 로그 저장\n",
    "    num_train_epochs=2, # epoch 설정\n",
    "    per_device_train_batch_size=8, # train, eval 배치사이즈 설정\n",
    "    per_device_eval_batch_size=8,\n",
    "    learning_rate=2e-4, # learning rate 설정\n",
    "    label_names=[\"labels\"], # 라벨값은 이곳에 있다고 설정\n",
    "    \n",
    "    logging_dir=\"./logs\", # 학습 로그 저장 디렉토리 설정\n",
    "    save_steps=200, # 200배치마다 학습 로그 저장\n",
    "    eval_steps=200, # 200배치마다 evaluation 로그 기록\n",
    "    logging_steps=200, # 200배치마다 로그 기록\n",
    "    logging_first_step=True, # 첫 번째 배치를 학습하고 로그 기록\n",
    "    report_to=\"none\", # 학습 로그를 실시간 확인할 수 있는 코드. tensorboard, wandb등을 넣을 수 있다.\n",
    "\n",
    "    fp16=False, # FP16 학습 비활성화\n",
    "    bf16=True, # BF16 학습 활성화 (RTX 3060, A100과 같은 고성능 GPU에서 더욱 빠른 학습을 가능하게 하는 연산, A5000에서도 가능하다고 판단)\n",
    "    optim=\"adamw_torch\",  # FP16, BF16 학습에 최적화된 최적화함수 AdamW 사용\n",
    "    gradient_accumulation_steps=4, # 여러 배치의 그래디언트를 누적하여 학습하여, 메모리 최적화\n",
    "    gradient_checkpointing=True, # 모든 중간 활성화값을 저장하지 않고 역전파 시 다시 계산하여 메모리 최적화\n",
    "    remove_unused_columns=False, # trainer에서 label을 없앤다고 판단하여 col을 지우지 못하도록 설정\n",
    ")"
   ]
  },
  {
   "cell_type": "code",
   "execution_count": 42,
   "id": "fb60adf4-1a58-43b8-845a-46a142a329ad",
   "metadata": {
    "execution": {
     "iopub.execute_input": "2025-02-23T04:57:31.792176Z",
     "iopub.status.busy": "2025-02-23T04:57:31.791755Z",
     "iopub.status.idle": "2025-02-23T04:57:31.813555Z",
     "shell.execute_reply": "2025-02-23T04:57:31.812815Z",
     "shell.execute_reply.started": "2025-02-23T04:57:31.792142Z"
    }
   },
   "outputs": [
    {
     "name": "stderr",
     "output_type": "stream",
     "text": [
      "/tmp/ipykernel_8370/3047345714.py:1: FutureWarning: `tokenizer` is deprecated and will be removed in version 5.0.0 for `Trainer.__init__`. Use `processing_class` instead.\n",
      "  trainer = Trainer(\n",
      "Detected kernel version 3.10.0, which is below the recommended minimum of 5.5.0; this can cause the process to hang. It is recommended to upgrade the kernel to the minimum version or higher.\n"
     ]
    }
   ],
   "source": [
    "trainer = Trainer(\n",
    "    model=model, # 위에서 정의한 양자화된 모델 사용\n",
    "    args=training_args, # 위에서 정의한 training 매개변수들 사용\n",
    "    train_dataset=tokenized_datasets[\"train\"], # train시, 이 데이터셋 사용\n",
    "    eval_dataset=tokenized_datasets[\"validation\"], # validation시, 이 데이터셋 사용\n",
    "    tokenizer=tokenizer, # 위에서 설정한 토크나이저 사용\n",
    ")"
   ]
  },
  {
   "cell_type": "markdown",
   "id": "3662f751-41cf-4659-a0ac-aea4a809a6c2",
   "metadata": {},
   "source": [
    "# 학습 진행"
   ]
  },
  {
   "cell_type": "code",
   "execution_count": null,
   "id": "17feefb7-1874-430e-9e36-0f6b556dc4b9",
   "metadata": {
    "execution": {
     "iopub.execute_input": "2025-02-23T04:57:33.029896Z",
     "iopub.status.busy": "2025-02-23T04:57:33.029498Z"
    }
   },
   "outputs": [
    {
     "data": {
      "text/html": [
       "\n",
       "    <div>\n",
       "      \n",
       "      <progress value='2801' max='3774' style='width:300px; height:20px; vertical-align: middle;'></progress>\n",
       "      [2801/3774 4:02:53 < 1:24:26, 0.19 it/s, Epoch 1.48/2]\n",
       "    </div>\n",
       "    <table border=\"1\" class=\"dataframe\">\n",
       "  <thead>\n",
       " <tr style=\"text-align: left;\">\n",
       "      <th>Step</th>\n",
       "      <th>Training Loss</th>\n",
       "      <th>Validation Loss</th>\n",
       "    </tr>\n",
       "  </thead>\n",
       "  <tbody>\n",
       "    <tr>\n",
       "      <td>200</td>\n",
       "      <td>2.210400</td>\n",
       "      <td>2.194320</td>\n",
       "    </tr>\n",
       "    <tr>\n",
       "      <td>400</td>\n",
       "      <td>2.133400</td>\n",
       "      <td>1.988653</td>\n",
       "    </tr>\n",
       "    <tr>\n",
       "      <td>600</td>\n",
       "      <td>1.995800</td>\n",
       "      <td>1.908449</td>\n",
       "    </tr>\n",
       "    <tr>\n",
       "      <td>800</td>\n",
       "      <td>1.946400</td>\n",
       "      <td>1.832593</td>\n",
       "    </tr>\n",
       "    <tr>\n",
       "      <td>1000</td>\n",
       "      <td>1.901300</td>\n",
       "      <td>1.787891</td>\n",
       "    </tr>\n",
       "    <tr>\n",
       "      <td>1200</td>\n",
       "      <td>1.838800</td>\n",
       "      <td>1.762307</td>\n",
       "    </tr>\n",
       "    <tr>\n",
       "      <td>1400</td>\n",
       "      <td>1.796400</td>\n",
       "      <td>1.724072</td>\n",
       "    </tr>\n",
       "    <tr>\n",
       "      <td>1600</td>\n",
       "      <td>1.761600</td>\n",
       "      <td>1.717009</td>\n",
       "    </tr>\n",
       "    <tr>\n",
       "      <td>1800</td>\n",
       "      <td>1.768100</td>\n",
       "      <td>1.692554</td>\n",
       "    </tr>\n",
       "    <tr>\n",
       "      <td>2000</td>\n",
       "      <td>1.684600</td>\n",
       "      <td>1.676257</td>\n",
       "    </tr>\n",
       "    <tr>\n",
       "      <td>2200</td>\n",
       "      <td>1.613400</td>\n",
       "      <td>1.663790</td>\n",
       "    </tr>\n",
       "    <tr>\n",
       "      <td>2400</td>\n",
       "      <td>1.601400</td>\n",
       "      <td>1.656987</td>\n",
       "    </tr>\n",
       "    <tr>\n",
       "      <td>2600</td>\n",
       "      <td>1.626600</td>\n",
       "      <td>1.636577</td>\n",
       "    </tr>\n",
       "    <tr>\n",
       "      <td>2800</td>\n",
       "      <td>1.585200</td>\n",
       "      <td>1.623288</td>\n",
       "    </tr>\n",
       "  </tbody>\n",
       "</table><p>"
      ],
      "text/plain": [
       "<IPython.core.display.HTML object>"
      ]
     },
     "metadata": {},
     "output_type": "display_data"
    },
    {
     "name": "stderr",
     "output_type": "stream",
     "text": [
      "/usr/gatoai/python/venv/pytorch-2.6.0-cuda12.4-py3.10/lib/python3.10/site-packages/peft/utils/save_and_load.py:260: UserWarning: Setting `save_embedding_layers` to `True` as the embedding layer has been resized during finetuning.\n",
      "  warnings.warn(\n",
      "/usr/gatoai/python/venv/pytorch-2.6.0-cuda12.4-py3.10/lib/python3.10/site-packages/peft/utils/save_and_load.py:260: UserWarning: Setting `save_embedding_layers` to `True` as the embedding layer has been resized during finetuning.\n",
      "  warnings.warn(\n",
      "/usr/gatoai/python/venv/pytorch-2.6.0-cuda12.4-py3.10/lib/python3.10/site-packages/peft/utils/save_and_load.py:260: UserWarning: Setting `save_embedding_layers` to `True` as the embedding layer has been resized during finetuning.\n",
      "  warnings.warn(\n",
      "/usr/gatoai/python/venv/pytorch-2.6.0-cuda12.4-py3.10/lib/python3.10/site-packages/peft/utils/save_and_load.py:260: UserWarning: Setting `save_embedding_layers` to `True` as the embedding layer has been resized during finetuning.\n",
      "  warnings.warn(\n",
      "/usr/gatoai/python/venv/pytorch-2.6.0-cuda12.4-py3.10/lib/python3.10/site-packages/peft/utils/save_and_load.py:260: UserWarning: Setting `save_embedding_layers` to `True` as the embedding layer has been resized during finetuning.\n",
      "  warnings.warn(\n",
      "/usr/gatoai/python/venv/pytorch-2.6.0-cuda12.4-py3.10/lib/python3.10/site-packages/peft/utils/save_and_load.py:260: UserWarning: Setting `save_embedding_layers` to `True` as the embedding layer has been resized during finetuning.\n",
      "  warnings.warn(\n",
      "/usr/gatoai/python/venv/pytorch-2.6.0-cuda12.4-py3.10/lib/python3.10/site-packages/peft/utils/save_and_load.py:260: UserWarning: Setting `save_embedding_layers` to `True` as the embedding layer has been resized during finetuning.\n",
      "  warnings.warn(\n",
      "/usr/gatoai/python/venv/pytorch-2.6.0-cuda12.4-py3.10/lib/python3.10/site-packages/peft/utils/save_and_load.py:260: UserWarning: Setting `save_embedding_layers` to `True` as the embedding layer has been resized during finetuning.\n",
      "  warnings.warn(\n",
      "/usr/gatoai/python/venv/pytorch-2.6.0-cuda12.4-py3.10/lib/python3.10/site-packages/peft/utils/save_and_load.py:260: UserWarning: Setting `save_embedding_layers` to `True` as the embedding layer has been resized during finetuning.\n",
      "  warnings.warn(\n",
      "/usr/gatoai/python/venv/pytorch-2.6.0-cuda12.4-py3.10/lib/python3.10/site-packages/peft/utils/save_and_load.py:260: UserWarning: Setting `save_embedding_layers` to `True` as the embedding layer has been resized during finetuning.\n",
      "  warnings.warn(\n",
      "/usr/gatoai/python/venv/pytorch-2.6.0-cuda12.4-py3.10/lib/python3.10/site-packages/peft/utils/save_and_load.py:260: UserWarning: Setting `save_embedding_layers` to `True` as the embedding layer has been resized during finetuning.\n",
      "  warnings.warn(\n",
      "/usr/gatoai/python/venv/pytorch-2.6.0-cuda12.4-py3.10/lib/python3.10/site-packages/peft/utils/save_and_load.py:260: UserWarning: Setting `save_embedding_layers` to `True` as the embedding layer has been resized during finetuning.\n",
      "  warnings.warn(\n",
      "/usr/gatoai/python/venv/pytorch-2.6.0-cuda12.4-py3.10/lib/python3.10/site-packages/peft/utils/save_and_load.py:260: UserWarning: Setting `save_embedding_layers` to `True` as the embedding layer has been resized during finetuning.\n",
      "  warnings.warn(\n",
      "/usr/gatoai/python/venv/pytorch-2.6.0-cuda12.4-py3.10/lib/python3.10/site-packages/peft/utils/save_and_load.py:260: UserWarning: Setting `save_embedding_layers` to `True` as the embedding layer has been resized during finetuning.\n",
      "  warnings.warn(\n"
     ]
    }
   ],
   "source": [
    "trainer.train()"
   ]
  },
  {
   "cell_type": "markdown",
   "id": "a8562e71-cb60-4d0c-8d80-e3fd18c62c7c",
   "metadata": {},
   "source": [
    "# 학습 결과 시각화"
   ]
  },
  {
   "cell_type": "code",
   "execution_count": 66,
   "id": "4529b26e-4a07-45e8-a3d2-d5967dd3dd6e",
   "metadata": {
    "execution": {
     "iopub.execute_input": "2025-02-23T15:12:29.611960Z",
     "iopub.status.busy": "2025-02-23T15:12:29.611100Z",
     "iopub.status.idle": "2025-02-23T15:12:29.854135Z",
     "shell.execute_reply": "2025-02-23T15:12:29.853241Z",
     "shell.execute_reply.started": "2025-02-23T15:12:29.611909Z"
    }
   },
   "outputs": [
    {
     "name": "stdout",
     "output_type": "stream",
     "text": [
      "Eval Loss List: [2.1943199634552, 1.9886531829833984, 1.9084490537643433, 1.8325930833816528, 1.7878907918930054, 1.7623072862625122, 1.724071741104126, 1.717009425163269, 1.692553997039795, 1.6762566566467285, 1.6637895107269287, 1.6569867134094238, 1.6365770101547241, 1.6232883930206299, 1.6188353300094604, 1.611746907234192, 1.6078730821609497, 1.598980188369751]\n",
      "Train Loss List: [2.2104, 2.1334, 1.9958, 1.9464, 1.9013, 1.8388, 1.7964, 1.7616, 1.7681, 1.6846, 1.6134, 1.6014, 1.6266, 1.5852, 1.5803, 1.5675, 1.5616, 1.5666]\n"
     ]
    }
   ],
   "source": [
    "with open(\"results/checkpoint-3774/trainer_state.json\", \"r\") as f: # JSON 파일 로드\n",
    "    data = json.load(f)\n",
    "\n",
    "log_history = data[\"log_history\"]\n",
    "\n",
    "eval_loss_list = []\n",
    "train_loss_list = []\n",
    "\n",
    "# log_history 순회 (디렉토리 이름이 0부터 36까지라고 가정)\n",
    "for dir_name, log in enumerate(log_history): # log_history를 돌며 디렉토리 이름이 짝수면 안에서 eval_loss값을 eval_loss_list에 넣고 홀수면 안에서 loss값을 찾아 train_loss_list를 찾아 넣는 반복문\n",
    "    if dir_name % 2 == 0 and \"eval_loss\" in log:\n",
    "        eval_loss_list.append(log[\"eval_loss\"])\n",
    "    elif dir_name % 2 == 1 and \"loss\" in log:\n",
    "        train_loss_list.append(log[\"loss\"])\n",
    "\n",
    "steps = [200 * i for i in range(1, 19)]\n",
    "\n",
    "print(\"Eval Loss List:\", eval_loss_list)\n",
    "print(\"Train Loss List:\", train_loss_list)\n"
   ]
  },
  {
   "cell_type": "code",
   "execution_count": 67,
   "id": "1183d32a-acc9-4d48-86bd-dc145c0b0999",
   "metadata": {
    "execution": {
     "iopub.execute_input": "2025-02-23T15:12:29.857509Z",
     "iopub.status.busy": "2025-02-23T15:12:29.855412Z",
     "iopub.status.idle": "2025-02-23T15:12:36.009107Z",
     "shell.execute_reply": "2025-02-23T15:12:36.007897Z",
     "shell.execute_reply.started": "2025-02-23T15:12:29.857455Z"
    }
   },
   "outputs": [
    {
     "data": {
      "image/png": "[encoded data removed]",
      "text/plain": [
       "<Figure size 640x480 with 1 Axes>"
      ]
     },
     "metadata": {},
     "output_type": "display_data"
    }
   ],
   "source": [
    "plt.plot(steps, train_loss_list, label=\"Training Loss\")\n",
    "plt.plot(steps, eval_loss_list, label=\"Validation Loss\")\n",
    "plt.xlabel(\"Steps\") \n",
    "plt.ylabel(\"Loss\") \n",
    "plt.legend()\n",
    "plt.title(\"Training Loss\")\n",
    "plt.show()"
   ]
  },
  {
   "cell_type": "markdown",
   "id": "5a92cfa0-0e73-44f9-822b-565fa3ead661",
   "metadata": {},
   "source": [
    "# 보고서"
   ]
  },
  {
   "attachments": {
    "200961a6-f37e-4017-9d4f-861a290a845b.png": {
     "image/png": "[encoded data removed]"
    }
   },
   "cell_type": "markdown",
   "id": "07e812a0-6944-48aa-9025-963f3ce51a1b",
   "metadata": {},
   "source": [
    "## 1. KorQuAD/squad_kor_v1 데이터셋\n",
    "\n",
    "![image.png](attachment:200961a6-f37e-4017-9d4f-861a290a845b.png)\n",
    "\n",
    "SQuAD형식으로 이루어진 데이터셋이며 Question Answering모델을 학습하는 대표적인 데이터셋\n",
    "\n",
    "데이터 구성 : context(긴 문맥) + question(질문) + answer(정답)\n",
    "\n",
    "context과 question이 주어지면 answer를 판단하는 방식으로 이루어진다.\n",
    "\n",
    "특이사항으로는 한국어로 만들어진 SQuAD 데이터셋이라는 것이다."
   ]
  },
  {
   "cell_type": "markdown",
   "id": "f4c43139-c4df-4f8f-8341-94ba4547ab22",
   "metadata": {},
   "source": [
    "## 2. 학습을 위한 방법론\n",
    "\n",
    "### 2-1. 데이터 전처리 + 토크나이징\n",
    "\n",
    "    - 기존 SQuAD형식 데이터를 모델에 넣을 수 있는 상태인 input_ids, labels로 만드는 전처리 시행\n",
    "\n",
    "        context와 question을 input_ids에 넣어 입력 프롬프트를 만들고 answer를 반환하도록 하는 형식으로 진행\n",
    "    \n",
    "    - 사용한 모델이 Decoder-only모델인 llama모델이었기 때문에 문장 안에 pad_token이 없고 문장 끝에 eos_token이 없었기 때문에 학습이 진행되지 않는다고 판단하여 이를 추가해주는 코드 작성\n",
    "\n",
    "        데이터 토크나이징 시 pad_token이 없어 토크나이징이 진행되지 않는 문제가 발생해 이를 추가해야한다고 판단\n",
    "\n",
    "        처음 학습한 모델의 출력 결과를 보았을 때 결과가 무조건 max_length인 512글자로 나왔기 때문에, eos_token이 필요하다고 판단\n",
    "\n",
    "    - pad_token을 새로 추가함에 따라 토크나이저의 사이즈를 재조정하고 토크나이징 시행\n",
    "\n",
    "### 2-2. 모델 전처리 + QLoRA\n",
    "\n",
    "    - 모델을 불러오기 전 BitsAndBytesConfig를 사용해 모델 파라미터를 더 낮은 정밀도로 양자화하여 메모리 사용량을 크게 줄이고 학습 속도를 향상시킬 수 있다.\n",
    "\n",
    "    - LoRA를 사용해 모델 파라미터의 차원을 줄여 학습 가능한 파라미터 수를 줄여 메모리 사용량을 줄이면서 최적의 성능을 내게 할 수 있다.\n",
    "\n",
    "### 2-3. Trainer 매개변수 설정\n",
    "\n",
    "    - BF16 연산 : 지수부 비트가 8개인 부동소수점으로 5개인 FP16보다 정밀도는 떨어지지만 더 넓은 범위를 처리 가능해 딥러닝에서 더 안정적으로 학습하는 특징이 있다.\n",
    "\n",
    "        정밀도는 떨어졌지만 모델을 양자화하였기 때문에 학습속도만 빨라지는 이점만 남게 될 것이라고 생각하였다.\n",
    "\n",
    "        NVIDIA RTX 3000번대 GPU나 A100같은 GPU에서 BF16연산으로 더욱 빠르고 안정적인 연산이 가능하다고 하는데 DLPC환경 GPU인 A5000에도 잘 동작하였다.\n",
    "\n",
    "    - gradient_accumulation_steps : 여러 배치의 그래디언트 누적한 뒤 학습하여 큰 배치로 학습한 것 같은 효과를 내게 하였다.\n",
    "\n",
    "        이를 사용할 경우 적은 GPU memory에도 학습 안정성을 보장하며 학습 정확도까지 높아지게 할 수 있다.\n",
    "\n",
    "    - gradient_checkpointing : 중간 활성화값을 저장하지 않고 역전파 시 다시 계산하는 효과를 가진다.\n",
    "\n",
    "        이 설정을 하지 않으면, 중간 활성화값을 전부 저장하게 되어 LLM학습 시 필요한 GPU memory가 많아지게 되는데, 이는 반대로 역전파시 활성화값을 다시 계산할 경우 그 과정에서 저장될 활성화값의 저장공간이 남는 것이기 때문에 적은 메모리로도 학습을 진행할 수 있게 되는 이점이 있다.\n",
    "\n",
    "### <정리>\n",
    "\n",
    "1. 데이터 전처리 및 토크나이징 과정을 통해 학습이 진행되도록 하였다.\n",
    "\n",
    "2. 모델 양자화 및 BF16 연산을 이용해 학습이 더욱 빠르게 진행되도록 하였다.\n",
    "   \n",
    "3. LoRA, gradient_accumulation_steps, gradient_checkpointing를 이용해 적은 GPU memory로도 학습이 정상적으로 진행되게끔 하였다."
   ]
  },
  {
   "attachments": {
    "082b4e90-1090-4377-a259-d3421c805964.png": {
     "image/png": "[encoded data removed]"
    }
   },
   "cell_type": "markdown",
   "id": "f17fb256-cf4d-49b0-9c18-475ef99ed9b8",
   "metadata": {},
   "source": [
    "## 3. 학습 결과\n",
    "\n",
    "![image.png](attachment:082b4e90-1090-4377-a259-d3421c805964.png)\n",
    "\n",
    "대체로 학습이 안정적으로 진행되는 모습을 보였다.\n",
    "\n",
    "특히 validation loss가 안정적으로 떨어졌기 때문에 일반화 성능도 높을 것이라고 생각된다."
   ]
  },
  {
   "cell_type": "markdown",
   "id": "8b7365d7-f40f-4603-89f5-615a68bb5fca",
   "metadata": {},
   "source": [
    "## 4. 학습시 시행착오에 대한 고찰\n",
    "\n",
    "- LLM모델을 Fine-tuning하는 작업은 처음이었기 때문에 모델 자체에 대한 이해도가 낮아 구현에 어려움이 있었다. 특히 huggingface내에 있는 Encoder-only모델과 Decoder-only모델의 구조와 토크나이징 방식의 차이 때문에, 어려움이 있었다.\n",
    "\n",
    "- 또한 Encoder-only모델에 더 최적화된 SQuAD데이터셋을 Decoder-only모델로 해결하려고 하다 보니까 두 모델의 방식차이 때문에 혼동이 와 어려움이 있었다.\n",
    "\n",
    "- 개발 환경이 불안정해 모델을 돌릴 때 이전에 돌렸던 모델의 매개변수가 GPU memory에 남아있어 이를 해결하거나, 학습 도중 서버가 닫혀 모델을 다시 돌리는 등의 어려움이 있었다.\n",
    "\n",
    "- 3번의 학습동안 출력값이 []로 나오는 문제가 발생한 적이 있었는데, prepare_model_for_kbit_training과 get_peft_model의 위치가 바뀌어 모든 학습가능한 파라미터가 0이어서 학습이 진행이 안되었다는 것을 깨달았다. 이후 위치를 바꾸어 정상적으로 학습이 진행되었다."
   ]
  }
 ],
 "metadata": {
  "kernelspec": {
   "display_name": "PyTorch 2.6.0 (py3.10)",
   "language": "python",
   "name": "pytorch-2.6.0-cuda12.4-py3.10"
  },
  "language_info": {
   "codemirror_mode": {
    "name": "ipython",
    "version": 3
   },
   "file_extension": ".py",
   "mimetype": "text/x-python",
   "name": "python",
   "nbconvert_exporter": "python",
   "pygments_lexer": "ipython3",
   "version": "3.10.12"
  }
 },
 "nbformat": 4,
 "nbformat_minor": 5
}
