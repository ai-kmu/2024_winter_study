{
  "nbformat": 4,
  "nbformat_minor": 0,
  "metadata": {
    "colab": {
      "provenance": [],
      "gpuType": "T4"
    },
    "kernelspec": {
      "name": "python3",
      "display_name": "Python 3"
    },
    "language_info": {
      "name": "python"
    },
    "accelerator": "GPU"
  },
  "cells": [
    {
      "cell_type": "code",
      "source": [
        "import os\n",
        "import tarfile\n",
        "import urllib.request\n",
        "import numpy as np\n",
        "import matplotlib.pyplot as plt\n",
        "from sklearn.model_selection import train_test_split\n",
        "from sklearn.preprocessing import StandardScaler, OneHotEncoder\n",
        "import torch\n",
        "import torch.nn as nn\n",
        "import torch.optim as optim\n",
        "from torch.utils.data import DataLoader, TensorDataset\n",
        "\n",
        "# STL-10 데이터셋 다운로드 및 압축 해제\n",
        "def download_and_extract_stl10(url, dataset_dir):\n",
        "    if not os.path.exists(dataset_dir):  # 디렉토리 없으면 생성\n",
        "        os.makedirs(dataset_dir)\n",
        "    dataset_path = os.path.join(dataset_dir, \"stl10_binary.tar.gz\")\n",
        "    if not os.path.exists(dataset_path):  # 데이터셋 없으면 다운로드\n",
        "        print(\"Downloading STL-10 dataset...\")\n",
        "        urllib.request.urlretrieve(url, dataset_path)\n",
        "        print(\"Download complete.\")\n",
        "\n",
        "    with tarfile.open(dataset_path) as tar:  # 압축 해제\n",
        "        print(\"Extracting dataset...\")\n",
        "        tar.extractall(path=dataset_dir)\n",
        "        print(\"Extraction complete.\")\n",
        "\n",
        "# STL-10 데이터 로드\n",
        "def load_stl10(dataset_dir):\n",
        "    def read_all_images(path):  # 이미지 읽어오기\n",
        "        with open(path, \"rb\") as f:\n",
        "            everything = np.fromfile(f, dtype=np.uint8)\n",
        "            return everything.reshape(-1, 3, 96, 96).transpose(0, 3, 2, 1)\n",
        "\n",
        "    def read_labels(path):  # 레이블 읽어오기\n",
        "        with open(path, \"rb\") as f:\n",
        "            return np.fromfile(f, dtype=np.uint8)\n",
        "\n",
        "    # 학습/테스트 데이터 불러오기\n",
        "    X_train = read_all_images(os.path.join(dataset_dir, \"stl10_binary\", \"train_X.bin\"))\n",
        "    y_train = read_labels(os.path.join(dataset_dir, \"stl10_binary\", \"train_y.bin\"))\n",
        "    X_test = read_all_images(os.path.join(dataset_dir, \"stl10_binary\", \"test_X.bin\"))\n",
        "    y_test = read_labels(os.path.join(dataset_dir, \"stl10_binary\", \"test_y.bin\"))\n",
        "\n",
        "    return (X_train, y_train), (X_test, y_test)\n",
        "\n",
        "# 데이터 전처리\n",
        "def preprocess_data(X, y):\n",
        "    # 픽셀 값 정규화\n",
        "    X = X.astype(\"float32\") / 255.0\n",
        "\n",
        "    # PyTorch 텐서로 변환\n",
        "    X = torch.tensor(X).permute(0, 3, 1, 2)  # NCHW 형식으로 변환\n",
        "    y = torch.tensor(y - 1, dtype=torch.long)  # 레이블을 0부터 시작하도록 변경\n",
        "\n",
        "    return X, y\n"
      ],
      "metadata": {
        "id": "SGjCv_1IFzgF"
      },
      "execution_count": null,
      "outputs": []
    },
    {
      "cell_type": "code",
      "source": [
        "# Define MLP model\n",
        "class MLP(nn.Module):\n",
        "    def __init__(self, input_size, num_classes):\n",
        "        super(MLP, self).__init__()\n",
        "        self.flatten = nn.Flatten()\n",
        "        self.fc1 = nn.Linear(input_size, 512)\n",
        "        self.fc2 = nn.Linear(512, 256)\n",
        "        self.fc3 = nn.Linear(256, num_classes)\n",
        "        self.relu = nn.ReLU()\n",
        "\n",
        "    def forward(self, x):\n",
        "        x = self.flatten(x)\n",
        "        x = self.relu(self.fc1(x))\n",
        "        x = self.relu(self.fc2(x))\n",
        "        x = self.fc3(x)\n",
        "        return x"
      ],
      "metadata": {
        "id": "SJ5kjm4jKkqZ"
      },
      "execution_count": null,
      "outputs": []
    },
    {
      "cell_type": "code",
      "source": [
        "dataset_url = \"http://ai.stanford.edu/~acoates/stl10/stl10_binary.tar.gz\"\n",
        "dataset_dir = \"./stl10_dataset\"\n",
        "\n",
        "# Download and extract the dataset\n",
        "download_and_extract_stl10(dataset_url, dataset_dir)"
      ],
      "metadata": {
        "colab": {
          "base_uri": "https://localhost:8080/"
        },
        "id": "cVxSrnHsKhL9",
        "outputId": "2b2dae37-4db1-48f7-ae43-76493d4dff86"
      },
      "execution_count": null,
      "outputs": [
        {
          "output_type": "stream",
          "name": "stdout",
          "text": [
            "Extracting dataset...\n",
            "Extraction complete.\n"
          ]
        }
      ]
    },
    {
      "cell_type": "code",
      "source": [
        "# 데이터 로드\n",
        "(X_train, y_train), (X_test, y_test) = load_stl10(dataset_dir)\n",
        "\n",
        "# 데이터 전처리\n",
        "X_train, y_train = preprocess_data(X_train, y_train)\n",
        "X_test, y_test = preprocess_data(X_test, y_test)\n",
        "\n",
        "# 학습 데이터를 학습/검증 세트로 분할\n",
        "train_dataset = TensorDataset(X_train, y_train)\n",
        "val_size = int(0.2 * len(train_dataset))  # 검증 세트 크기 계산\n",
        "train_size = len(train_dataset) - val_size\n",
        "train_dataset, val_dataset = torch.utils.data.random_split(train_dataset, [train_size, val_size])\n",
        "\n",
        "# 데이터 로더 생성\n",
        "train_loader = DataLoader(train_dataset, batch_size=64, shuffle=True)\n",
        "val_loader = DataLoader(val_dataset, batch_size=64, shuffle=False)\n",
        "test_loader = DataLoader(TensorDataset(X_test, y_test), batch_size=64, shuffle=False)\n",
        "\n",
        "# 디바이스 설정\n",
        "device = torch.device('cuda' if torch.cuda.is_available() else 'cpu')\n",
        "\n",
        "# 모델, 손실 함수, 옵티마이저 정의\n",
        "model = MLP(96 * 96 * 3, 10).to(device)\n",
        "criterion = nn.CrossEntropyLoss()\n",
        "optimizer = optim.Adam(model.parameters(), lr=0.001)\n",
        "\n",
        "# 학습 루프\n",
        "num_epochs = 20\n",
        "train_acc, val_acc = [], []\n",
        "for epoch in range(num_epochs):\n",
        "    model.train()\n",
        "    correct, total, train_loss = 0, 0, 0\n",
        "    for X_batch, y_batch in train_loader:\n",
        "        X_batch, y_batch = X_batch.to(device), y_batch.to(device)\n",
        "        optimizer.zero_grad()\n",
        "        outputs = model(X_batch)\n",
        "        loss = criterion(outputs, y_batch)\n",
        "        loss.backward()\n",
        "        optimizer.step()\n",
        "\n",
        "        train_loss += loss.item()\n",
        "        _, predicted = torch.max(outputs, 1)\n",
        "        correct += (predicted == y_batch).sum().item()\n",
        "        total += y_batch.size(0)\n",
        "\n",
        "    train_acc.append(correct / total)  # 학습 정확도 저장\n",
        "\n",
        "    # 검증 루프\n",
        "    model.eval()\n",
        "    correct, total = 0, 0\n",
        "    with torch.no_grad():\n",
        "        for X_batch, y_batch in val_loader:\n",
        "            X_batch, y_batch = X_batch.to(device), y_batch.to(device)\n",
        "            outputs = model(X_batch)\n",
        "            _, predicted = torch.max(outputs, 1)\n",
        "            correct += (predicted == y_batch).sum().item()\n",
        "            total += y_batch.size(0)\n",
        "\n",
        "    val_acc.append(correct / total)  # 검증 정확도 저장\n",
        "\n",
        "    print(f\"Epoch {epoch + 1}/{num_epochs}, Train Loss: {train_loss / len(train_loader):.4f}, Train Acc: {train_acc[-1]:.4f}, Val Acc: {val_acc[-1]:.4f}\")\n",
        "\n",
        "# 테스트\n",
        "model.eval()\n",
        "correct, total = 0, 0\n",
        "with torch.no_grad():\n",
        "    for X_batch, y_batch in test_loader:\n",
        "        X_batch, y_batch = X_batch.to(device), y_batch.to(device)\n",
        "        outputs = model(X_batch)\n",
        "        _, predicted = torch.max(outputs, 1)\n",
        "        correct += (predicted == y_batch).sum().item()\n",
        "        total += y_batch.size(0)\n",
        "\n",
        "print(f\"Test Accuracy: {correct / total:.4f}\")\n",
        "\n",
        "# 학습 로그 시각화\n",
        "plt.figure()\n",
        "plt.plot(train_acc, label='Train Accuracy')\n",
        "plt.plot(val_acc, label='Validation Accuracy')\n",
        "plt.xlabel('Epochs')\n",
        "plt.ylabel('Accuracy')\n",
        "plt.legend()\n",
        "plt.title('Training and Validation Accuracy')\n",
        "plt.show()\n"
      ],
      "metadata": {
        "colab": {
          "base_uri": "https://localhost:8080/",
          "height": 837
        },
        "id": "oGhzmKFtLj1B",
        "outputId": "c8a35fbd-8f21-4f0b-bf3e-94766e727468"
      },
      "execution_count": null,
      "outputs": [
        {
          "output_type": "stream",
          "name": "stdout",
          "text": [
            "Epoch 1/20, Train Loss: 2.5158, Train Acc: 0.1785, Val Acc: 0.2280\n",
            "Epoch 2/20, Train Loss: 1.9312, Train Acc: 0.2760, Val Acc: 0.2460\n",
            "Epoch 3/20, Train Loss: 1.8383, Train Acc: 0.3157, Val Acc: 0.3340\n",
            "Epoch 4/20, Train Loss: 1.7648, Train Acc: 0.3427, Val Acc: 0.3040\n",
            "Epoch 5/20, Train Loss: 1.6957, Train Acc: 0.3760, Val Acc: 0.3290\n",
            "Epoch 6/20, Train Loss: 1.6379, Train Acc: 0.3925, Val Acc: 0.3530\n",
            "Epoch 7/20, Train Loss: 1.6217, Train Acc: 0.4027, Val Acc: 0.3560\n",
            "Epoch 8/20, Train Loss: 1.5779, Train Acc: 0.4120, Val Acc: 0.3680\n",
            "Epoch 9/20, Train Loss: 1.5315, Train Acc: 0.4323, Val Acc: 0.3600\n",
            "Epoch 10/20, Train Loss: 1.4878, Train Acc: 0.4517, Val Acc: 0.3840\n",
            "Epoch 11/20, Train Loss: 1.4380, Train Acc: 0.4660, Val Acc: 0.3620\n",
            "Epoch 12/20, Train Loss: 1.3876, Train Acc: 0.4923, Val Acc: 0.3500\n",
            "Epoch 13/20, Train Loss: 1.3621, Train Acc: 0.5030, Val Acc: 0.3530\n",
            "Epoch 14/20, Train Loss: 1.3354, Train Acc: 0.5132, Val Acc: 0.3830\n",
            "Epoch 15/20, Train Loss: 1.2299, Train Acc: 0.5553, Val Acc: 0.3760\n",
            "Epoch 16/20, Train Loss: 1.2875, Train Acc: 0.5400, Val Acc: 0.4080\n",
            "Epoch 17/20, Train Loss: 1.1458, Train Acc: 0.5830, Val Acc: 0.3890\n",
            "Epoch 18/20, Train Loss: 1.1281, Train Acc: 0.5933, Val Acc: 0.3850\n",
            "Epoch 19/20, Train Loss: 1.0429, Train Acc: 0.6192, Val Acc: 0.3850\n",
            "Epoch 20/20, Train Loss: 0.9853, Train Acc: 0.6512, Val Acc: 0.3750\n",
            "Test Accuracy: 0.3842\n"
          ]
        },
        {
          "output_type": "display_data",
          "data": {
            "text/plain": [
              "<Figure size 640x480 with 1 Axes>"
            ],
            "image/png": "[encoded data removed]"
          },
          "metadata": {}
        }
      ]
    },
    {
      "cell_type": "markdown",
      "source": [
        "# STL-10 데이터셋의 특징점\n",
        "\n",
        "STL-10 데이터셋도 딥러닝 및 머신러닝 연구에서 자주 사용되는 이미지 데이터셋 이지만, 특히 준지도 학습(semi-supervised learning) 및 전이 학습(transfer learning) 실험에 적합하도록 설계되었다.\n",
        "\n",
        "# 데이터셋 개요\n",
        "- **이미지 크기**: 96x96x3 (RGB 컬러 이미지)\n",
        "- **클래스 수**: 10개 (다음과 같은 클래스 포함)\n",
        "  - Airplane\n",
        "  - Bird\n",
        "  - Car\n",
        "  - Cat\n",
        "  - Deer\n",
        "  - Dog\n",
        "  - Horse\n",
        "  - Monkey\n",
        "  - Ship\n",
        "  - Truck\n",
        "- **데이터 분할**:\n",
        "  - Training Set: 5,000개 (각 클래스당 500개)\n",
        "  - Test Set: 8,000개 (클래스당 고르게 분포)\n",
        "  - Unlabeled Set: 100,000개 (라벨 없이 제공됨)\n",
        "\n",
        "# 주요 특징\n",
        "1. **저해상도에서 고해상도로 확장**  \n",
        "   CIFAR-10 데이터셋과 유사하지만 더 큰 이미지(96x96x3)을 포함한다.\n",
        "\n",
        "2. **준지도 학습 지원**  \n",
        "   Unlabeled Set이 제공되어, 라벨이 없는 데이터를 활용한 학습 기법을 연구하는 데 이상적입니다.\n",
        "\n",
        "3. **다양한 데이터 분포**  \n",
        "   실세계에서 촬영된 이미지를 기반으로 하며, 다양한 조명, 배경, 각도 등의 변형을 포함하여 현실적인 시나리오를 반영합니다.\n",
        "\n",
        "# 데이터 전처리\n",
        "STL-10 데이터셋을 사용하기 위해 일반적으로 다음과 같은 전처리 단계를 수행합니다:\n",
        "1. **정규화**: 각 채널의 평균과 표준편차를 계산하여 픽셀 값을 정규화합니다.\n",
        "2. **데이터 증강**: 훈련 데이터를 확장하기 위해 다음과 같은 기법을 적용할 수 있습니다:\n",
        "   - 좌우 반전\n",
        "   - 랜덤 크롭\n",
        "   - 밝기/대비 조정\n",
        "   - 학습 모델 기반의 라벨링\n",
        "\n",
        "## 활용 사례\n",
        "- **분류 모델 학습**: CNN(Convolutional Neural Network)을 활용한 기본 이미지 분류 실험.\n",
        "- **준지도 학습**: Unlabeled Set을 활용하여 학습된 표현의 일반화를 실험.\n",
        "- **전이 학습**: STL-10 데이터셋으로 사전 학습한 모델을 다른 데이터셋에 적용.\n",
        "\n",
        "\n",
        "# 라벨링 되지 않은 데이터 활용 방안\n",
        "\n",
        "라벨링 되지 않은 데이터 10만 장의 활용도가 이 과제에서 매우 중요해보였다. 이러한 데이터를 어떻게 활용할지가 핵심인 것 같다. 그에 대한 방안으로는 아래 두 가지 방식이 떠올랐는데,\n",
        "\n",
        "- **자가 지도 학습(Self-supervised Learning)**  \n",
        "  추후 학습할 예정인 자가 지도 학습은 라벨링되지 않은 데이터를 효과적으로 활용할 수 있는 방법 중 하나다. 하지만 현재 자가 지도 학습 방법에 대한 지식이 부족하여 이번 과제에서는 사용하지 않았다.\n",
        "\n",
        "- **준지도 학습(Semi-supervised Learning)**  \n",
        "  준지도 학습 역시 라벨링되지 않은 데이터를 활용할 수 있는 방법으로 고려되었다. 용어가 정확한지는 모르겠지만, 일단 train data에 대해서 학습을 하고, 학습한 모델을 바탕으로 labeling 되지 않은 모델들에 대해 학습 모델로 labeling 하는 방법이다. 하지만 실험 결과, 만족스러운 성능을 내지 못해 최종 제출본에서 삭제하였다.  \n"
      ],
      "metadata": {
        "id": "G3eGcqrvOQyg"
      }
    },
    {
      "cell_type": "markdown",
      "source": [
        "#특이사항\n",
        "\n",
        "STL10 데이터셋에 포함된 약 10만 개의 비라벨(unlabeled) 데이터를 활용하고자, Pseudo-Labeling을 적용한 반지도 학습(semi-supervised learning)을 시도해 보았습니다.\n",
        "\n",
        "Pseudo-Labeling이란, 라벨이 없는 데이터에 대해 현재 모델이 예측한 라벨을 일정 확률 이상 확신할 경우, 이를 '가짜 라벨(pseudo-label)'로 간주하고 마치 지도학습 데이터처럼 추가 학습에 활용하는 기법입니다.\n",
        "\n",
        "그러나 실험 결과, 지도학습만 단독으로 수행했을 때보다 성능이 크게 향상되지 않았습니다. 이는 기존에 MLP 모델이 학습한 정확도가 낮아서, 비라벨 데이터에 대한 pseudo-label이 잘못 예측된 경우가 많았기 때문이라 추정됩니다. 잘못된 pseudo-label이 반복적으로 학습되면서 모델이 더욱 오분류를 학습했을 가능성이 큽니다.\n",
        "\n",
        "결론적으로, 반지도학습의 한 방법인 pseudo-labeling과 단순 MLP를 사용하여 STL10을 분류하려 했지만 기대만큼의 성능 향상은 얻지 못하였습니다. 결국 지도학습 모드로 다시 전환하여 실험 시간을 단축하는 방법을 선택했으며, 이를 통해 STL10 같은 복잡한 이미지 분류 문제에는 더 적합한 모델 구조가 필요하다는 점을 확인할 수 있었습니다."
      ],
      "metadata": {
        "id": "mq9nnh2xWx6j"
      }
    },
    {
      "cell_type": "markdown",
      "source": [
        "# 분석 및 고찰\n",
        "\n",
        "입력 데이터의 구조적 또는 공간적 정보를 고려하지 못하며, **모든 입력을 단순히 하나의 벡터로 취급**합니다. 따라서, **이미지 데이터의 공간적 관계를 학습하는 데 비효율적**입니다. 또한, 많은 파라미터 수로 인해 고차원 데이터나 대규모 데이터셋에 대한 학습이 어렵고, **오버피팅 위험**이 있습니다.\n",
        "Horizontal Flip과 Vertical Flip을 적용한 **데이터 증강**은 모델 학습 데이터의 다양성을 증가시키는 데 기여했으나, **MLP의 구조적 한계**로 인해 성능 향상으로 이어지지 못했습니다. MLP는 이미지의 공간적 특성을 활용하지 못하므로, 이미지 데이터 처리에는 적합하지 않은 모델로 볼 수 있습니다."
      ],
      "metadata": {
        "id": "6NCLff72WYOG"
      }
    }
  ]
}