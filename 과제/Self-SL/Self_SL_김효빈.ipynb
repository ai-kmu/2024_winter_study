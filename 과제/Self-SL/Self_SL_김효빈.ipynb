{
  "cells": [
    {
      "cell_type": "code",
      "execution_count": 11,
      "id": "c77279b4-ced4-4345-a320-4f62131628bf",
      "metadata": {
        "execution": {
          "iopub.execute_input": "2025-03-08T13:33:29.910170Z",
          "iopub.status.busy": "2025-03-08T13:33:29.909883Z",
          "iopub.status.idle": "2025-03-08T13:33:41.440582Z",
          "shell.execute_reply": "2025-03-08T13:33:41.439941Z",
          "shell.execute_reply.started": "2025-03-08T13:33:29.910146Z"
        },
        "id": "c77279b4-ced4-4345-a320-4f62131628bf"
      },
      "outputs": [],
      "source": [
        "import torch\n",
        "import torch.nn as nn\n",
        "import torch.optim as optim\n",
        "import torchvision.transforms as transforms\n",
        "import torchvision.datasets as datasets\n",
        "from torch.utils.data import DataLoader, Subset, Dataset\n",
        "import numpy as np\n",
        "import matplotlib.pyplot as plt\n",
        "import torch.nn.functional as F\n",
        "import torchvision.models as models\n",
        "from sklearn.model_selection import train_test_split"
      ]
    },
    {
      "cell_type": "markdown",
      "source": [
        "# 데이터 전처리"
      ],
      "metadata": {
        "id": "g9LHdjoy5ptY"
      },
      "id": "g9LHdjoy5ptY"
    },
    {
      "cell_type": "code",
      "execution_count": 12,
      "id": "e35949af-719f-4107-ab5d-388172836c3e",
      "metadata": {
        "execution": {
          "iopub.execute_input": "2025-03-08T13:33:41.441954Z",
          "iopub.status.busy": "2025-03-08T13:33:41.441618Z",
          "iopub.status.idle": "2025-03-08T13:33:41.458381Z",
          "shell.execute_reply": "2025-03-08T13:33:41.457792Z",
          "shell.execute_reply.started": "2025-03-08T13:33:41.441932Z"
        },
        "id": "e35949af-719f-4107-ab5d-388172836c3e"
      },
      "outputs": [],
      "source": [
        "# 데이터셋 로드 및 전처리\n",
        "transform_labeled = transforms.Compose([\n",
        "    transforms.RandomHorizontalFlip(),\n",
        "    transforms.ToTensor(),\n",
        "    transforms.Normalize((0.5, 0.5, 0.5), (0.5, 0.5, 0.5))\n",
        "])\n",
        "\n",
        "transform_unlabeled = transforms.Compose([\n",
        "    transforms.RandomResizedCrop(32, scale=(0.2, 1.0)),\n",
        "    transforms.RandomApply([transforms.ColorJitter(0.4, 0.4, 0.4, 0.1)], p=0.8),\n",
        "    transforms.RandomGrayscale(p=0.2),\n",
        "    transforms.RandomHorizontalFlip(),\n",
        "    transforms.ToTensor(),\n",
        "    transforms.Normalize((0.5, 0.5, 0.5), (0.5, 0.5, 0.5))\n",
        "])\n",
        "\n",
        "device = torch.device(\"cuda\" if torch.cuda.is_available() else \"cpu\")"
      ]
    },
    {
      "cell_type": "markdown",
      "source": [
        "Baseline과 SimCLR에 서로 다른 transform을 적용하기 위해 labeled data를 위한 transform과 unlabeled data를 위한 transform을 따로 정의했다."
      ],
      "metadata": {
        "id": "UlAagLyG5tI4"
      },
      "id": "UlAagLyG5tI4"
    },
    {
      "cell_type": "code",
      "execution_count": 13,
      "id": "2af63ad6-73dd-4ebd-99ac-f666674dc436",
      "metadata": {
        "execution": {
          "iopub.execute_input": "2025-03-08T13:33:41.459290Z",
          "iopub.status.busy": "2025-03-08T13:33:41.459009Z",
          "iopub.status.idle": "2025-03-08T13:33:43.079652Z",
          "shell.execute_reply": "2025-03-08T13:33:43.079011Z",
          "shell.execute_reply.started": "2025-03-08T13:33:41.459270Z"
        },
        "id": "2af63ad6-73dd-4ebd-99ac-f666674dc436"
      },
      "outputs": [],
      "source": [
        "# transform을 각각 다르게 적용하기 위한 Custom Subset\n",
        "class CustomSubset(Dataset):\n",
        "    def __init__(self, dataset, indices, transform1=None, transform2=None):\n",
        "        self.dataset = dataset\n",
        "        self.indices = indices\n",
        "        self.transform1 = transform1\n",
        "        self.transform2 = transform2\n",
        "\n",
        "    def __getitem__(self, idx):\n",
        "        img, label = self.dataset[self.indices[idx]]\n",
        "\n",
        "        # 각 이미지에 대해 서로 다른 두 가지 변환을 적용\n",
        "        if self.transform1:\n",
        "            img1 = self.transform1(img)\n",
        "        if self.transform2:\n",
        "            img2 = self.transform2(img)\n",
        "\n",
        "        # 두 개의 augmentation된 이미지를 반환\n",
        "        if self.transform2 != None:\n",
        "            return img1, img2  # img1은 첫 번째 augmentation, img2는 두 번째 augmentation\n",
        "        else:\n",
        "            return img1, label\n",
        "\n",
        "    def __len__(self):\n",
        "        return len(self.indices)\n",
        "\n",
        "\n",
        "# CIFAR100의 클래스별 10% 샘플링\n",
        "def stratified_sampling(dataset, labeled_ratio=0.1):\n",
        "    labels = np.array(dataset.targets)  # CIFAR-100의 정답 라벨\n",
        "    train_indices, _ = train_test_split(\n",
        "        np.arange(len(dataset)), stratify=labels, train_size=labeled_ratio, random_state=42\n",
        "    )\n",
        "    return train_indices\n",
        "\n",
        "def get_cifar100_dataloaders(batch_size=128, labeled_ratio=0.1):\n",
        "    dataset = datasets.CIFAR100(root='./data', train=True, download=True)\n",
        "    test_dataset = datasets.CIFAR100(root='./data', train=False, download=True, transform=transform_labeled)\n",
        "\n",
        "    # 클래스별 10% 샘플링 적용\n",
        "    labeled_indices = stratified_sampling(dataset, labeled_ratio)\n",
        "    unlabeled_indices = np.setdiff1d(np.arange(len(dataset)), labeled_indices)\n",
        "\n",
        "    labeled_dataset = CustomSubset(dataset, labeled_indices, transform_labeled)\n",
        "    unlabeled_dataset = CustomSubset(dataset, unlabeled_indices, transform_unlabeled, transform_unlabeled)\n",
        "\n",
        "    labeled_loader = DataLoader(labeled_dataset, batch_size=batch_size, shuffle=True)\n",
        "    unlabeled_loader = DataLoader(unlabeled_dataset, batch_size=batch_size, shuffle=True)\n",
        "    test_loader = DataLoader(test_dataset, batch_size=batch_size, shuffle=False)\n",
        "\n",
        "    return labeled_loader, unlabeled_loader, test_loader\n"
      ]
    },
    {
      "cell_type": "markdown",
      "source": [
        "클래스별로 10%는 labeled data로 사용하고 나머지는 unlabeled data로 사용하기 위해 stratified_sampling를 만들어 labeled dataset과 unlabeled dataset으로 나눴다.\n",
        "\n",
        "transform을 각각 다르게 적용하기 위해 CustomSubset을 만들어 labeled data에는 기존에 사용하던 transform을, unlabeled data에는 SimCLR에서 사용한 transform을 적용하였다. 또한 SimCLR에는 각 이미지를 두 가지의 augmentation을 적용하도록 코드를 구성했다."
      ],
      "metadata": {
        "id": "EuO7rJq16IIC"
      },
      "id": "EuO7rJq16IIC"
    },
    {
      "cell_type": "markdown",
      "source": [
        "# ResNet18"
      ],
      "metadata": {
        "id": "DodBgm6J7DH9"
      },
      "id": "DodBgm6J7DH9"
    },
    {
      "cell_type": "code",
      "execution_count": 14,
      "id": "1f52b0d1-38d7-4e8c-bf45-0fd29e641708",
      "metadata": {
        "execution": {
          "iopub.execute_input": "2025-03-08T13:33:43.080889Z",
          "iopub.status.busy": "2025-03-08T13:33:43.080669Z",
          "iopub.status.idle": "2025-03-08T13:33:44.818773Z",
          "shell.execute_reply": "2025-03-08T13:33:44.818170Z",
          "shell.execute_reply.started": "2025-03-08T13:33:43.080868Z"
        },
        "id": "1f52b0d1-38d7-4e8c-bf45-0fd29e641708"
      },
      "outputs": [],
      "source": [
        "class BasicBlock(nn.Module):\n",
        "    def __init__(self, in_planes, planes, stride=1):\n",
        "        super(BasicBlock, self).__init__()\n",
        "\n",
        "        self.conv1 = nn.Conv2d(in_planes, planes, kernel_size=3, stride=stride, padding=1, bias=False)\n",
        "        self.bn1 = nn.BatchNorm2d(planes)\n",
        "        self.relu = nn.ReLU(inplace=True)\n",
        "        self.conv2 = nn.Conv2d(planes, planes, kernel_size=3, stride=1, padding=1, bias=False)\n",
        "        self.bn2 = nn.BatchNorm2d(planes)\n",
        "\n",
        "        self.shortcut = nn.Sequential()\n",
        "        if stride != 1 or in_planes != planes:\n",
        "            self.shortcut = nn.Sequential(\n",
        "                            nn.Conv2d(in_planes, planes, kernel_size=1, stride=stride, bias=False),\n",
        "                            nn.BatchNorm2d(planes)\n",
        "                            )\n",
        "\n",
        "    def forward(self, x):\n",
        "        out = self.relu(self.bn1(self.conv1(x)))\n",
        "        out = self.bn2(self.conv2(out))\n",
        "        out += self.shortcut(x)\n",
        "        out = self.relu(out)\n",
        "        return out"
      ]
    },
    {
      "cell_type": "code",
      "execution_count": 15,
      "id": "7066c61d-db4e-4684-a6f6-a260227a3e0e",
      "metadata": {
        "execution": {
          "iopub.execute_input": "2025-03-08T13:33:44.819625Z",
          "iopub.status.busy": "2025-03-08T13:33:44.819412Z",
          "iopub.status.idle": "2025-03-08T13:33:46.176033Z",
          "shell.execute_reply": "2025-03-08T13:33:46.175439Z",
          "shell.execute_reply.started": "2025-03-08T13:33:44.819603Z"
        },
        "id": "7066c61d-db4e-4684-a6f6-a260227a3e0e"
      },
      "outputs": [],
      "source": [
        "class ResNet(nn.Module):\n",
        "    def __init__(self, num_classes, block=BasicBlock, num_blocks=[2, 2, 2, 2]):\n",
        "        super(ResNet, self).__init__()\n",
        "        self.in_planes = 64\n",
        "\n",
        "        self.conv1 = nn.Conv2d(3, 64, kernel_size=3, stride=1, padding=1, bias=False)\n",
        "        self.bn1 = nn.BatchNorm2d(64)\n",
        "        self.relu = nn.ReLU(inplace=True)\n",
        "        self.maxpool = nn.MaxPool2d(kernel_size=3, stride=2, padding=1)\n",
        "\n",
        "        self.layer1 = self._make_layer(block, 64, num_blocks[0], stride=1)\n",
        "        self.layer2 = self._make_layer(block, 128, num_blocks[1], stride=2)\n",
        "        self.layer3 = self._make_layer(block, 256, num_blocks[2], stride=2)\n",
        "        self.layer4 = self._make_layer(block, 512, num_blocks[3], stride=2)\n",
        "\n",
        "        self.avgpool = nn.AdaptiveAvgPool2d(1)\n",
        "        self.linear = nn.Linear(512, num_classes)\n",
        "\n",
        "    def _make_layer(self, block, planes, num_blocks, stride):\n",
        "        strides = [stride] + [1] * (num_blocks - 1)\n",
        "        layers = []\n",
        "\n",
        "        for stride in strides:\n",
        "            layers.append(block(self.in_planes, planes, stride))\n",
        "            self.in_planes = planes\n",
        "\n",
        "        return nn.Sequential(*layers)\n",
        "\n",
        "    def forward(self, x):\n",
        "        out = self.relu(self.bn1(self.conv1(x)))\n",
        "        out = self.maxpool(out)\n",
        "        out = self.layer1(out)\n",
        "        out = self.layer2(out)\n",
        "        out = self.layer3(out)\n",
        "        out = self.layer4(out)\n",
        "        out = self.avgpool(out)\n",
        "        out = torch.flatten(out, 1)\n",
        "        out = self.linear(out)\n",
        "        return out\n"
      ]
    },
    {
      "cell_type": "markdown",
      "source": [
        "# SimCLR"
      ],
      "metadata": {
        "id": "HYxJaxPh7GGK"
      },
      "id": "HYxJaxPh7GGK"
    },
    {
      "cell_type": "code",
      "execution_count": 16,
      "id": "0d7cc287-353a-40d2-951c-30e114b0416a",
      "metadata": {
        "execution": {
          "iopub.execute_input": "2025-03-08T13:33:46.177070Z",
          "iopub.status.busy": "2025-03-08T13:33:46.176785Z",
          "iopub.status.idle": "2025-03-08T13:33:47.652859Z",
          "shell.execute_reply": "2025-03-08T13:33:47.651843Z",
          "shell.execute_reply.started": "2025-03-08T13:33:46.177047Z"
        },
        "id": "0d7cc287-353a-40d2-951c-30e114b0416a"
      },
      "outputs": [],
      "source": [
        "class SimCLR(nn.Module):\n",
        "    def __init__(self, hidden_dim):\n",
        "        super(SimCLR, self).__init__()\n",
        "\n",
        "        self.convnet = ResNet(100)\n",
        "\n",
        "        # 마지막 fc 레이어 수정\n",
        "        in_features = self.convnet.linear.in_features  # 기본 ResNet18의 fc 입력 크기 (512)\n",
        "\n",
        "        self.convnet.linear = nn.Sequential(\n",
        "            nn.Linear(in_features, 4 * hidden_dim),  # 4*hidden_dim으로 변환\n",
        "            nn.ReLU(inplace=True),\n",
        "            nn.Linear(4 * hidden_dim, hidden_dim)  # 최종 출력은 hidden_dim 크기\n",
        "        )\n",
        "\n",
        "    def forward(self, x):\n",
        "        # 수정된 ResNet18을 통해 입력을 처리\n",
        "        x = self.convnet(x)\n",
        "        return x"
      ]
    },
    {
      "cell_type": "markdown",
      "source": [
        "논문의 SimCLR에서는 pretrain된 모델을 가지고 대조 학습을 진행하였지만 10%의 labeled data로 학습시킨 ResNet18과 비교하기 위해 학습되지 않은 ResNet18을 사용하여 대조학습을 진행하였다.\n"
      ],
      "metadata": {
        "id": "fGgNc_3j7IQF"
      },
      "id": "fGgNc_3j7IQF"
    },
    {
      "cell_type": "code",
      "execution_count": 17,
      "id": "3ccb1802-1787-408f-aa6b-d17e67b606b2",
      "metadata": {
        "execution": {
          "iopub.execute_input": "2025-03-08T13:33:47.654306Z",
          "iopub.status.busy": "2025-03-08T13:33:47.654063Z",
          "iopub.status.idle": "2025-03-08T13:33:48.393891Z",
          "shell.execute_reply": "2025-03-08T13:33:48.393224Z",
          "shell.execute_reply.started": "2025-03-08T13:33:47.654284Z"
        },
        "id": "3ccb1802-1787-408f-aa6b-d17e67b606b2"
      },
      "outputs": [],
      "source": [
        "def train_supervised(model, dataloader, epochs=50, lr=0.01, device=\"cuda\" if torch.cuda.is_available() else \"cpu\"):\n",
        "    optimizer = optim.Adam(model.parameters(), lr=lr)\n",
        "    criterion = nn.CrossEntropyLoss()\n",
        "    model.to(device)\n",
        "    model.train()\n",
        "\n",
        "    losses = []\n",
        "\n",
        "    for epoch in range(epochs):\n",
        "        epoch_loss = 0\n",
        "\n",
        "        for images, labels in dataloader:\n",
        "            images, labels = images.to(device), labels.to(device)\n",
        "            optimizer.zero_grad()\n",
        "            outputs = model(images)\n",
        "            loss = criterion(outputs, labels)\n",
        "            loss.backward()\n",
        "            optimizer.step()\n",
        "            epoch_loss += loss.item()\n",
        "\n",
        "        avg_loss = epoch_loss / len(dataloader)\n",
        "        losses.append(avg_loss)\n",
        "\n",
        "        if (epoch + 1) % 10 == 0:\n",
        "            print(f\"Epoch [{epoch+1}/{epochs}], Loss: {avg_loss:.4f}\")\n",
        "\n",
        "    return model, losses\n"
      ]
    },
    {
      "cell_type": "code",
      "source": [
        "def pretrain_simclr(model, dataloader, epochs=100, lr=0.001, tau=0.07, device=\"cuda\" if torch.cuda.is_available() else \"cpu\"):\n",
        "    optimizer = optim.Adam(model.parameters(), lr=lr)\n",
        "    model.to(device)\n",
        "    model.train()\n",
        "\n",
        "    losses = []\n",
        "\n",
        "    for epoch in range(epochs):\n",
        "        epoch_loss = 0\n",
        "\n",
        "        for images1, images2 in dataloader:\n",
        "            images1, images2 = images1.to(device), images2.to(device)\n",
        "            optimizer.zero_grad()\n",
        "\n",
        "            z1 = model(images1)\n",
        "            z2 = model(images2)\n",
        "\n",
        "            z1 = F.normalize(z1, dim=1)\n",
        "            z2 = F.normalize(z2, dim=1)\n",
        "\n",
        "            features = torch.cat([z1, z2], dim=0)  # (2N, D)\n",
        "\n",
        "            # Compute cosine similarity\n",
        "            cos_sim = F.cosine_similarity(features[:, None, :], features[None, :, :], dim=-1)\n",
        "\n",
        "            # Mask out cosine similarity to itself\n",
        "            self_mask = torch.eye(cos_sim.shape[0], dtype=torch.bool, device=device)\n",
        "            cos_sim.masked_fill_(self_mask, -9e15)\n",
        "\n",
        "            # Find positive example -> batch_size//2 away from the original example\n",
        "            pos_mask = self_mask.roll(shifts=cos_sim.shape[0] // 2, dims=0)\n",
        "\n",
        "            # InfoNCE Loss\n",
        "            cos_sim = cos_sim / tau\n",
        "            nll = -cos_sim[pos_mask] + torch.logsumexp(cos_sim, dim=-1)\n",
        "            loss = nll.mean()\n",
        "\n",
        "            loss.backward()\n",
        "            optimizer.step()\n",
        "            epoch_loss += loss.item()\n",
        "\n",
        "        avg_loss = epoch_loss / len(dataloader)\n",
        "        losses.append(avg_loss)\n",
        "\n",
        "        print(f\"Epoch [{epoch+1}/{epochs}], Loss: {avg_loss:.4f}\")\n",
        "\n",
        "    return model, losses\n"
      ],
      "metadata": {
        "id": "DRQwBYlY7mZ4"
      },
      "id": "DRQwBYlY7mZ4",
      "execution_count": null,
      "outputs": []
    },
    {
      "cell_type": "markdown",
      "source": [
        "SimCLR에서는 InfoNCE Loss를 사용한다. 따라서 동일한 이미지에서 나온 augmentation된 두 이미지는 positive pair로, 배치 내에 있는 다른 이미지에서 나온 이미지들은 negative pair로 사용하도록 코드를 구성하였다.\n",
        "\n",
        "cosine similarity를 구하고 자기 자신은 유사도를 계산하지 않도록 하기위해 mask를 씌우고 mask에 -9e15를 넣어주었다.\n",
        "\n",
        "또한 동일한 이미지에서 나온 두 이미지는 positive pair로 만들어 주기 위해 roll을 사용하였다.\n",
        "\n",
        "이렇게 만들어진 cos_sim과 pos_mask를 사용하여 InfoNCE Loss를 구했다."
      ],
      "metadata": {
        "id": "D3hditF37hib"
      },
      "id": "D3hditF37hib"
    },
    {
      "cell_type": "code",
      "execution_count": 18,
      "id": "7bf63176-e1c6-4f0b-8758-518207b02689",
      "metadata": {
        "execution": {
          "iopub.execute_input": "2025-03-08T13:33:49.922571Z",
          "iopub.status.busy": "2025-03-08T13:33:49.922221Z",
          "iopub.status.idle": "2025-03-08T13:33:51.073313Z",
          "shell.execute_reply": "2025-03-08T13:33:51.072658Z",
          "shell.execute_reply.started": "2025-03-08T13:33:49.922536Z"
        },
        "id": "7bf63176-e1c6-4f0b-8758-518207b02689"
      },
      "outputs": [],
      "source": [
        "# 평가 함수에서 데이터도 device로 이동\n",
        "def evaluate(model, dataloader):\n",
        "    model.eval()\n",
        "    correct = 0\n",
        "    total = 0\n",
        "\n",
        "    with torch.no_grad():\n",
        "        for images, labels in dataloader:\n",
        "            images, labels = images.to(device), labels.to(device)  # 데이터도 GPU로 이동\n",
        "            outputs = model(images)\n",
        "            _, predicted = torch.max(outputs, 1)\n",
        "            correct += (predicted == labels).sum().item()\n",
        "            total += labels.size(0)\n",
        "\n",
        "    return correct / total"
      ]
    },
    {
      "cell_type": "code",
      "source": [
        "# 이미지들을 그리드 형식으로 시각화\n",
        "def show_images(images1, images2, num_images=3):\n",
        "    images1 = images1.cpu().numpy().transpose(0, 2, 3, 1)\n",
        "    images2 = images2.cpu().numpy().transpose(0, 2, 3, 1)\n",
        "\n",
        "    plt.figure(figsize=(12, 4))\n",
        "\n",
        "    for i in range(num_images):\n",
        "        plt.subplot(2, num_images, i + 1)\n",
        "        plt.imshow(images1[i])\n",
        "        plt.title(f\"Aug 1 - Image {i+1}\")\n",
        "        plt.axis('off')\n",
        "\n",
        "        plt.subplot(2, num_images, num_images + i + 1)\n",
        "        plt.imshow(images2[i])\n",
        "        plt.title(f\"Aug 2 - Image {i+1}\")\n",
        "        plt.axis('off')\n",
        "\n",
        "    plt.tight_layout()\n",
        "    plt.show()\n",
        "\n",
        "def visualize_batch(dataloader, num_images=3):\n",
        "\n",
        "    images1, images2 = next(iter(dataloader))\n",
        "\n",
        "    # 이미지 시각화\n",
        "    show_images(images1, images2, num_images)\n",
        "\n",
        "\n",
        "labeled_loader, unlabeled_loader, test_loader= get_cifar100_dataloaders()\n",
        "visualize_batch(unlabeled_loader, num_images=3)\n"
      ],
      "metadata": {
        "colab": {
          "base_uri": "https://localhost:8080/",
          "height": 546
        },
        "id": "_db1dDjHgwxC",
        "outputId": "6c74f9d4-4e5f-4df6-81e5-ec3817749f4c"
      },
      "id": "_db1dDjHgwxC",
      "execution_count": 22,
      "outputs": [
        {
          "output_type": "stream",
          "name": "stdout",
          "text": [
            "Files already downloaded and verified\n",
            "Files already downloaded and verified\n"
          ]
        },
        {
          "output_type": "stream",
          "name": "stderr",
          "text": [
            "WARNING:matplotlib.image:Clipping input data to the valid range for imshow with RGB data ([0..1] for floats or [0..255] for integers). Got range [-0.99215686..0.8901961].\n",
            "WARNING:matplotlib.image:Clipping input data to the valid range for imshow with RGB data ([0..1] for floats or [0..255] for integers). Got range [-1.0..0.70980394].\n",
            "WARNING:matplotlib.image:Clipping input data to the valid range for imshow with RGB data ([0..1] for floats or [0..255] for integers). Got range [-1.0..0.99215686].\n",
            "WARNING:matplotlib.image:Clipping input data to the valid range for imshow with RGB data ([0..1] for floats or [0..255] for integers). Got range [-1.0..0.827451].\n",
            "WARNING:matplotlib.image:Clipping input data to the valid range for imshow with RGB data ([0..1] for floats or [0..255] for integers). Got range [-0.90588236..0.34901965].\n",
            "WARNING:matplotlib.image:Clipping input data to the valid range for imshow with RGB data ([0..1] for floats or [0..255] for integers). Got range [-0.7019608..0.827451].\n"
          ]
        },
        {
          "output_type": "display_data",
          "data": {
            "text/plain": [
              "<Figure size 1200x400 with 6 Axes>"
            ],
            "image/png": "[encoded data removed]"
          },
          "metadata": {}
        }
      ]
    },
    {
      "cell_type": "code",
      "execution_count": 23,
      "id": "d3a84594-ac33-4570-9a3b-80073de56991",
      "metadata": {
        "execution": {
          "iopub.execute_input": "2025-03-08T14:03:51.769422Z",
          "iopub.status.busy": "2025-03-08T14:03:51.769110Z"
        },
        "colab": {
          "base_uri": "https://localhost:8080/"
        },
        "id": "d3a84594-ac33-4570-9a3b-80073de56991",
        "outputId": "b135c0c4-e781-4055-fc8f-db32c323b93c"
      },
      "outputs": [
        {
          "output_type": "stream",
          "name": "stdout",
          "text": [
            "Training Baseline Model...\n",
            "Epoch [10/50], Loss: 3.9071\n",
            "Epoch [20/50], Loss: 3.0394\n",
            "Epoch [30/50], Loss: 1.2077\n",
            "Epoch [40/50], Loss: 0.2862\n",
            "Epoch [50/50], Loss: 0.2101\n"
          ]
        }
      ],
      "source": [
        "print(\"Training Baseline Model...\")\n",
        "baseline_model = ResNet(100)\n",
        "baseline_model, baseline_losses = train_supervised(baseline_model, labeled_loader)"
      ]
    },
    {
      "cell_type": "code",
      "source": [
        "print(\"Pretraining with SimCLR...\")\n",
        "simclr_model = SimCLR(hidden_dim=128)\n",
        "simclr_model, simclr_losses = pretrain_simclr(simclr_model, unlabeled_loader)"
      ],
      "metadata": {
        "colab": {
          "base_uri": "https://localhost:8080/"
        },
        "id": "MSRgzHsutzmi",
        "outputId": "6f02a367-7660-44c1-f9a7-ce246fbd9c6f"
      },
      "id": "MSRgzHsutzmi",
      "execution_count": 24,
      "outputs": [
        {
          "output_type": "stream",
          "name": "stdout",
          "text": [
            "Pretraining with SimCLR...\n",
            "Epoch [1/100], Loss: 4.0865\n",
            "Epoch [2/100], Loss: 2.8191\n",
            "Epoch [3/100], Loss: 2.3291\n",
            "Epoch [4/100], Loss: 2.0344\n",
            "Epoch [5/100], Loss: 1.8221\n",
            "Epoch [6/100], Loss: 1.7060\n",
            "Epoch [7/100], Loss: 1.5760\n",
            "Epoch [8/100], Loss: 1.5173\n",
            "Epoch [9/100], Loss: 1.4594\n",
            "Epoch [10/100], Loss: 1.4020\n",
            "Epoch [11/100], Loss: 1.3690\n",
            "Epoch [12/100], Loss: 1.3204\n",
            "Epoch [13/100], Loss: 1.2751\n",
            "Epoch [14/100], Loss: 1.2578\n",
            "Epoch [15/100], Loss: 1.2533\n",
            "Epoch [16/100], Loss: 1.2191\n",
            "Epoch [17/100], Loss: 1.1861\n",
            "Epoch [18/100], Loss: 1.1734\n",
            "Epoch [19/100], Loss: 1.1585\n",
            "Epoch [20/100], Loss: 1.1314\n",
            "Epoch [21/100], Loss: 1.0933\n",
            "Epoch [22/100], Loss: 1.0781\n",
            "Epoch [23/100], Loss: 1.0490\n",
            "Epoch [24/100], Loss: 1.0384\n",
            "Epoch [25/100], Loss: 1.0093\n",
            "Epoch [26/100], Loss: 1.0031\n",
            "Epoch [27/100], Loss: 0.9691\n",
            "Epoch [28/100], Loss: 0.9539\n",
            "Epoch [29/100], Loss: 0.9355\n",
            "Epoch [30/100], Loss: 0.9228\n",
            "Epoch [31/100], Loss: 0.9172\n",
            "Epoch [32/100], Loss: 0.9035\n",
            "Epoch [33/100], Loss: 0.8944\n",
            "Epoch [34/100], Loss: 0.8989\n",
            "Epoch [35/100], Loss: 0.8890\n",
            "Epoch [36/100], Loss: 0.8700\n",
            "Epoch [37/100], Loss: 0.8571\n",
            "Epoch [38/100], Loss: 0.8488\n",
            "Epoch [39/100], Loss: 0.8600\n",
            "Epoch [40/100], Loss: 0.8300\n",
            "Epoch [41/100], Loss: 0.8220\n",
            "Epoch [42/100], Loss: 0.8138\n",
            "Epoch [43/100], Loss: 0.8133\n",
            "Epoch [44/100], Loss: 0.8027\n",
            "Epoch [45/100], Loss: 0.8037\n",
            "Epoch [46/100], Loss: 0.7931\n",
            "Epoch [47/100], Loss: 0.7875\n",
            "Epoch [48/100], Loss: 0.7678\n",
            "Epoch [49/100], Loss: 0.7749\n",
            "Epoch [50/100], Loss: 0.7707\n",
            "Epoch [51/100], Loss: 0.7555\n",
            "Epoch [52/100], Loss: 0.7563\n",
            "Epoch [53/100], Loss: 0.7409\n",
            "Epoch [54/100], Loss: 0.7449\n",
            "Epoch [55/100], Loss: 0.7283\n",
            "Epoch [56/100], Loss: 0.7280\n",
            "Epoch [57/100], Loss: 0.7221\n",
            "Epoch [58/100], Loss: 0.7094\n",
            "Epoch [59/100], Loss: 0.7052\n",
            "Epoch [60/100], Loss: 0.7010\n",
            "Epoch [61/100], Loss: 0.6919\n",
            "Epoch [62/100], Loss: 0.6840\n",
            "Epoch [63/100], Loss: 0.6861\n",
            "Epoch [64/100], Loss: 0.6805\n",
            "Epoch [65/100], Loss: 0.6829\n",
            "Epoch [66/100], Loss: 0.6770\n",
            "Epoch [67/100], Loss: 0.6603\n",
            "Epoch [68/100], Loss: 0.6634\n",
            "Epoch [69/100], Loss: 0.6511\n",
            "Epoch [70/100], Loss: 0.6600\n",
            "Epoch [71/100], Loss: 0.6465\n",
            "Epoch [72/100], Loss: 0.6425\n",
            "Epoch [73/100], Loss: 0.6431\n",
            "Epoch [74/100], Loss: 0.6282\n",
            "Epoch [75/100], Loss: 0.6307\n",
            "Epoch [76/100], Loss: 0.6191\n",
            "Epoch [77/100], Loss: 0.6232\n",
            "Epoch [78/100], Loss: 0.6067\n",
            "Epoch [79/100], Loss: 0.6079\n",
            "Epoch [80/100], Loss: 0.6176\n",
            "Epoch [81/100], Loss: 0.5991\n",
            "Epoch [82/100], Loss: 0.5854\n",
            "Epoch [83/100], Loss: 0.6063\n",
            "Epoch [84/100], Loss: 0.5817\n",
            "Epoch [85/100], Loss: 0.5863\n",
            "Epoch [86/100], Loss: 0.5938\n",
            "Epoch [87/100], Loss: 0.5831\n",
            "Epoch [88/100], Loss: 0.5661\n",
            "Epoch [89/100], Loss: 0.5895\n",
            "Epoch [90/100], Loss: 0.5781\n",
            "Epoch [91/100], Loss: 0.5831\n",
            "Epoch [92/100], Loss: 0.5705\n",
            "Epoch [93/100], Loss: 0.5791\n",
            "Epoch [94/100], Loss: 0.5641\n",
            "Epoch [95/100], Loss: 0.5562\n",
            "Epoch [96/100], Loss: 0.5580\n",
            "Epoch [97/100], Loss: 0.5518\n",
            "Epoch [98/100], Loss: 0.5504\n",
            "Epoch [99/100], Loss: 0.5459\n",
            "Epoch [100/100], Loss: 0.5471\n"
          ]
        }
      ]
    },
    {
      "cell_type": "code",
      "source": [
        "print(\"Fine-tuning after SimCLR...\")\n",
        "\n",
        "# Fine-tuning할 때는 SimCLR 모델에서 backbone을 가져와서 fc 레이어를 수정합니다.\n",
        "fine_tuned_backbone = simclr_model.convnet\n",
        "\n",
        "# ResNet18의 마지막 fc 레이어를 100 클래스를 출력하도록 수정\n",
        "fine_tuned_backbone.linear = nn.Linear(512, 100)\n",
        "\n",
        "# 이제 Fine-tuning을 진행합니다.\n",
        "fine_tuned_model, fine_tuned_losses = train_supervised(fine_tuned_backbone, labeled_loader, epochs=50, lr=0.01)\n",
        "\n",
        "print(\"Training Completed!\")\n"
      ],
      "metadata": {
        "id": "y0LhpVf7t1BQ",
        "colab": {
          "base_uri": "https://localhost:8080/"
        },
        "outputId": "86cc70e6-9f83-439a-c4b6-c1a404aafe41"
      },
      "id": "y0LhpVf7t1BQ",
      "execution_count": 25,
      "outputs": [
        {
          "output_type": "stream",
          "name": "stdout",
          "text": [
            "Fine-tuning after SimCLR...\n",
            "Epoch [10/50], Loss: 0.5811\n",
            "Epoch [20/50], Loss: 0.2060\n",
            "Epoch [30/50], Loss: 0.2030\n",
            "Epoch [40/50], Loss: 0.0823\n",
            "Epoch [50/50], Loss: 0.1939\n",
            "Training Completed!\n"
          ]
        }
      ]
    },
    {
      "cell_type": "code",
      "execution_count": 26,
      "id": "a8d77008-7ba8-4575-9844-b824338b0cc9",
      "metadata": {
        "id": "a8d77008-7ba8-4575-9844-b824338b0cc9",
        "colab": {
          "base_uri": "https://localhost:8080/",
          "height": 472
        },
        "outputId": "9ee88ffb-6c90-4bd1-ccbc-3577008bc13d"
      },
      "outputs": [
        {
          "output_type": "display_data",
          "data": {
            "text/plain": [
              "<Figure size 640x480 with 1 Axes>"
            ],
            "image/png": "[encoded data removed]"
          },
          "metadata": {}
        }
      ],
      "source": [
        "# 그래프 시각화\n",
        "plt.plot(baseline_losses, label='Baseline')\n",
        "plt.plot(simclr_losses, label='SimCLR Pretraining')\n",
        "plt.plot(fine_tuned_losses, label='Fine-Tuned')\n",
        "plt.xlabel('Epoch')\n",
        "plt.ylabel('Loss')\n",
        "plt.legend()\n",
        "plt.title('Training Loss per Epoch')\n",
        "plt.show()"
      ]
    },
    {
      "cell_type": "code",
      "execution_count": 27,
      "id": "f262ca65-6a4c-4dd4-b9cc-29b33546d771",
      "metadata": {
        "id": "f262ca65-6a4c-4dd4-b9cc-29b33546d771",
        "colab": {
          "base_uri": "https://localhost:8080/"
        },
        "outputId": "ed40b420-bcc2-4086-b1ea-32f3fe1f8cab"
      },
      "outputs": [
        {
          "output_type": "stream",
          "name": "stdout",
          "text": [
            "Baseline Test Accuracy: 22.14%\n",
            "SimCLR Test Accuracy: 30.70%\n"
          ]
        }
      ],
      "source": [
        "# 모델을 device로 이동\n",
        "baseline_model.to(device)\n",
        "fine_tuned_model.to(device)\n",
        "\n",
        "baseline_eval = evaluate(baseline_model, test_loader)\n",
        "simclr_eval = evaluate(fine_tuned_model, test_loader)\n",
        "\n",
        "print(f\"Baseline Test Accuracy: {baseline_eval * 100:.2f}%\")\n",
        "print(f\"SimCLR Test Accuracy: {simclr_eval * 100:.2f}%\")\n"
      ]
    },
    {
      "cell_type": "markdown",
      "source": [
        "Baseline 모델과 SimCLR 모델의 train loss는 각각 0.2101과 0.1939로 비슷하게 나왔지만, test accuracy에서는 꽤 큰 차이가 났다. 이 결과는 SimCLR을 사용한 모델이 더 잘 일반화된 성능을 보였다는 것을 나타낸다.\n",
        "\n",
        "train loss가 비슷한 이유는 두 모델이 모두 학습 데이터에 대해 잘 맞춰졌기 때문이다. Baseline 모델은 전통적인 supervised learning 방식으로 학습됐고, SimCLR은 contrastive learning 방식을 사용했다. 하지만 train loss만 보면 두 모델의 성능 차이는 크지 않다. 이는 두 모델 모두 학습 데이터에 대해서는 잘 학습됐음을 의미한다.\n",
        "\n",
        "하지만 test accuracy에서는 차이가 났다. Baseline 모델은 test 데이터에서 정확도가 낮았고, SimCLR 모델은 더 높은 정확도를 기록했다. 이는 SimCLR 모델이 더 잘 일반화되었기 때문이다.\n",
        "\n",
        "SimCLR이 더 잘 일반화되는 이유는 contrastive learning 방식을 사용했기 때문이다. SimCLR은 대규모의 unlabeled 데이터에서 유용한 특징을 학습할 수 있어, test 데이터에서도 더 나은 성능을 보일 수 있었다. 반면, Baseline 모델은 labeled 데이터에 의존하여 학습되기 때문에 test 데이터에서 overfitting 현상이 발생할 가능성이 있었다.\n",
        "\n",
        "SimCLR은 positive pair와 negative pair를 비교하면서 이미지를 잘 구별할 수 있는 특징을 학습한다. 이로 인해 모델이 더 다양한 상황에서 잘 작동할 수 있게 됐다. 그래서 test accuracy에서 SimCLR이 더 높은 성능을 보인 것이다.\n",
        "\n",
        "결론적으로, SimCLR이 더 좋은 성능을 보였다는 것은 모델이 학습 데이터뿐만 아니라 새로운 데이터에 대해서도 더 잘 일반화된 특징을 학습했기 때문이었다."
      ],
      "metadata": {
        "id": "UZ0Z7Ie1DAtO"
      },
      "id": "UZ0Z7Ie1DAtO"
    }
  ],
  "metadata": {
    "kernelspec": {
      "display_name": "PyTorch 2.6.0 (py3.10)",
      "language": "python",
      "name": "pytorch-2.6.0-cuda12.4-py3.10"
    },
    "language_info": {
      "codemirror_mode": {
        "name": "ipython",
        "version": 3
      },
      "file_extension": ".py",
      "mimetype": "text/x-python",
      "name": "python",
      "nbconvert_exporter": "python",
      "pygments_lexer": "ipython3",
      "version": "3.10.12"
    },
    "colab": {
      "provenance": [],
      "gpuType": "T4"
    },
    "accelerator": "GPU"
  },
  "nbformat": 4,
  "nbformat_minor": 5
}