{
  "nbformat": 4,
  "nbformat_minor": 0,
  "metadata": {
    "colab": {
      "provenance": [],
      "machine_shape": "hm",
      "gpuType": "T4"
    },
    "kernelspec": {
      "name": "python3",
      "display_name": "Python 3"
    },
    "language_info": {
      "name": "python"
    },
    "accelerator": "GPU"
  },
  "cells": [
    {
      "cell_type": "markdown",
      "source": [
        "## 데이터셋\n",
        "\n",
        "1. **데이터셋 개요**\n",
        "\n",
        "  데이터셋으로는 CIFAR-100 데이터셋을 사용하며, 이는 100개의 클래스(class)로 구성된 이미지 분류 데이터셋이다. 각 클래스는 600개의 이미지(총 60,000개)로 구성되어 있으며, 학습(train)과 테스트(test) 세트로 분리된다\n",
        "  <br>\n",
        "\n",
        "2. **재현성을 위한 시드 고정**\n",
        "\n",
        "  실험의 재현성을 확보하기 위해 시드를 고정하였다\n",
        "  <br>\n",
        "\n",
        "3. **데이터셋 분할 (Labeled / Unlabeled)**\n",
        "\n",
        "  반지도학습(semi-supervised learning)을 적용하기 위해 라벨이 있는 데이터(labeled)와 라벨이 없는 데이터(unlabeled)를 분리했다\n",
        "\n",
        "      •\tLabeled 데이터 (10%): 각 클래스당 60개의 이미지를 선택하여 labeled 데이터셋을 구성했다\n",
        "\n",
        "      •\tUnlabeled 데이터 (90%): 나머지 90%의 데이터를 unlabeled 데이터셋으로 활용했다\n",
        "      <br>\n",
        "\n",
        "4. **데이터 증강 (Labeled 데이터)**\n",
        "\n",
        "  라벨이 있는 데이터는 모델의 일반화 성능을 향상시키기 위해 데이터 증강(data augmentation) 기법을 적용하였다\n",
        "\n",
        "    •\tRandomHorizontalFlip(): 50% 확률로 이미지를 좌우 반전하여 학습 데이터 다양성을 증가시켰다\n",
        "\n",
        "    •\tRandomCrop: 패딩을 추가하여 랜덤한 위치에서 지정한 크기로 이미지를 잘라냈다\n"
      ],
      "metadata": {
        "id": "7e5WCKydR1Yf"
      }
    },
    {
      "cell_type": "code",
      "execution_count": 1,
      "metadata": {
        "colab": {
          "base_uri": "https://localhost:8080/"
        },
        "id": "mUaiosQzfOFJ",
        "outputId": "900c4714-34be-4346-aaff-d5c14267833e"
      },
      "outputs": [
        {
          "output_type": "stream",
          "name": "stdout",
          "text": [
            "Downloading https://www.cs.toronto.edu/~kriz/cifar-100-python.tar.gz to ./data/cifar-100-python.tar.gz\n"
          ]
        },
        {
          "output_type": "stream",
          "name": "stderr",
          "text": [
            "100%|██████████| 169M/169M [00:05<00:00, 29.7MB/s]\n"
          ]
        },
        {
          "output_type": "stream",
          "name": "stdout",
          "text": [
            "Extracting ./data/cifar-100-python.tar.gz to ./data\n"
          ]
        }
      ],
      "source": [
        "import torch\n",
        "import numpy as np\n",
        "import random\n",
        "from torchvision import datasets, transforms\n",
        "from torch.utils.data import Dataset, Subset\n",
        "from collections import defaultdict\n",
        "\n",
        "#  Seed 고정\n",
        "def seed_everything(seed=42):\n",
        "    random.seed(seed)\n",
        "    np.random.seed(seed)\n",
        "    torch.manual_seed(seed)\n",
        "    torch.cuda.manual_seed_all(seed)\n",
        "\n",
        "seed_everything(42)\n",
        "\n",
        "# CIFAR-100 기본 로드\n",
        "base_transform = transforms.ToTensor()\n",
        "train_dataset = datasets.CIFAR100(\n",
        "    root='./data', train=True, download=True, transform=base_transform,\n",
        ")\n",
        "\n",
        "#  클래스별 인덱스 나누기\n",
        "class_indices = defaultdict(list)\n",
        "for idx, (_, label) in enumerate(train_dataset):\n",
        "    class_indices[label].append(idx)\n",
        "\n",
        "labeled_indices = []\n",
        "unlabeled_indices = []\n",
        "\n",
        "for indices in class_indices.values():\n",
        "    np.random.shuffle(indices)\n",
        "    labeled_indices.extend(indices[:60])      # 10%\n",
        "    unlabeled_indices.extend(indices[60:])    # 90%\n",
        "\n",
        "# Labeled Dataset\n",
        "labeled_transform = transforms.Compose([\n",
        "    transforms.RandomHorizontalFlip(),\n",
        "    transforms.RandomCrop(32, padding=4),\n",
        "    transforms.ToTensor(),\n",
        "])\n",
        "\n",
        "labeled_dataset = Subset(train_dataset, labeled_indices)\n",
        "labeled_dataset.dataset.transform = labeled_transform"
      ]
    },
    {
      "cell_type": "markdown",
      "source": [
        "## Unlabeled용 증강 정의\n",
        "\n",
        "Unlabeled 데이터를 활용한 반지도 학습(Semi-Supervised Learning)에서는 **약한 증강(Weak Augmentation)**과 **강한 증강(Strong Augmentation)**을 적용하여 모델이 다양한 변형된 데이터를 학습하도록 유도했다\n",
        "\n",
        "<br>\n",
        "\n",
        "**약한 증강 (Weak Augmentation)**\n",
        "\n",
        "약한 증강은 원본 데이터에 최소한의 변형을 적용하였다\n",
        "\n",
        "  - 수평 뒤집기: 50% 확률로 이미지를 좌우로 뒤집어 변형된 데이터를 생성\n",
        "\n",
        "  - 랜덤 자르기 : 원본 이미지 크기를 유지하면서 패딩을 추가하고 무작위로 잘라서 모델이 다양한 위치에서 특징을 학습할 수 있도록 하였다\n",
        "\n",
        "<br>\n",
        "\n",
        "**강한 증강 (Strong Augmentation)**\n",
        "\n",
        "강한 증강은 원본 이미지에 보다 강력한 변형을 적용하여 모델이 보다 일반화된 표현을 학습하도록 유도한다\n",
        "\n",
        "- 수평 뒤집기 : 50% 확률로 좌우 반전 적용\n",
        "- 랜덤 자르기 : 약한 증강과 동일하게 랜덤 크롭 적용\n",
        "- 색상 변화 : 밝기, 대비, 채도, 색조를 무작위로 변화시켜 모델이 색상 변화에 둔감해지도록 학습\n",
        "- 랜덤 블러: 50% 확률로 가우시안 블러(Gaussian Blur)를 적용하여 이미지의 일부를 흐리게 적용\n"
      ],
      "metadata": {
        "id": "_WTegEk1iMfl"
      }
    },
    {
      "cell_type": "code",
      "source": [
        "# Weak Augmentation\n",
        "weak_transform = transforms.Compose([\n",
        "    transforms.RandomHorizontalFlip(),\n",
        "    transforms.RandomCrop(32, padding=4),\n",
        "    transforms.ToTensor(),\n",
        "])\n",
        "\n",
        "# Strong Augmentation\n",
        "strong_transform = transforms.Compose([\n",
        "    transforms.RandomHorizontalFlip(),\n",
        "    transforms.RandomCrop(32, padding=4),\n",
        "    transforms.ColorJitter(0.4, 0.4, 0.4, 0.1),\n",
        "    transforms.RandomApply([\n",
        "        transforms.GaussianBlur(3)\n",
        "    ], p=0.5),\n",
        "    transforms.ToTensor(),\n",
        "])"
      ],
      "metadata": {
        "id": "qvbZsKRZiLsi"
      },
      "execution_count": 2,
      "outputs": []
    },
    {
      "cell_type": "markdown",
      "source": [
        "## Unlabeled Dataset 클래스\n",
        "\n",
        "•\tUnlabeledDataset은 Weak Augmentation / Strong Augmentation을 적용한 이미지 쌍을 반환하는 데이터셋 클래스\n",
        "\n",
        "•\t라벨을 사용하지 않고, 같은 이미지에 대해 서로 다른 Augmentation을 적용하여 모델이 일관성(consistency)을 유지하도록 학습을 유도했다\n",
        "\n",
        "•\t반지도 학습에서 중요한 역할을 하는 데이터셋 클래스로, Pseudo-Labeling 및 Contrastive Learning과 함께 활용하였다"
      ],
      "metadata": {
        "id": "mtyqE5WZiPyg"
      }
    },
    {
      "cell_type": "code",
      "source": [
        "from torchvision.transforms.functional import to_pil_image\n",
        "\n",
        "class UnlabeledDataset(Dataset):\n",
        "    def __init__(self, dataset, indices, weak_transform, strong_transform):\n",
        "        self.dataset = dataset\n",
        "        self.indices = indices\n",
        "        self.weak_transform = weak_transform\n",
        "        self.strong_transform = strong_transform\n",
        "\n",
        "    def __len__(self):\n",
        "        return len(self.indices)\n",
        "\n",
        "    def __getitem__(self, idx):\n",
        "        image, _ = self.dataset[self.indices[idx]]  # 라벨은 사용하지 않음\n",
        "\n",
        "        # Tensor로 변환된 경우 다시 PIL 이미지로 변환\n",
        "        if isinstance(image, torch.Tensor):\n",
        "            image = to_pil_image(image)  #  PIL 이미지로 변환\n",
        "\n",
        "        weak_img = self.weak_transform(image)  #  PIL Image로 변환 후 적용\n",
        "        strong_img = self.strong_transform(image)\n",
        "\n",
        "        return weak_img, strong_img"
      ],
      "metadata": {
        "id": "oxXv-L5eiUqv"
      },
      "execution_count": 3,
      "outputs": []
    },
    {
      "cell_type": "code",
      "source": [
        "unlabeled_dataset = UnlabeledDataset(\n",
        "    train_dataset, unlabeled_indices, weak_transform, strong_transform\n",
        ")\n",
        "\n",
        "print(f\"Labeled 데이터: {len(labeled_dataset)}장\")\n",
        "print(f\"Unlabeled 데이터: {len(unlabeled_dataset)}장\")"
      ],
      "metadata": {
        "colab": {
          "base_uri": "https://localhost:8080/"
        },
        "id": "KFxM1fC4ieVO",
        "outputId": "2cf58a98-9278-4bb7-9802-1dea4430be13"
      },
      "execution_count": 4,
      "outputs": [
        {
          "output_type": "stream",
          "name": "stdout",
          "text": [
            "Labeled 데이터: 6000장\n",
            "Unlabeled 데이터: 44000장\n"
          ]
        }
      ]
    },
    {
      "cell_type": "markdown",
      "source": [
        "## Data 확인"
      ],
      "metadata": {
        "id": "Vv8LhgbyjLEx"
      }
    },
    {
      "cell_type": "code",
      "source": [
        "import matplotlib.pyplot as plt\n",
        "\n",
        "# labled data 예시로 1개 확인\n",
        "for i in range(1):\n",
        "    img, label = labeled_dataset[i]\n",
        "    print(f\"Label: {label}, Shape: {img.shape}\")\n",
        "    plt.imshow(img.permute(1, 2, 0))\n",
        "    plt.title(f\"Label: {label}\")\n",
        "    plt.show()\n"
      ],
      "metadata": {
        "colab": {
          "base_uri": "https://localhost:8080/",
          "height": 470
        },
        "id": "RBDHfPo_jNPS",
        "outputId": "b5d609f5-4fe0-40a8-aeca-79ca98ad3e00"
      },
      "execution_count": 5,
      "outputs": [
        {
          "output_type": "stream",
          "name": "stdout",
          "text": [
            "Label: 19, Shape: torch.Size([3, 32, 32])\n"
          ]
        },
        {
          "output_type": "display_data",
          "data": {
            "text/plain": [
              "<Figure size 640x480 with 1 Axes>"
            ],
            "image/png": "[encoded data removed]"
          },
          "metadata": {}
        }
      ]
    },
    {
      "cell_type": "markdown",
      "source": [
        "## DataLoader\n",
        "\n",
        "- labeled train\t: 4,800장\n",
        "\n",
        "- labeled val\t: 1,200장\n",
        "\n",
        "- unlabeled train : \t44,000장\n",
        "\n",
        "- test : 10,000장"
      ],
      "metadata": {
        "id": "Axi7kz3nVaiV"
      }
    },
    {
      "cell_type": "code",
      "source": [
        "from torch.utils.data import DataLoader\n",
        "from sklearn.model_selection import train_test_split\n",
        "\n",
        "\n",
        "batch_size = 32\n",
        "\n",
        "# Test 데이터셋 로드\n",
        "test_transform = transforms.ToTensor()\n",
        "test_dataset = datasets.CIFAR100(\n",
        "    root='./data', train=False, download=True, transform=test_transform\n",
        ")\n",
        "\n",
        "test_loader = DataLoader(\n",
        "    test_dataset, batch_size=batch_size, shuffle=False, num_workers=0\n",
        ")\n",
        "\n",
        "#  Validation, Test용 Transform\n",
        "basic_transform = transforms.ToTensor()\n",
        "\n",
        "# labeled 데이터 80% / 20% 분리\n",
        "train_indices, val_indices = train_test_split(\n",
        "    labeled_indices, test_size=0.2, random_state=42\n",
        ")\n",
        "\n",
        "labeled_train_dataset = Subset(train_dataset, train_indices)\n",
        "labeled_train_dataset.dataset.transform = labeled_transform\n",
        "\n",
        "labeled_val_dataset = Subset(train_dataset, val_indices)\n",
        "labeled_val_dataset.dataset.transform = basic_transform\n",
        "\n",
        "\n",
        "labeled_train_loader = DataLoader(\n",
        "    labeled_train_dataset, batch_size=batch_size, shuffle=True, num_workers=0\n",
        ")\n",
        "\n",
        "labeled_val_loader = DataLoader(\n",
        "    labeled_val_dataset, batch_size=batch_size, shuffle=False, num_workers=0\n",
        ")\n",
        "\n",
        "unlabeled_dataset = UnlabeledDataset(\n",
        "    train_dataset, unlabeled_indices, weak_transform, strong_transform\n",
        ")\n",
        "\n",
        "unlabeled_loader = DataLoader(\n",
        "    unlabeled_dataset, batch_size=batch_size, shuffle=True, num_workers=0\n",
        ")"
      ],
      "metadata": {
        "id": "xMmGQNfbVcCb",
        "colab": {
          "base_uri": "https://localhost:8080/"
        },
        "outputId": "c95c9aac-fc44-4c94-ba8a-6fa2cd122f3c"
      },
      "execution_count": 6,
      "outputs": [
        {
          "output_type": "stream",
          "name": "stdout",
          "text": [
            "Files already downloaded and verified\n"
          ]
        }
      ]
    },
    {
      "cell_type": "markdown",
      "source": [
        "## Baseline 모델 정의\n",
        "\n",
        "•\tResNet-18을 기반으로 CIFAR-100 분류 모델을 구성\n",
        "\n",
        "•\t기존 Fully Connected Layer를 Dropout이 적용된 새로운 FC Layer로 변경하여 과적합 방지\n",
        "\n",
        "•\tCrossEntropyLoss를 손실 함수로 사용\n",
        "\n",
        "•\tAdamW 옵티마이저와 Weight Decay(1e-4)를 적용\n",
        "\n",
        "•\tReduceLROnPlateau 스케줄러 적용하여 Validation Loss에 따라 학습률을 동적으로 조절"
      ],
      "metadata": {
        "id": "DFjBWNRIagl2"
      }
    },
    {
      "cell_type": "code",
      "source": [
        "import torchvision.models as models\n",
        "import torch.optim as optim\n",
        "import torch.nn as nn\n",
        "import torch\n",
        "\n",
        "# ResNet-18 모델 생성\n",
        "baseline_model = models.resnet18(pretrained=False)\n",
        "num_features = baseline_model.fc.in_features  # 기존 Fully Connected layer의 입력 차원\n",
        "\n",
        "# Dropout 추가된 새로운 Fully Connected Layer 적용\n",
        "baseline_model.fc = nn.Sequential(\n",
        "    nn.Dropout(p=0.5),  # Dropout 적용 (50%)\n",
        "    nn.Linear(num_features, 100)  # CIFAR-100 클래스 수\n",
        ")\n",
        "\n",
        "baseline_model = baseline_model.cuda()\n",
        "\n",
        "# optimizer, loss 설정\n",
        "criterion = nn.CrossEntropyLoss()\n",
        "optimizer = optim.AdamW(baseline_model.parameters(), lr=0.001, weight_decay=1e-4)\n",
        "scheduler = optim.lr_scheduler.ReduceLROnPlateau(optimizer, mode='min', factor=0.5, patience=3, verbose=True)"
      ],
      "metadata": {
        "id": "FptDUU7KaiQC",
        "colab": {
          "base_uri": "https://localhost:8080/"
        },
        "outputId": "376a9f9d-5177-4efc-c338-db754f58acbd"
      },
      "execution_count": 7,
      "outputs": [
        {
          "output_type": "stream",
          "name": "stderr",
          "text": [
            "/usr/local/lib/python3.11/dist-packages/torchvision/models/_utils.py:208: UserWarning: The parameter 'pretrained' is deprecated since 0.13 and may be removed in the future, please use 'weights' instead.\n",
            "  warnings.warn(\n",
            "/usr/local/lib/python3.11/dist-packages/torchvision/models/_utils.py:223: UserWarning: Arguments other than a weight enum or `None` for 'weights' are deprecated since 0.13 and may be removed in the future. The current behavior is equivalent to passing `weights=None`.\n",
            "  warnings.warn(msg)\n",
            "/usr/local/lib/python3.11/dist-packages/torch/optim/lr_scheduler.py:62: UserWarning: The verbose parameter is deprecated. Please use get_last_lr() to access the learning rate.\n",
            "  warnings.warn(\n"
          ]
        }
      ]
    },
    {
      "cell_type": "markdown",
      "source": [
        "# train"
      ],
      "metadata": {
        "id": "moyNYtL9aug9"
      }
    },
    {
      "cell_type": "code",
      "source": [
        "import matplotlib.pyplot as plt\n",
        "\n",
        "#  학습 과정 기록용 리스트 생성\n",
        "baseline_train_losses = []\n",
        "baseline_val_accuracies = []\n",
        "\n",
        "epochs = 30\n",
        "\n",
        "for epoch in range(epochs):\n",
        "    baseline_model.train()\n",
        "    total_loss = 0\n",
        "    correct = 0\n",
        "    total = 0\n",
        "\n",
        "    for imgs, labels in labeled_train_loader:\n",
        "        imgs, labels = imgs.cuda(), labels.cuda()\n",
        "\n",
        "        optimizer.zero_grad()\n",
        "        outputs = baseline_model(imgs)\n",
        "        loss = criterion(outputs, labels)\n",
        "        loss.backward()\n",
        "        optimizer.step()\n",
        "\n",
        "        total_loss += loss.item()\n",
        "        _, preds = outputs.max(1)\n",
        "        correct += preds.eq(labels).sum().item()\n",
        "        total += labels.size(0)\n",
        "\n",
        "    train_loss = total_loss / len(labeled_train_loader)\n",
        "    train_acc = correct / total * 100\n",
        "\n",
        "    #  Validation\n",
        "    baseline_model.eval()\n",
        "    val_loss = 0\n",
        "    val_correct = 0\n",
        "    val_total = 0\n",
        "\n",
        "    with torch.no_grad():\n",
        "        for imgs, labels in labeled_val_loader:\n",
        "            imgs, labels = imgs.cuda(), labels.cuda()\n",
        "            outputs = baseline_model(imgs)\n",
        "            loss = criterion(outputs, labels)\n",
        "\n",
        "            val_loss += loss.item()\n",
        "            _, preds = outputs.max(1)\n",
        "            val_correct += preds.eq(labels).sum().item()\n",
        "            val_total += labels.size(0)\n",
        "\n",
        "    val_loss /= len(labeled_val_loader)\n",
        "    val_acc = val_correct / val_total * 100\n",
        "\n",
        "    scheduler.step(val_loss)\n",
        "\n",
        "    #  epoch별 결과 저장\n",
        "    baseline_train_losses.append(train_loss)\n",
        "    baseline_val_accuracies.append(val_acc)\n",
        "\n",
        "    print(f\"Epoch [{epoch+1}/{epochs}] \"\n",
        "          f\"Train Loss: {train_loss:.4f} \"\n",
        "          f\"Val Acc: {val_acc:.2f}%\")"
      ],
      "metadata": {
        "id": "_44Di66sazhx",
        "colab": {
          "base_uri": "https://localhost:8080/"
        },
        "outputId": "724e5bcc-4185-481f-fe78-ed68e2cc4669"
      },
      "execution_count": 8,
      "outputs": [
        {
          "output_type": "stream",
          "name": "stdout",
          "text": [
            "Epoch [1/30] Train Loss: 4.7044 Val Acc: 5.08%\n",
            "Epoch [2/30] Train Loss: 4.2653 Val Acc: 6.17%\n",
            "Epoch [3/30] Train Loss: 4.0548 Val Acc: 7.50%\n",
            "Epoch [4/30] Train Loss: 3.8666 Val Acc: 9.58%\n",
            "Epoch [5/30] Train Loss: 3.7158 Val Acc: 8.33%\n",
            "Epoch [6/30] Train Loss: 3.5530 Val Acc: 13.17%\n",
            "Epoch [7/30] Train Loss: 3.3760 Val Acc: 15.33%\n",
            "Epoch [8/30] Train Loss: 3.2299 Val Acc: 15.58%\n",
            "Epoch [9/30] Train Loss: 2.9840 Val Acc: 14.92%\n",
            "Epoch [10/30] Train Loss: 2.7534 Val Acc: 17.42%\n",
            "Epoch [11/30] Train Loss: 2.5470 Val Acc: 19.92%\n",
            "Epoch [12/30] Train Loss: 2.2947 Val Acc: 17.00%\n",
            "Epoch [13/30] Train Loss: 2.0680 Val Acc: 17.00%\n",
            "Epoch [14/30] Train Loss: 1.8034 Val Acc: 16.83%\n",
            "Epoch [15/30] Train Loss: 1.5327 Val Acc: 15.92%\n",
            "Epoch [16/30] Train Loss: 0.8880 Val Acc: 21.92%\n",
            "Epoch [17/30] Train Loss: 0.5868 Val Acc: 22.17%\n",
            "Epoch [18/30] Train Loss: 0.4090 Val Acc: 21.33%\n",
            "Epoch [19/30] Train Loss: 0.3062 Val Acc: 20.92%\n",
            "Epoch [20/30] Train Loss: 0.1936 Val Acc: 22.17%\n",
            "Epoch [21/30] Train Loss: 0.1052 Val Acc: 22.08%\n",
            "Epoch [22/30] Train Loss: 0.0863 Val Acc: 21.42%\n",
            "Epoch [23/30] Train Loss: 0.0796 Val Acc: 22.00%\n",
            "Epoch [24/30] Train Loss: 0.0562 Val Acc: 22.33%\n",
            "Epoch [25/30] Train Loss: 0.0417 Val Acc: 22.33%\n",
            "Epoch [26/30] Train Loss: 0.0387 Val Acc: 22.92%\n",
            "Epoch [27/30] Train Loss: 0.0354 Val Acc: 22.75%\n",
            "Epoch [28/30] Train Loss: 0.0285 Val Acc: 22.92%\n",
            "Epoch [29/30] Train Loss: 0.0238 Val Acc: 22.75%\n",
            "Epoch [30/30] Train Loss: 0.0252 Val Acc: 22.17%\n"
          ]
        }
      ]
    },
    {
      "cell_type": "markdown",
      "source": [
        "## Test\n",
        "\n",
        "Baseline 모델 정확도 Accuracy: 21.96%"
      ],
      "metadata": {
        "id": "THxH0WqS5i7S"
      }
    },
    {
      "cell_type": "code",
      "source": [
        "#  기록용 리스트 생성\n",
        "baseline_test_loss = []\n",
        "baseline_test_acc = []\n",
        "\n",
        "#  Baseline Test 평가\n",
        "baseline_model.eval()\n",
        "test_loss = 0\n",
        "test_correct = 0\n",
        "test_total = 0\n",
        "\n",
        "with torch.no_grad():\n",
        "    for imgs, labels in test_loader:\n",
        "        imgs, labels = imgs.cuda(), labels.cuda()\n",
        "        outputs = baseline_model(imgs)\n",
        "        loss = criterion(outputs, labels)\n",
        "\n",
        "        test_loss += loss.item()\n",
        "        _, preds = outputs.max(1)\n",
        "        test_correct += preds.eq(labels).sum().item()\n",
        "        test_total += labels.size(0)\n",
        "\n",
        "avg_test_loss = test_loss / len(test_loader)\n",
        "test_acc = test_correct / test_total * 100\n",
        "\n",
        "baseline_test_loss.append(avg_test_loss)\n",
        "baseline_test_acc.append(test_acc)\n",
        "\n",
        "print(f\"\\n Baseline Test Result - Loss: {avg_test_loss:.4f}, Accuracy: {test_acc:.2f}%\")"
      ],
      "metadata": {
        "colab": {
          "base_uri": "https://localhost:8080/"
        },
        "id": "MAZb_Uks5hyU",
        "outputId": "725af6ca-8f7a-43e7-db9f-5f1e07c42f1f"
      },
      "execution_count": 9,
      "outputs": [
        {
          "output_type": "stream",
          "name": "stdout",
          "text": [
            "\n",
            " Baseline Test Result - Loss: 5.4603, Accuracy: 21.96%\n"
          ]
        }
      ]
    },
    {
      "cell_type": "markdown",
      "source": [
        "## ResNet Feature Extractor 준비\n",
        "Semi-Supervised 학습에서 ResNet-18을 활용한 Feature Extractor를 구성하였다\n",
        "\n",
        "ResNet의 사전 학습된 가중치를 활용하는 대신, 처음부터 학습 가능하도록 설정하였다\n",
        "\n",
        "이 Feature Extractor는 Unlabeled Data이미지에서 유용한 특징(feature)을 추출하는 역할을 한다"
      ],
      "metadata": {
        "id": "CvjG5Hu2Q6E6"
      }
    },
    {
      "cell_type": "code",
      "source": [
        "import torchvision.models as models\n",
        "import torch.nn as nn\n",
        "\n",
        "\n",
        "# Feature Extractor (feature만 뽑음)\n",
        "class ResNetFeatureExtractor(nn.Module):\n",
        "    def __init__(self):\n",
        "        super().__init__()\n",
        "        resnet = models.resnet18(pretrained=False)\n",
        "        self.features = nn.Sequential(*list(resnet.children())[:-1])\n",
        "        self.feature_dim = resnet.fc.in_features\n",
        "\n",
        "    def forward(self, x):\n",
        "        x = self.features(x)\n",
        "        x = x.view(x.size(0), -1)\n",
        "        return x\n",
        "\n",
        "\n",
        "feature_extractor = ResNetFeatureExtractor().cuda()\n",
        "classifier = nn.Linear(feature_extractor.feature_dim, 100).cuda()"
      ],
      "metadata": {
        "id": "4rfqtVmmnpQq"
      },
      "execution_count": 10,
      "outputs": []
    },
    {
      "cell_type": "markdown",
      "source": [
        "## Our 모델 정의\n",
        "\n",
        "Semi-Supervised 학습을 위한 ResNet 기반 모델을 정의하였다\n",
        "\n",
        "이 모델은 ResNet-18의 Feature Extractor를 활용하고, Classifier 부분에 Dropout을 추가하여 일반화 성능을 향상시키도록 설계되었다\n"
      ],
      "metadata": {
        "id": "yyFKARLYblBE"
      }
    },
    {
      "cell_type": "code",
      "source": [
        "import torch.nn as nn\n",
        "import torchvision.models as models\n",
        "\n",
        "class OurModel(nn.Module):\n",
        "    def __init__(self):\n",
        "        super().__init__()\n",
        "        self.feature_extractor = ResNetFeatureExtractor()  # ResNet-18 기반 feature 추출\n",
        "\n",
        "        # Dropout 추가\n",
        "        self.dropout = nn.Dropout(p=0.5)  # Dropout 확률 50%\n",
        "        self.classifier = nn.Linear(self.feature_extractor.feature_dim, 100)  # CIFAR-100 분류기\n",
        "\n",
        "    def forward(self, x):\n",
        "        features = self.feature_extractor(x)  # (batch_size, 512)\n",
        "        features = self.dropout(features)  #  Dropout 적용\n",
        "        outputs = self.classifier(features)  # (batch_size, 100)\n",
        "        return outputs\n",
        "\n",
        "#  모델 생성\n",
        "model = OurModel().cuda()"
      ],
      "metadata": {
        "id": "_Gf7cHn_2LVC"
      },
      "execution_count": 11,
      "outputs": []
    },
    {
      "cell_type": "markdown",
      "source": [
        "## 손실 함수, optimizer 설정\n",
        "\n",
        "•\tCrossEntropyLoss를 손실 함수로 사용\n",
        "\n",
        "•\tAdamW 옵티마이저와 Weight Decay(1e-4)를 적용"
      ],
      "metadata": {
        "id": "uIOtNnJVeVY_"
      }
    },
    {
      "cell_type": "code",
      "source": [
        "import torch.nn.functional as F\n",
        "\n",
        "# 손실 함수\n",
        "ce_loss = nn.CrossEntropyLoss()\n",
        "mse_loss = nn.MSELoss()\n",
        "\n",
        "# 옵티마이저\n",
        "params = list(model.parameters())\n",
        "optimizer = optim.AdamW(model.parameters(), lr=0.001, weight_decay=1e-4)\n",
        "scheduler = optim.lr_scheduler.ReduceLROnPlateau(optimizer, mode='min', factor=0.5, patience=3, verbose=True)"
      ],
      "metadata": {
        "id": "o4PW8xq0eYNu"
      },
      "execution_count": 12,
      "outputs": []
    },
    {
      "cell_type": "markdown",
      "source": [
        "## Contrastive Loss (NT-Xent Loss) 계산\n",
        "\n",
        "\n",
        "Contrastive Learning은 유사한 샘플(positive pair)은 가까이, 서로 다른 샘플(negative pair)은 멀리 배치하도록 학습하는 방법이다\n",
        "\n",
        "여기서는 NT-Xent(Normalized Temperature-scaled Cross Entropy) Loss를 사용하여 모델이 의미 있는 Feature Embedding을 학습하도록 하였다\n",
        "\n",
        "<br>\n",
        "\n",
        "\n",
        "NT-Xent Loss 개념\n",
        "\n",
        "•\t두 개의 서로 다른 변환(augmentation)된 이미지 쌍을 입력으로 받아 Cosine Similarity를 기반으로 유사도를 계산한다\n",
        "\n",
        "•\t온도 매개변수(Temperature Scaling) 를 사용하여 학습을 조정한다\n",
        "\n",
        "•\t같은 샘플에서 나온 두 Feature Vector(Positive Pair)는 높은 유사도(1에 가까운 값) 를 가지도록 유도한다\n",
        "\n",
        "•\t서로 다른 샘플에서 나온 Feature Vector(Negative Pair)는 낮은 유사도(-1에 가까운 값) 를 가지도록 학습한다"
      ],
      "metadata": {
        "id": "0lvqYVzURItD"
      }
    },
    {
      "cell_type": "code",
      "source": [
        "import torch\n",
        "import torch.nn.functional as F\n",
        "\n",
        "def nt_xent_loss(z1, z2, temperature=0.8):\n",
        "    batch_size = z1.size(0)  # 보통 64\n",
        "\n",
        "    # Feature 정규화\n",
        "    z1 = F.normalize(z1, dim=1)\n",
        "    z2 = F.normalize(z2, dim=1)\n",
        "\n",
        "    # Representations 병합 (배치 크기 2배 증가)\n",
        "    representations = torch.cat([z1, z2], dim=0)  # (2 * batch_size, 512)\n",
        "\n",
        "    # Cosine Similarity 계산\n",
        "    similarity_matrix = F.cosine_similarity(\n",
        "        representations.unsqueeze(1), representations.unsqueeze(0), dim=2\n",
        "    )\n",
        "\n",
        "    # 자기 자신 제외하는 마스크\n",
        "    mask = torch.eye(2 * batch_size, dtype=torch.bool).cuda()\n",
        "\n",
        "    #  Similarity 값 → exp(similarity / temperature)\n",
        "    exp_sim = torch.exp(similarity_matrix / temperature)\n",
        "\n",
        "    # 분모: 자기 자신 제외하고 합산\n",
        "    exp_sim_sum = exp_sim.masked_fill(mask, 0).sum(dim=1, keepdim=True)\n",
        "\n",
        "    # Positive pair 계산 수정\n",
        "    positive_sim = torch.exp(\n",
        "        F.cosine_similarity(z1, z2, dim=1) / temperature\n",
        "    )\n",
        "\n",
        "    #  Loss 계산 (분모/분자 차원 맞추기)\n",
        "    loss = -torch.log(positive_sim / exp_sim_sum[:batch_size].squeeze()).mean()\n",
        "\n",
        "    return loss"
      ],
      "metadata": {
        "id": "bHTenT2NRLtP"
      },
      "execution_count": 14,
      "outputs": []
    },
    {
      "cell_type": "markdown",
      "source": [
        "## Pseudo-label loss 계산\n",
        "\n",
        "Pseudo-Labeling 개념\n",
        "\n",
        "•\tPseudo-Labeling은 라벨이 없는 데이터(unlabeled data)에 대해 모델이 예측한 값 중 신뢰도가 높은 데이터를 활용하는 기법이다\n",
        "\n",
        "•\t이 과정에서 신뢰도 높은 예측값을 가짜 라벨(Pseudo-Label)로 간주하고, 라벨이 있는 데이터처럼 학습에 활용한다\n",
        "\n",
        "•\t일정한 신뢰도(Threshold) 이상의 예측값만 선택하여 사용함으로써 노이즈를 최소화한다"
      ],
      "metadata": {
        "id": "5MOG2WisSI_X"
      }
    },
    {
      "cell_type": "code",
      "source": [
        "import torch.nn.functional as F\n",
        "import torch.nn as nn\n",
        "\n",
        "pseudo_label_threshold = 0.1\n",
        "ce_loss = nn.CrossEntropyLoss()\n",
        "\n",
        "for weak_img, strong_img in unlabeled_loader:\n",
        "    weak_img = weak_img.cuda()\n",
        "    strong_img = strong_img.cuda()\n",
        "\n",
        "    # weak 이미지로 예측값 얻기\n",
        "    weak_logits = model(weak_img)  # (batch_size, num_classes)\n",
        "    pseudo_probs = F.softmax(weak_logits, dim=1)\n",
        "\n",
        "    # 최대 확률값과 클래스 추출\n",
        "    max_probs, pseudo_labels = torch.max(pseudo_probs, dim=1)\n",
        "\n",
        "    # threshold 이상인 데이터만 사용\n",
        "    mask = max_probs.ge(pseudo_label_threshold).float()\n",
        "\n",
        "    # strong 이미지로 예측값 얻기\n",
        "    strong_logits = model(strong_img)\n",
        "\n",
        "    # pseudo-label과 strong 이미지로 CrossEntropyLoss 계산\n",
        "    pseudo_label_loss = (ce_loss(strong_logits, pseudo_labels) * mask).mean()"
      ],
      "metadata": {
        "id": "P_TRR8E_SInd"
      },
      "execution_count": 15,
      "outputs": []
    },
    {
      "cell_type": "markdown",
      "source": [
        "## Consistency loss\n",
        "\n",
        "Consistency Loss 개념\n",
        "\n",
        "•\tConsistency Loss는 동일한 이미지에 서로 다른 Augmentation을 적용했을 때, 모델이 일관된 예측을 하도록 유도하는 손실 함수이다\n",
        "\n",
        "•\t약한 증강(Weak Augmentation)과 강한 증강(Strong Augmentation)된 이미지의 예측 확률 분포가 유사해야 한다는 가정을 기반으로 한다\n",
        "\n",
        "•\t이를 통해 모델이 데이터 증강에도 강인한(robust) Feature Representation을 학습할 수 있도록 하였다"
      ],
      "metadata": {
        "id": "8_LvNJoJSkfS"
      }
    },
    {
      "cell_type": "code",
      "source": [
        "mse_loss = nn.MSELoss()\n",
        "\n",
        "# weak, strong 이미지 예측 확률\n",
        "weak_probs = F.softmax(model(weak_img), dim=1)\n",
        "strong_probs = F.softmax(model(strong_img), dim=1)\n",
        "\n",
        "# consistency loss 계산\n",
        "consistency_loss = mse_loss(weak_probs, strong_probs)"
      ],
      "metadata": {
        "id": "OlJttZoCSml6"
      },
      "execution_count": 22,
      "outputs": []
    },
    {
      "cell_type": "markdown",
      "source": [
        "## Train"
      ],
      "metadata": {
        "id": "8TXu2ygegRet"
      }
    },
    {
      "cell_type": "code",
      "source": [
        "epochs = 30\n",
        "warmup_epochs = 5  #  초반 5 Epoch 동안은 Supervised Loss만 학습\n",
        "pseudo_label_threshold = 0.8  # Pseudo-Label 적용 임계값 조정\n",
        "\n",
        "# 학습 기록 저장용\n",
        "our_train_losses = []\n",
        "our_val_accuracies = []\n",
        "\n",
        "for epoch in range(epochs):\n",
        "    model.train()\n",
        "\n",
        "    total_loss = 0\n",
        "    unlabeled_iter = iter(unlabeled_loader)\n",
        "\n",
        "    for labeled_imgs, labels in labeled_train_loader:\n",
        "        try:\n",
        "            weak_imgs, strong_imgs = next(unlabeled_iter)\n",
        "        except StopIteration:\n",
        "            unlabeled_iter = iter(unlabeled_loader)\n",
        "            weak_imgs, strong_imgs = next(unlabeled_iter)\n",
        "\n",
        "        # labeled 데이터\n",
        "        labeled_imgs, labels = labeled_imgs.cuda(), labels.cuda()\n",
        "        labeled_logits = model(labeled_imgs)\n",
        "        supervised_loss = ce_loss(labeled_logits, labels)\n",
        "\n",
        "        #  unlabeled 데이터\n",
        "        weak_imgs, strong_imgs = weak_imgs.cuda(), strong_imgs.cuda()\n",
        "\n",
        "        if epoch >= warmup_epochs:  #  Warm-up 적용\n",
        "            weak_logits = model(weak_imgs)\n",
        "            pseudo_probs = F.softmax(weak_logits, dim=1)\n",
        "            max_probs, pseudo_labels = pseudo_probs.max(dim=1)\n",
        "            mask = (max_probs >= pseudo_label_threshold).float()\n",
        "\n",
        "            #  적용 비율 확인\n",
        "            pseudo_label_ratio = mask.mean().item()\n",
        "\n",
        "            if pseudo_label_ratio > 0.2:  # 최소 0.2 이상 적용될 때만 학습\n",
        "                strong_logits = model(strong_imgs)\n",
        "                pseudo_label_loss = (ce_loss(strong_logits, pseudo_labels) * mask).mean()\n",
        "                consistency_loss = mse_loss(pseudo_probs, F.softmax(strong_logits, dim=1))\n",
        "                contrastive_loss = nt_xent_loss(weak_logits, strong_logits)\n",
        "            else:\n",
        "                pseudo_label_loss = torch.tensor(0.0).cuda()\n",
        "                consistency_loss = torch.tensor(0.0).cuda()\n",
        "                contrastive_loss = torch.tensor(0.0).cuda()\n",
        "        else:\n",
        "            pseudo_label_loss = torch.tensor(0.0).cuda()\n",
        "            consistency_loss = torch.tensor(0.0).cuda()\n",
        "            contrastive_loss = torch.tensor(0.0).cuda()\n",
        "\n",
        "        # total loss\n",
        "        λ1, λ2, λ3 = 0.5, 0.5, 0.5\n",
        "        total_batch_loss = supervised_loss + λ1 * pseudo_label_loss + λ2 * consistency_loss + λ3 * contrastive_loss\n",
        "\n",
        "        # 학습 업데이트\n",
        "        optimizer.zero_grad()\n",
        "        total_batch_loss.backward()\n",
        "        optimizer.step()\n",
        "\n",
        "        total_loss += total_batch_loss.item()\n",
        "\n",
        "    avg_train_loss = total_loss / len(labeled_train_loader)\n",
        "    our_train_losses.append(avg_train_loss)\n",
        "\n",
        "    #  Validation\n",
        "    val_loss = 0\n",
        "    val_correct = 0\n",
        "    val_total = 0\n",
        "\n",
        "    model.eval()\n",
        "\n",
        "    with torch.no_grad():\n",
        "        for imgs, labels in labeled_val_loader:\n",
        "            imgs, labels = imgs.cuda(), labels.cuda()\n",
        "            outputs = model(imgs)\n",
        "            loss = ce_loss(outputs, labels)\n",
        "\n",
        "            val_loss += loss.item()\n",
        "            _, preds = outputs.max(1)\n",
        "            val_correct += preds.eq(labels).sum().item()\n",
        "            val_total += labels.size(0)\n",
        "\n",
        "    avg_val_loss = val_loss / len(labeled_val_loader)\n",
        "    val_acc = val_correct / val_total * 100\n",
        "\n",
        "    scheduler.step(avg_val_loss)\n",
        "    our_val_accuracies.append(val_acc)\n",
        "\n",
        "    print(f\"Epoch [{epoch+1}/{epochs}] \"\n",
        "          f\"Train Loss: {avg_train_loss:.4f} \"\n",
        "          f\" Val Acc: {val_acc:.2f}%\")"
      ],
      "metadata": {
        "id": "kjpNIBHhgRHS",
        "colab": {
          "base_uri": "https://localhost:8080/"
        },
        "outputId": "25862c02-6988-4dc2-8e82-2ec9676cea3f"
      },
      "execution_count": 19,
      "outputs": [
        {
          "output_type": "stream",
          "name": "stdout",
          "text": [
            "Epoch [1/30] Train Loss: 3.6459  Val Acc: 13.58%\n",
            "Epoch [2/30] Train Loss: 3.4800  Val Acc: 12.25%\n",
            "Epoch [3/30] Train Loss: 3.2761  Val Acc: 11.33%\n",
            "Epoch [4/30] Train Loss: 3.0838  Val Acc: 15.50%\n",
            "Epoch [5/30] Train Loss: 2.9172  Val Acc: 14.67%\n",
            "Epoch [6/30] Train Loss: 2.6628  Val Acc: 18.58%\n",
            "Epoch [7/30] Train Loss: 2.4376  Val Acc: 17.42%\n",
            "Epoch [8/30] Train Loss: 2.1862  Val Acc: 18.67%\n",
            "Epoch [9/30] Train Loss: 1.5629  Val Acc: 22.17%\n",
            "Epoch [10/30] Train Loss: 1.3254  Val Acc: 21.42%\n",
            "Epoch [11/30] Train Loss: 1.3506  Val Acc: 21.08%\n",
            "Epoch [12/30] Train Loss: 1.5479  Val Acc: 20.58%\n",
            "Epoch [13/30] Train Loss: 1.3514  Val Acc: 21.17%\n",
            "Epoch [14/30] Train Loss: 1.2574  Val Acc: 23.42%\n",
            "Epoch [15/30] Train Loss: 1.0622  Val Acc: 21.50%\n",
            "Epoch [16/30] Train Loss: 0.9945  Val Acc: 22.50%\n",
            "Epoch [17/30] Train Loss: 0.7338  Val Acc: 23.17%\n",
            "Epoch [18/30] Train Loss: 0.7790  Val Acc: 23.17%\n",
            "Epoch [19/30] Train Loss: 0.6486  Val Acc: 22.75%\n",
            "Epoch [20/30] Train Loss: 0.7712  Val Acc: 23.08%\n",
            "Epoch [21/30] Train Loss: 0.5840  Val Acc: 22.42%\n",
            "Epoch [22/30] Train Loss: 0.3663  Val Acc: 22.58%\n",
            "Epoch [23/30] Train Loss: 0.5483  Val Acc: 22.83%\n",
            "Epoch [24/30] Train Loss: 0.4157  Val Acc: 22.92%\n",
            "Epoch [25/30] Train Loss: 0.3961  Val Acc: 23.00%\n",
            "Epoch [26/30] Train Loss: 0.4926  Val Acc: 22.92%\n",
            "Epoch [27/30] Train Loss: 0.4064  Val Acc: 23.08%\n",
            "Epoch [28/30] Train Loss: 0.2616  Val Acc: 23.50%\n",
            "Epoch [29/30] Train Loss: 0.4210  Val Acc: 22.83%\n",
            "Epoch [30/30] Train Loss: 0.4022  Val Acc: 22.42%\n"
          ]
        }
      ]
    },
    {
      "cell_type": "markdown",
      "source": [
        "## Test\n",
        "\n",
        "Our 모델 정확도 Accuracy: 22.19%"
      ],
      "metadata": {
        "id": "hOqdVGjF5nVw"
      }
    },
    {
      "cell_type": "code",
      "source": [
        "# 기록용 리스트 생성\n",
        "our_test_loss = []\n",
        "our_test_acc = []\n",
        "\n",
        "# Baseline Test 평가\n",
        "model.eval()\n",
        "test_loss = 0\n",
        "test_correct = 0\n",
        "test_total = 0\n",
        "\n",
        "with torch.no_grad():\n",
        "    for imgs, labels in test_loader:\n",
        "        imgs, labels = imgs.cuda(), labels.cuda()\n",
        "        outputs = model(imgs)\n",
        "        loss = criterion(outputs, labels)\n",
        "\n",
        "        test_loss += loss.item()\n",
        "        _, preds = outputs.max(1)\n",
        "        test_correct += preds.eq(labels).sum().item()\n",
        "        test_total += labels.size(0)\n",
        "\n",
        "avg_test_loss = test_loss / len(test_loader)\n",
        "test_acc = test_correct / test_total * 100\n",
        "\n",
        "our_test_loss.append(avg_test_loss)\n",
        "our_test_acc.append(test_acc)\n",
        "\n",
        "print(f\"\\n Our Model Test Result - Loss: {avg_test_loss:.4f}, Accuracy: {test_acc:.2f}%\")"
      ],
      "metadata": {
        "colab": {
          "base_uri": "https://localhost:8080/"
        },
        "id": "4L8htj8TBWc5",
        "outputId": "cd6cb536-3350-4aaa-b662-5042912c1a9f"
      },
      "execution_count": 20,
      "outputs": [
        {
          "output_type": "stream",
          "name": "stdout",
          "text": [
            "\n",
            " Our Model Test Result - Loss: 4.2202, Accuracy: 22.19%\n"
          ]
        }
      ]
    },
    {
      "cell_type": "markdown",
      "source": [
        "## 실험 결과 시각화"
      ],
      "metadata": {
        "id": "suFt-aRCgi0Z"
      }
    },
    {
      "cell_type": "code",
      "source": [
        "import matplotlib.pyplot as plt\n",
        "\n",
        "# 그래프 크기\n",
        "plt.figure(figsize=(8, 4))\n",
        "\n",
        "# 첫 번째 그래프: 손실\n",
        "plt.subplot(1, 2, 1)\n",
        "plt.plot(range(1, epochs+1), baseline_train_losses, label='baseline_train Loss')\n",
        "plt.plot(range(1, epochs+1), our_train_losses, label='our_train_losses')\n",
        "plt.xlabel('Epochs')\n",
        "plt.ylabel('Loss')\n",
        "plt.title('BaseLine/Our Model Train Loss')\n",
        "plt.legend()\n",
        "plt.grid(True)\n",
        "\n",
        "# 두 번째 그래프: 정확도\n",
        "plt.subplot(1, 2, 2)\n",
        "plt.plot(range(1, epochs+1), baseline_val_accuracies, label='baseline_val_acc')\n",
        "plt.plot(range(1, epochs+1), our_val_accuracies, label='our_val_accuracies')\n",
        "plt.xlabel('Epochs')\n",
        "plt.ylabel('Accuracy')\n",
        "plt.title('BaseLine/Our Model Val Accuracy')\n",
        "plt.legend()\n",
        "plt.grid(True)\n",
        "\n",
        "plt.tight_layout()\n",
        "plt.show()"
      ],
      "metadata": {
        "colab": {
          "base_uri": "https://localhost:8080/",
          "height": 407
        },
        "id": "KKYk7WFVDozr",
        "outputId": "3d5d6299-096b-4c92-87b5-9ce126283863"
      },
      "execution_count": 21,
      "outputs": [
        {
          "output_type": "display_data",
          "data": {
            "text/plain": [
              "<Figure size 800x400 with 2 Axes>"
            ],
            "image/png": "[encoded data removed]"
          },
          "metadata": {}
        }
      ]
    },
    {
      "cell_type": "markdown",
      "source": [
        "## 결과 분석 및 평가\n",
        "\n",
        "1. Baseline 모델 vs Our 모델 성능 비교\n",
        "\n",
        "  • Baseline 모델은 라벨이 있는 데이터(labeled data)만 사용하여 학습한 모델이다.\n",
        "\n",
        "  • Our 모델은 라벨이 있는 데이터(labeled data)와 라벨이 없는 데이터(unlabeled data) 모두를 활용하여 학습한 모델이다.\n",
        "  \n",
        "  <br>\n",
        "\n",
        " Train Loss 분석\n",
        "\n",
        "  •\tBaseline 모델의 손실이 점진적으로 감소하며 과적합 없이 안정적으로 수렴하는 모습을 보인다.\n",
        "\n",
        "  •\tOur 모델 역시 손실이 감소하지만, 초반에는 더 빠르게 감소하는 경향을 보인다.\n",
        "\n",
        "  •\t하지만 Epoch이 진행됨에 따라 Our 모델의 손실이 Baseline 모델과 비슷한 수준으로 수렴하며, 오히려 손실이 일정 수준에서 유지되는 경향이 보인다.\n",
        "\n",
        "  <br>\n",
        " Validation Accuracy 분석\n",
        "\n",
        "  •\tBaseline 모델과 Our 모델의 최종 검증 정확도 차이가 크지 않다.\n",
        "\n",
        "  •\tOur 모델은 초반에 빠르게 정확도가 상승하지만, 이후에는 Baseline 모델과 거의 비슷한 수준으로 수렴한다.\n",
        "\n",
        "  •\t즉, 라벨이 없는 데이터(unlabeled data)를 활용했음에도 성능 향상이 제한적이었다.\n",
        "\n",
        "  <br>\n",
        "\n",
        "2. Our 모델의 성능이 기대보다 높지 않은 이유\n",
        "\n",
        "  1. Pseudo-Label 신뢰도 문제\n",
        "\n",
        "  •\tOur 모델은 라벨이 없는 데이터를 활용하기 위해 Pseudo-Labeling 기법을 사용했다. 하지만 pseudo-label의 신뢰도가 낮으면 잘못된 레이블을 학습할 가능성이 높아진 것 같다.\n",
        "\n",
        "  2. 임계값(Threshold) 설정 문제\n",
        "\n",
        "\t•\tPseudo-Label을 사용할 때, 임계값(threshold)을 설정하였는데 Threshold를 너무 높게 설정하면 학습할 데이터가 부족해지고, 너무 낮게 설정하면 잘못된 데이터까지 학습할 수 있다. 실험에서 사용된 Threshold(0.8)가 최적값이 아닐 가능성이 있으며, 조정이 필요할 것 같다.\n",
        "  3.\tConsistency Loss의 효과 부족\n",
        "\n",
        "\t•\tConsistency Loss는 약한 증강(Weak Augmentation)과 강한 증강(Strong Augmentation)된 이미지 간 예측이 일관되도록 학습하는 역할을 한다. 하지만, consistency loss가 학습을 안정적으로 도와주지 못했거나, weight(λ2)가 너무 낮아 효과적으로 작동하지 않았을 가능성이 있다."
      ],
      "metadata": {
        "id": "B9gBp-i-hXUT"
      }
    }
  ]
}