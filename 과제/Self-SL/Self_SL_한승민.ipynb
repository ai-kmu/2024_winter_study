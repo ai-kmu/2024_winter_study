{
 "cells": [
  {
   "cell_type": "code",
   "execution_count": 8,
   "id": "e78b9eba-b666-4c5c-bc42-42d4739cabbf",
   "metadata": {},
   "outputs": [],
   "source": [
    "import torch\n",
    "import torch.nn as nn\n",
    "import torch.optim as optim\n",
    "import torch.nn.functional as F\n",
    "import torchvision.transforms as transforms\n",
    "import torchvision.datasets as datasets\n",
    "import torchvision.models as models\n",
    "from torch.utils.data import DataLoader, Subset, Dataset, random_split\n",
    "\n",
    "import numpy as np\n",
    "import random\n",
    "import matplotlib.pyplot as plt"
   ]
  },
  {
   "cell_type": "code",
   "execution_count": 4,
   "id": "fa8d18b2-238d-48c1-9e9b-df7f8c6b9dfd",
   "metadata": {},
   "outputs": [
    {
     "name": "stdout",
     "output_type": "stream",
     "text": [
      "Requirement already satisfied: torchvision in /opt/conda/lib/python3.8/site-packages (0.15.2)\n",
      "Requirement already satisfied: transforms in /opt/conda/lib/python3.8/site-packages (0.2.1)\n",
      "Requirement already satisfied: pillow!=8.3.*,>=5.3.0 in /opt/conda/lib/python3.8/site-packages (from torchvision) (10.4.0)\n",
      "Requirement already satisfied: numpy in /opt/conda/lib/python3.8/site-packages (from torchvision) (1.24.4)\n",
      "Requirement already satisfied: torch==2.0.1 in /opt/conda/lib/python3.8/site-packages (from torchvision) (2.0.1)\n",
      "Requirement already satisfied: requests in /opt/conda/lib/python3.8/site-packages (from torchvision) (2.28.2)\n",
      "Requirement already satisfied: typing-extensions in /opt/conda/lib/python3.8/site-packages (from torch==2.0.1->torchvision) (4.12.2)\n",
      "Requirement already satisfied: nvidia-cuda-runtime-cu11==11.7.99 in /opt/conda/lib/python3.8/site-packages (from torch==2.0.1->torchvision) (11.7.99)\n",
      "Requirement already satisfied: sympy in /opt/conda/lib/python3.8/site-packages (from torch==2.0.1->torchvision) (1.8)\n",
      "Requirement already satisfied: nvidia-cusolver-cu11==11.4.0.1 in /opt/conda/lib/python3.8/site-packages (from torch==2.0.1->torchvision) (11.4.0.1)\n",
      "Requirement already satisfied: triton==2.0.0 in /opt/conda/lib/python3.8/site-packages (from torch==2.0.1->torchvision) (2.0.0)\n",
      "Requirement already satisfied: nvidia-nccl-cu11==2.14.3 in /opt/conda/lib/python3.8/site-packages (from torch==2.0.1->torchvision) (2.14.3)\n",
      "Requirement already satisfied: networkx in /opt/conda/lib/python3.8/site-packages (from torch==2.0.1->torchvision) (2.5.1)\n",
      "Requirement already satisfied: nvidia-cuda-cupti-cu11==11.7.101 in /opt/conda/lib/python3.8/site-packages (from torch==2.0.1->torchvision) (11.7.101)\n",
      "Requirement already satisfied: nvidia-nvtx-cu11==11.7.91 in /opt/conda/lib/python3.8/site-packages (from torch==2.0.1->torchvision) (11.7.91)\n",
      "Requirement already satisfied: nvidia-cuda-nvrtc-cu11==11.7.99 in /opt/conda/lib/python3.8/site-packages (from torch==2.0.1->torchvision) (11.7.99)\n",
      "Requirement already satisfied: nvidia-curand-cu11==10.2.10.91 in /opt/conda/lib/python3.8/site-packages (from torch==2.0.1->torchvision) (10.2.10.91)\n",
      "Requirement already satisfied: nvidia-cusparse-cu11==11.7.4.91 in /opt/conda/lib/python3.8/site-packages (from torch==2.0.1->torchvision) (11.7.4.91)\n",
      "Requirement already satisfied: filelock in /opt/conda/lib/python3.8/site-packages (from torch==2.0.1->torchvision) (3.14.0)\n",
      "Requirement already satisfied: nvidia-cudnn-cu11==8.5.0.96 in /opt/conda/lib/python3.8/site-packages (from torch==2.0.1->torchvision) (8.5.0.96)\n",
      "Requirement already satisfied: nvidia-cublas-cu11==11.10.3.66 in /opt/conda/lib/python3.8/site-packages (from torch==2.0.1->torchvision) (11.10.3.66)\n",
      "Requirement already satisfied: jinja2 in /opt/conda/lib/python3.8/site-packages (from torch==2.0.1->torchvision) (3.0.1)\n",
      "Requirement already satisfied: nvidia-cufft-cu11==10.9.0.58 in /opt/conda/lib/python3.8/site-packages (from torch==2.0.1->torchvision) (10.9.0.58)\n",
      "Requirement already satisfied: wheel in /opt/conda/lib/python3.8/site-packages (from nvidia-cublas-cu11==11.10.3.66->torch==2.0.1->torchvision) (0.36.2)\n",
      "Requirement already satisfied: setuptools in /opt/conda/lib/python3.8/site-packages (from nvidia-cublas-cu11==11.10.3.66->torch==2.0.1->torchvision) (60.2.0)\n",
      "Requirement already satisfied: cmake in /opt/conda/lib/python3.8/site-packages (from triton==2.0.0->torch==2.0.1->torchvision) (3.20.4)\n",
      "Requirement already satisfied: lit in /opt/conda/lib/python3.8/site-packages (from triton==2.0.0->torch==2.0.1->torchvision) (18.1.8)\n",
      "Requirement already satisfied: MarkupSafe>=2.0 in /opt/conda/lib/python3.8/site-packages (from jinja2->torch==2.0.1->torchvision) (2.0.1)\n",
      "Requirement already satisfied: decorator<5,>=4.3 in /opt/conda/lib/python3.8/site-packages (from networkx->torch==2.0.1->torchvision) (4.4.2)\n",
      "Requirement already satisfied: certifi>=2017.4.17 in /opt/conda/lib/python3.8/site-packages (from requests->torchvision) (2021.5.30)\n",
      "Requirement already satisfied: urllib3<1.27,>=1.21.1 in /opt/conda/lib/python3.8/site-packages (from requests->torchvision) (1.26.6)\n",
      "Requirement already satisfied: charset-normalizer<4,>=2 in /opt/conda/lib/python3.8/site-packages (from requests->torchvision) (3.4.1)\n",
      "Requirement already satisfied: idna<4,>=2.5 in /opt/conda/lib/python3.8/site-packages (from requests->torchvision) (2.10)\n",
      "Requirement already satisfied: mpmath>=0.19 in /opt/conda/lib/python3.8/site-packages (from sympy->torch==2.0.1->torchvision) (1.2.1)\n",
      "\u001b[33mWARNING: Running pip as the 'root' user can result in broken permissions and conflicting behaviour with the system package manager. It is recommended to use a virtual environment instead: https://pip.pypa.io/warnings/venv\u001b[0m\n"
     ]
    }
   ],
   "source": [
    "!pip install torchvision transforms"
   ]
  },
  {
   "cell_type": "markdown",
   "id": "ecebf9e2-5f36-48b9-8a6e-1d16f708e1f7",
   "metadata": {},
   "source": [
    "\n",
    "- Supervised learning용 변환: 단순한 수평 뒤집기와 정규화 적용\n",
    "- Self-Supervised Learning용 변환:\n",
    "- RandomResizedCrop: 이미지 크기 조절\n",
    "- ColorJitter: 밝기, 대비 변화\n",
    "- RandomGrayscale: 20% 확률로 흑백 변환\n",
    "- RandomHorizontalFlip: 좌우반전"
   ]
  },
  {
   "cell_type": "code",
   "execution_count": 9,
   "id": "582455f7-f764-4259-984a-1272867b17bc",
   "metadata": {},
   "outputs": [
    {
     "name": "stdout",
     "output_type": "stream",
     "text": [
      "cuda\n"
     ]
    }
   ],
   "source": [
    "# 데이터셋 로드 \n",
    "\n",
    "sl_transform_labeled = transforms.Compose([\n",
    "    transforms.RandomHorizontalFlip(),\n",
    "    transforms.ToTensor(),\n",
    "    transforms.Normalize((0.5, 0.5, 0.5), (0.5, 0.5, 0.5))\n",
    "])\n",
    "\n",
    "transform_unlabeled = transforms.Compose([\n",
    "    transforms.RandomResizedCrop(32, scale=(0.2, 1.0)),\n",
    "    transforms.RandomApply([transforms.ColorJitter(0.4, 0.4, 0.4, 0.1)], p=0.8),\n",
    "    transforms.RandomGrayscale(p=0.2),\n",
    "    transforms.RandomHorizontalFlip(),\n",
    "    transforms.ToTensor(),\n",
    "    transforms.Normalize((0.5, 0.5, 0.5), (0.5, 0.5, 0.5))\n",
    "])\n",
    "\n",
    "device = torch.device(\"cuda\" if torch.cuda.is_available() else \"cpu\")\n",
    "print(device)"
   ]
  },
  {
   "cell_type": "markdown",
   "id": "a0ce8885-05c4-4dcf-833d-e4dcfa92efcc",
   "metadata": {},
   "source": [
    "- 전체 CIFAR-100 데이터셋을 90% Unlabeled / 10% Labeled로 분할\n",
    "- Unlabeled 데이터는 SimCLR pretraining에 사용\n",
    "- Labeled 데이터는 Supervised fine-tuning에 사용"
   ]
  },
  {
   "cell_type": "code",
   "execution_count": 10,
   "id": "ba0875e5-c366-42c2-97d5-caa0c528e4ea",
   "metadata": {},
   "outputs": [
    {
     "name": "stdout",
     "output_type": "stream",
     "text": [
      "Files already downloaded and verified\n",
      "Files already downloaded and verified\n",
      "45000\n",
      "5000\n",
      "45000 5000\n"
     ]
    }
   ],
   "source": [
    "# data set , validation set 분리\n",
    "dataset = datasets.CIFAR100(root='./data', train=True, download=True)\n",
    "valset = datasets.CIFAR100(root='./data', train=False, download=True, transform=sl_transform_labeled)\n",
    "\n",
    "unlabeled_size = int(0.9 * len(dataset))  # 90% 데이터를 unlabel로 (45000개 데이터)\n",
    "labeled_size = len(dataset) - unlabeled_size  # 10% 데이터를 label로 (5000개 데이터)\n",
    "unlabeled_dataset, labeled_dataset = random_split(dataset, [unlabeled_size, labeled_size])\n",
    "\n",
    "print(unlabeled_size)\n",
    "print(labeled_size)\n",
    "print(len(unlabeled_dataset), len(labeled_dataset))"
   ]
  },
  {
   "cell_type": "code",
   "execution_count": 11,
   "id": "dae578bb-6aec-4799-bc99-9a423b8fbf10",
   "metadata": {},
   "outputs": [],
   "source": [
    "# custom subset - label data와 simCLR 데이터에 각각 transform 적용. img를 처리하기 전에 전역적으로 적용\n",
    "\n",
    "class SimCLRDataset(Dataset): \n",
    "    def __init__(self, dataset, transform1, transform2):\n",
    "        self.dataset = dataset\n",
    "        self.transform1 = transform1\n",
    "        self.transform2 = transform2\n",
    "\n",
    "    def __len__(self):\n",
    "        return len(self.dataset)\n",
    "\n",
    "    def __getitem__(self, idx):\n",
    "        img, _ = self.dataset[idx]\n",
    "\n",
    "        if isinstance(img, torch.Tensor):  # random_split를 통해 tensor로 변환되므로 PIL이미지로 바꿔서 transform을 적용해주어야 흠\n",
    "            img = transforms.ToPILImage()(img)\n",
    "\n",
    "        xi = self.transform1(img)\n",
    "        xj = self.transform2(img)\n",
    "        return xi, xj\n",
    "    \n",
    "# SimCLR 데이터셋 생성\n",
    "simclr_dataset = SimCLRDataset(unlabeled_dataset, transform_unlabeled, transform_unlabeled)\n",
    "\n",
    "# Labeled 데이터셋 transform 적용 (labeled dataset은 supervised learning에 사용)\n",
    "labeled_dataset.dataset.transform = sl_transform_labeled\n"
   ]
  },
  {
   "cell_type": "code",
   "execution_count": 12,
   "id": "5e6e10a8-ece0-42eb-97e4-4464440ed45a",
   "metadata": {},
   "outputs": [
    {
     "name": "stdout",
     "output_type": "stream",
     "text": [
      "test size : 8000\n",
      "val size : 2000\n"
     ]
    }
   ],
   "source": [
    "# 데이터셋 확인\n",
    "\n",
    "test_size = int(0.8 * len(valset))  # 80% 데이터를 testset으로 (8000개 데이터)\n",
    "val_size = len(valset) - test_size  # 20% 데이터를 validationset으로 (2000개 데이터)\n",
    "test_dataset, val_dataset = random_split(valset, [test_size, val_size])\n",
    "\n",
    "print(\"test size :\" , test_size)\n",
    "print(\"val size :\" , val_size)"
   ]
  },
  {
   "cell_type": "code",
   "execution_count": 15,
   "id": "5a55b318-db77-466f-8086-8b10a06c478e",
   "metadata": {},
   "outputs": [],
   "source": [
    "# DataLoader\n",
    "batch_size = 64\n",
    "\n",
    "simclr_loader = DataLoader(simclr_dataset, batch_size=batch_size, shuffle=True, num_workers=1)\n",
    "labeled_loader = DataLoader(labeled_dataset, batch_size=batch_size, shuffle=True, num_workers=1)\n",
    "val_loader = DataLoader(val_dataset, batch_size=batch_size, shuffle=True, num_workers=1)\n",
    "test_loader = DataLoader(test_dataset, batch_size=batch_size, shuffle=True, num_workers=1)"
   ]
  },
  {
   "cell_type": "code",
   "execution_count": 16,
   "id": "ae5b16af-6b50-4d0e-b25e-2230a5d0bcc6",
   "metadata": {},
   "outputs": [
    {
     "name": "stdout",
     "output_type": "stream",
     "text": [
      "704\n",
      "79\n",
      "32\n",
      "125\n"
     ]
    }
   ],
   "source": [
    "print(len(simclr_loader))\n",
    "print(len(labeled_loader))\n",
    "print(len(val_loader))\n",
    "print(len(test_loader))"
   ]
  },
  {
   "cell_type": "code",
   "execution_count": 17,
   "id": "5435d933-3e82-4269-9af0-172b8b684666",
   "metadata": {},
   "outputs": [],
   "source": [
    "epoch = 20"
   ]
  },
  {
   "cell_type": "code",
   "execution_count": 18,
   "id": "11de60c7-5078-43ff-b272-835e50607cc7",
   "metadata": {},
   "outputs": [],
   "source": [
    "# ResNet 18로 model 학습\n",
    "\n",
    "baseline_model = models.resnet18(weights=None, num_classes=100)  # weights=None : pretrained X\n",
    "baseline_model = baseline_model.to(device)\n",
    "\n",
    "criterion = nn.CrossEntropyLoss()\n",
    "optimizer = optim.Adam(baseline_model.parameters(), lr=1e-6, weight_decay=1e-6)"
   ]
  },
  {
   "cell_type": "code",
   "execution_count": 19,
   "id": "80da067c-2fa4-4cf8-bd19-b7d757a18eb8",
   "metadata": {},
   "outputs": [],
   "source": [
    "# 학습\n",
    "\n",
    "\n",
    "def train_baseline(model, train_loader, val_loader, criterion, optimizer, num_epochs=50, device=\"cuda\"):\n",
    "    train_loss_list = []\n",
    "    val_loss_list = []\n",
    "    train_acc_list = []\n",
    "    val_acc_list = []\n",
    "\n",
    "    for epoch in range(num_epochs): # each epoch\n",
    "        #train\n",
    "        model.train()\n",
    "        running_loss = 0.0\n",
    "        correct_train = 0\n",
    "        total_train = 0\n",
    "\n",
    "        for images, labels in train_loader:\n",
    "            images, labels = images.to(device), labels.to(device)\n",
    "\n",
    "            optimizer.zero_grad()\n",
    "            outputs = model(images)\n",
    "            loss = criterion(outputs, labels)\n",
    "            loss.backward()\n",
    "            optimizer.step()\n",
    "\n",
    "            running_loss += loss.item()\n",
    "\n",
    "            _, predicted = torch.max(outputs, 1)\n",
    "            correct_train += (predicted == labels).sum().item()\n",
    "            total_train += labels.size(0)\n",
    "\n",
    "        avg_train_loss = running_loss / len(train_loader)\n",
    "        train_acc = correct_train / total_train * 100\n",
    "\n",
    "        # validation\n",
    "        model.eval()\n",
    "        running_val_loss = 0.0\n",
    "        correct_val = 0\n",
    "        total_val = 0\n",
    "\n",
    "        with torch.no_grad():\n",
    "            for images, labels in val_loader:\n",
    "                images, labels = images.to(device), labels.to(device)\n",
    "\n",
    "                outputs = model(images)\n",
    "                loss = criterion(outputs, labels)\n",
    "                running_val_loss += loss.item()\n",
    "\n",
    "                _, predicted = torch.max(outputs, 1)\n",
    "                correct_val += (predicted == labels).sum().item()\n",
    "                total_val += labels.size(0)\n",
    "\n",
    "        avg_val_loss = running_val_loss / len(val_loader)\n",
    "        val_acc = correct_val / total_val * 100\n",
    "\n",
    "        # save log\n",
    "        train_loss_list.append(avg_train_loss)\n",
    "        val_loss_list.append(avg_val_loss)\n",
    "        train_acc_list.append(train_acc)\n",
    "        val_acc_list.append(val_acc)\n",
    "\n",
    "        # print log\n",
    "        print(f\"Epoch [{epoch+1}/{num_epochs}] | \"\n",
    "              f\"Train Loss: {avg_train_loss:.4f}, Train Acc: {train_acc:.4f}% | \"\n",
    "              f\"Val Loss: {avg_val_loss:.4f}, Val Acc: {val_acc:.4f}%\")\n",
    "\n",
    "    return train_loss_list, val_loss_list, train_acc_list, val_acc_list"
   ]
  },
  {
   "cell_type": "code",
   "execution_count": 20,
   "id": "5f855623-d3f5-494d-8bf9-8ca4fcf336d0",
   "metadata": {},
   "outputs": [],
   "source": [
    "# test\n",
    "\n",
    "\n",
    "def test_baseline(model, test_loader, criterion, device=\"cuda\"):\n",
    "    model.eval()\n",
    "    running_test_loss = 0.0\n",
    "    correct_test = 0\n",
    "    total_test = 0\n",
    "\n",
    "    with torch.no_grad():\n",
    "        for images, labels in test_loader:\n",
    "            images, labels = images.to(device), labels.to(device)\n",
    "\n",
    "            outputs = model(images)\n",
    "            loss = criterion(outputs, labels)\n",
    "            running_test_loss += loss.item()\n",
    "\n",
    "            _, predicted = torch.max(outputs, 1)\n",
    "            correct_test += (predicted == labels).sum().item()\n",
    "            total_test += labels.size(0)\n",
    "\n",
    "    avg_test_loss = running_test_loss / len(test_loader)\n",
    "    test_acc = correct_test / total_test * 100\n",
    "\n",
    "    print(f\"Test Loss: {avg_test_loss:.4f}, Test Acc: {test_acc:.4f}%\")\n",
    "\n",
    "    return avg_test_loss, test_acc"
   ]
  },
  {
   "cell_type": "code",
   "execution_count": 21,
   "id": "558d66ae-b1d0-49c8-b926-3274a6570547",
   "metadata": {},
   "outputs": [
    {
     "name": "stdout",
     "output_type": "stream",
     "text": [
      "Epoch [1/20] | Train Loss: 4.8889, Train Acc: 0.8000% | Val Loss: 4.8827, Val Acc: 1.1000%\n",
      "Epoch [2/20] | Train Loss: 4.8679, Train Acc: 1.1000% | Val Loss: 4.8778, Val Acc: 0.9500%\n",
      "Epoch [3/20] | Train Loss: 4.8594, Train Acc: 0.9000% | Val Loss: 4.8727, Val Acc: 1.1500%\n",
      "Epoch [4/20] | Train Loss: 4.8421, Train Acc: 0.9600% | Val Loss: 4.8490, Val Acc: 1.2000%\n",
      "Epoch [5/20] | Train Loss: 4.8205, Train Acc: 1.1600% | Val Loss: 4.8433, Val Acc: 0.9000%\n",
      "Epoch [6/20] | Train Loss: 4.8060, Train Acc: 1.2600% | Val Loss: 4.8265, Val Acc: 0.9000%\n",
      "Epoch [7/20] | Train Loss: 4.7865, Train Acc: 1.0800% | Val Loss: 4.8427, Val Acc: 0.7500%\n",
      "Epoch [8/20] | Train Loss: 4.7639, Train Acc: 1.3800% | Val Loss: 4.8378, Val Acc: 1.4000%\n",
      "Epoch [9/20] | Train Loss: 4.7491, Train Acc: 1.4200% | Val Loss: 4.8043, Val Acc: 1.5000%\n",
      "Epoch [10/20] | Train Loss: 4.7454, Train Acc: 1.3800% | Val Loss: 4.7962, Val Acc: 1.2000%\n",
      "Epoch [11/20] | Train Loss: 4.7276, Train Acc: 1.8000% | Val Loss: 4.7755, Val Acc: 1.8000%\n",
      "Epoch [12/20] | Train Loss: 4.7066, Train Acc: 1.9600% | Val Loss: 4.7596, Val Acc: 1.5500%\n",
      "Epoch [13/20] | Train Loss: 4.6925, Train Acc: 1.6600% | Val Loss: 4.7494, Val Acc: 1.3000%\n",
      "Epoch [14/20] | Train Loss: 4.6810, Train Acc: 1.9200% | Val Loss: 4.7596, Val Acc: 1.2500%\n",
      "Epoch [15/20] | Train Loss: 4.6733, Train Acc: 1.9600% | Val Loss: 4.7519, Val Acc: 1.5000%\n",
      "Epoch [16/20] | Train Loss: 4.6432, Train Acc: 2.0800% | Val Loss: 4.7387, Val Acc: 1.4500%\n",
      "Epoch [17/20] | Train Loss: 4.6417, Train Acc: 2.0800% | Val Loss: 4.7526, Val Acc: 1.8000%\n",
      "Epoch [18/20] | Train Loss: 4.6212, Train Acc: 2.5000% | Val Loss: 4.7158, Val Acc: 2.1500%\n",
      "Epoch [19/20] | Train Loss: 4.6169, Train Acc: 2.5800% | Val Loss: 4.7157, Val Acc: 1.9000%\n",
      "Epoch [20/20] | Train Loss: 4.5934, Train Acc: 2.6400% | Val Loss: 4.7258, Val Acc: 1.7500%\n"
     ]
    }
   ],
   "source": [
    "# baseline model학습 진행\n",
    "bl_trainloss, bl_valloss, bl_trainacc, bl_valacc = train_baseline(baseline_model, labeled_loader,\n",
    "                                                                  val_loader, criterion, optimizer,\n",
    "                                                                  num_epochs=epoch, device=device)"
   ]
  },
  {
   "cell_type": "code",
   "execution_count": 22,
   "id": "7904499c-01b6-45ce-b867-af679dcdd3ac",
   "metadata": {},
   "outputs": [
    {
     "name": "stdout",
     "output_type": "stream",
     "text": [
      "Test Loss: 4.7344, Test Acc: 1.2375%\n"
     ]
    }
   ],
   "source": [
    "# baseline model test result\n",
    "\n",
    "\n",
    "bl_testloss, vl_testacc = test_baseline(baseline_model, test_loader, criterion, device=device)"
   ]
  },
  {
   "cell_type": "code",
   "execution_count": 23,
   "id": "6f89245b-788b-4e22-b5ae-5d55aeb7fdf4",
   "metadata": {},
   "outputs": [],
   "source": [
    "# SimCLR을 통해 model 학습\n",
    "\n",
    "class SimCLR(nn.Module):\n",
    "    def __init__(self, encoder, projection_dim=128):\n",
    "        super(SimCLR, self).__init__()\n",
    "        self.encoder = encoder(num_classes=projection_dim)\n",
    "        self.projection_head = nn.Sequential(\n",
    "            nn.Linear(projection_dim, projection_dim),\n",
    "            nn.ReLU(),\n",
    "            nn.Linear(projection_dim, projection_dim)\n",
    "        )\n",
    "\n",
    "    def forward(self, x):\n",
    "        h = self.encoder(x)\n",
    "        z = self.projection_head(h)\n",
    "        z = F.normalize(z, dim=1)\n",
    "        return z"
   ]
  },
  {
   "cell_type": "code",
   "execution_count": 24,
   "id": "210045ba-249b-4b7e-9bf0-026be7ec1f37",
   "metadata": {},
   "outputs": [],
   "source": [
    "# NT-Xent Loss 정의\n",
    "def simCLR_nt_xent_loss(z_i, z_j, temperature=0.5):\n",
    "    N = z_i.size(0)\n",
    "    z = torch.cat([z_i, z_j], dim=0)\n",
    "\n",
    "    sim = F.cosine_similarity(z.unsqueeze(1), z.unsqueeze(0), dim=2)\n",
    "    sim_exp = torch.exp(sim / temperature)\n",
    "\n",
    "    mask = (~torch.eye(2*N, 2*N, dtype=bool)).to(z.device)\n",
    "    sim_exp = sim_exp.masked_select(mask).view(2*N, -1)\n",
    "\n",
    "    positive_sim = torch.exp(F.cosine_similarity(z_i, z_j, dim=1) / temperature)\n",
    "    positive_sim = torch.cat([positive_sim, positive_sim], dim=0)\n",
    "\n",
    "    loss = -torch.log(positive_sim / sim_exp.sum(dim=1)).mean()\n",
    "    return loss"
   ]
  },
  {
   "cell_type": "code",
   "execution_count": 25,
   "id": "ff3ae4d0-816a-457e-ad88-672eaf6c0e5e",
   "metadata": {},
   "outputs": [],
   "source": [
    "# model 및 optimizer 설정\n",
    "\n",
    "simclr_model = SimCLR(models.resnet18).to(device)\n",
    "optimizer = optim.Adam(simclr_model.parameters(), lr=1e-6)"
   ]
  },
  {
   "cell_type": "code",
   "execution_count": 26,
   "id": "b7a226b8-8cd5-4b85-b1e4-8f3682c41080",
   "metadata": {},
   "outputs": [],
   "source": [
    "# SimCLR - train\n",
    "\n",
    "def train_simclr(loader, epochs=20):\n",
    "    simclr_model.train()\n",
    "\n",
    "    for epoch in range(epochs):\n",
    "        total_loss = 0\n",
    "        for xi, xj in loader:\n",
    "            xi, xj = xi.to(device), xj.to(device)\n",
    "\n",
    "            optimizer.zero_grad()\n",
    "            zi = simclr_model(xi)\n",
    "            zj = simclr_model(xj)\n",
    "\n",
    "            loss = simCLR_nt_xent_loss(zi, zj)\n",
    "\n",
    "            loss.backward()\n",
    "            optimizer.step()\n",
    "\n",
    "            total_loss += loss.item()\n",
    "\n",
    "        avg_loss = total_loss / len(loader)\n",
    "        print(f\"Epoch [{epoch+1}/{epochs}] Loss: {avg_loss:.4f}\")"
   ]
  },
  {
   "cell_type": "code",
   "execution_count": 27,
   "id": "dd5acbf4-e675-49cd-bd12-9167b93328c8",
   "metadata": {},
   "outputs": [
    {
     "name": "stdout",
     "output_type": "stream",
     "text": [
      "Epoch [1/20] Loss: 4.8127\n",
      "Epoch [2/20] Loss: 4.7663\n",
      "Epoch [3/20] Loss: 4.7201\n",
      "Epoch [4/20] Loss: 4.6900\n",
      "Epoch [5/20] Loss: 4.6679\n",
      "Epoch [6/20] Loss: 4.6377\n",
      "Epoch [7/20] Loss: 4.6112\n",
      "Epoch [8/20] Loss: 4.5798\n",
      "Epoch [9/20] Loss: 4.5448\n",
      "Epoch [10/20] Loss: 4.5171\n",
      "Epoch [11/20] Loss: 4.4862\n",
      "Epoch [12/20] Loss: 4.4669\n",
      "Epoch [13/20] Loss: 4.4490\n",
      "Epoch [14/20] Loss: 4.4277\n",
      "Epoch [15/20] Loss: 4.3975\n",
      "Epoch [16/20] Loss: 4.3838\n",
      "Epoch [17/20] Loss: 4.3669\n",
      "Epoch [18/20] Loss: 4.3506\n",
      "Epoch [19/20] Loss: 4.3341\n",
      "Epoch [20/20] Loss: 4.3110\n"
     ]
    }
   ],
   "source": [
    "train_simclr(simclr_loader, epochs=20)"
   ]
  },
  {
   "cell_type": "code",
   "execution_count": 29,
   "id": "38cca22c-8f48-4ca4-973a-95bf5aa02955",
   "metadata": {},
   "outputs": [],
   "source": [
    "# 분류를 위한 모델- SimCLR로 사전학습한 encoder 사용\n",
    "\n",
    "class Classifier(nn.Module):\n",
    "    def __init__(self, encoder, num_classes=100):\n",
    "        super(Classifier, self).__init__()\n",
    "        self.encoder = encoder.encoder\n",
    "        self.fc_layers = nn.Sequential(\n",
    "            nn.Linear(128, 256),\n",
    "            nn.ReLU(),\n",
    "            nn.Dropout(0.3),\n",
    "            nn.Linear(256, num_classes)\n",
    "        )\n",
    "\n",
    "    def forward(self, x):\n",
    "        features = self.encoder(x)\n",
    "        output = self.fc_layers(features)\n",
    "        return output"
   ]
  },
  {
   "cell_type": "code",
   "execution_count": 30,
   "id": "c7f31f12-cb21-4c3e-bb5e-f5e9f510063f",
   "metadata": {},
   "outputs": [],
   "source": [
    "# 모델 및 optimizer 설정\n",
    "\n",
    "classifier_model = Classifier(simclr_model).to(device)\n",
    "optimizer = optim.Adam(classifier_model.parameters(), lr=1e-6)\n",
    "criterion = nn.CrossEntropyLoss().to(device)"
   ]
  },
  {
   "cell_type": "code",
   "execution_count": 31,
   "id": "4347545e-2ec7-4671-8d12-78860c4be914",
   "metadata": {},
   "outputs": [],
   "source": [
    "# simCLR - train\n",
    "\n",
    "def train_classifier(loader, val_loader, epochs=20):\n",
    "    classifier_model.train()\n",
    "\n",
    "    train_loss, train_acc, val_loss, val_acc = [], [], [], []\n",
    "\n",
    "    # train\n",
    "    for epoch in range(epochs):\n",
    "        total_loss, correct, total = 0, 0, 0\n",
    "\n",
    "        for images, labels in loader:\n",
    "            images, labels = images.to(device), labels.to(device)\n",
    "\n",
    "            optimizer.zero_grad()\n",
    "            outputs = classifier_model(images)\n",
    "            loss = criterion(outputs, labels)\n",
    "\n",
    "            loss.backward()\n",
    "            optimizer.step()\n",
    "\n",
    "            total_loss += loss.item()\n",
    "            _, predicted = outputs.max(1)\n",
    "            total += labels.size(0)\n",
    "            correct += predicted.eq(labels).sum().item()\n",
    "\n",
    "        avg_loss = total_loss / len(loader)\n",
    "        accuracy = 100. * correct / total\n",
    "\n",
    "        # validation\n",
    "        classifier_model.eval()\n",
    "        val_total_loss, val_correct, val_total = 0, 0, 0\n",
    "        with torch.no_grad():\n",
    "            for images, labels in val_loader:\n",
    "                images, labels = images.to(device), labels.to(device)\n",
    "                outputs = classifier_model(images)\n",
    "                loss = criterion(outputs, labels)\n",
    "                val_total_loss += loss.item()\n",
    "                _, predicted = outputs.max(1)\n",
    "                val_total += labels.size(0)\n",
    "                val_correct += predicted.eq(labels).sum().item()\n",
    "\n",
    "        avg_val_loss = val_total_loss / len(val_loader)\n",
    "        val_accuracy = 100. * val_correct / val_total\n",
    "\n",
    "        # print log\n",
    "        print(f\"Epoch [{epoch+1}/{epochs}] Train Loss: {avg_loss:.4f}, Train Accuracy: {accuracy:.2f}%, Validation Loss: {avg_val_loss:.4f}, Validation Accuracy: {val_accuracy:.2f}%\")\n",
    "\n",
    "        classifier_model.train()\n",
    "\n",
    "        # save log\n",
    "        train_loss.append(avg_loss)\n",
    "        train_acc.append(accuracy)\n",
    "        val_loss.append(avg_val_loss)\n",
    "        val_acc.append(val_accuracy)\n",
    "\n",
    "    return train_loss, train_acc, val_loss, val_acc"
   ]
  },
  {
   "cell_type": "code",
   "execution_count": 32,
   "id": "6e9a9e3a-7a8e-4ee5-a3c0-0d403694fc92",
   "metadata": {},
   "outputs": [
    {
     "name": "stdout",
     "output_type": "stream",
     "text": [
      "Epoch [1/20] Train Loss: 4.6552, Train Accuracy: 0.94%, Validation Loss: 4.6417, Validation Accuracy: 0.85%\n",
      "Epoch [2/20] Train Loss: 4.6558, Train Accuracy: 0.86%, Validation Loss: 4.6412, Validation Accuracy: 1.10%\n",
      "Epoch [3/20] Train Loss: 4.6469, Train Accuracy: 0.78%, Validation Loss: 4.6323, Validation Accuracy: 0.90%\n",
      "Epoch [4/20] Train Loss: 4.6461, Train Accuracy: 1.06%, Validation Loss: 4.6329, Validation Accuracy: 1.25%\n",
      "Epoch [5/20] Train Loss: 4.6422, Train Accuracy: 1.10%, Validation Loss: 4.6292, Validation Accuracy: 1.10%\n",
      "Epoch [6/20] Train Loss: 4.6248, Train Accuracy: 1.44%, Validation Loss: 4.6242, Validation Accuracy: 1.20%\n",
      "Epoch [7/20] Train Loss: 4.6234, Train Accuracy: 1.12%, Validation Loss: 4.6196, Validation Accuracy: 1.35%\n",
      "Epoch [8/20] Train Loss: 4.6268, Train Accuracy: 1.36%, Validation Loss: 4.6168, Validation Accuracy: 1.60%\n",
      "Epoch [9/20] Train Loss: 4.6190, Train Accuracy: 1.22%, Validation Loss: 4.6155, Validation Accuracy: 1.35%\n",
      "Epoch [10/20] Train Loss: 4.6149, Train Accuracy: 1.30%, Validation Loss: 4.6090, Validation Accuracy: 1.65%\n",
      "Epoch [11/20] Train Loss: 4.6062, Train Accuracy: 1.22%, Validation Loss: 4.6080, Validation Accuracy: 1.60%\n",
      "Epoch [12/20] Train Loss: 4.6049, Train Accuracy: 1.62%, Validation Loss: 4.6041, Validation Accuracy: 1.50%\n",
      "Epoch [13/20] Train Loss: 4.6006, Train Accuracy: 1.76%, Validation Loss: 4.6064, Validation Accuracy: 1.40%\n",
      "Epoch [14/20] Train Loss: 4.5956, Train Accuracy: 1.82%, Validation Loss: 4.5947, Validation Accuracy: 1.90%\n",
      "Epoch [15/20] Train Loss: 4.5895, Train Accuracy: 1.82%, Validation Loss: 4.5945, Validation Accuracy: 1.60%\n",
      "Epoch [16/20] Train Loss: 4.5893, Train Accuracy: 1.94%, Validation Loss: 4.5948, Validation Accuracy: 1.80%\n",
      "Epoch [17/20] Train Loss: 4.5839, Train Accuracy: 1.70%, Validation Loss: 4.5935, Validation Accuracy: 1.70%\n",
      "Epoch [18/20] Train Loss: 4.5823, Train Accuracy: 2.04%, Validation Loss: 4.5938, Validation Accuracy: 1.95%\n",
      "Epoch [19/20] Train Loss: 4.5796, Train Accuracy: 1.78%, Validation Loss: 4.5875, Validation Accuracy: 1.95%\n",
      "Epoch [20/20] Train Loss: 4.5769, Train Accuracy: 1.92%, Validation Loss: 4.5844, Validation Accuracy: 1.85%\n"
     ]
    }
   ],
   "source": [
    "# execution\n",
    "\n",
    "train_loss, train_acc, val_loss, val_acc = train_classifier(labeled_loader, val_loader, epochs=20)"
   ]
  },
  {
   "cell_type": "code",
   "execution_count": 34,
   "id": "2f91feaf-14bf-44df-98ca-b72dffca9c9b",
   "metadata": {},
   "outputs": [],
   "source": [
    "def test_classifier(model, test_loader, criterion, device='cuda'):\n",
    "    model.eval()\n",
    "    running_test_loss, correct_test, total_test = 0.0, 0, 0\n",
    "\n",
    "    with torch.no_grad():\n",
    "        for images, labels in test_loader:\n",
    "            images, labels = images.to(device), labels.to(device)\n",
    "\n",
    "            outputs = model(images)\n",
    "            loss = criterion(outputs, labels)\n",
    "            running_test_loss += loss.item()\n",
    "\n",
    "            _, predicted = torch.max(outputs, 1)\n",
    "            correct_test += (predicted == labels).sum().item()\n",
    "            total_test += labels.size(0)\n",
    "\n",
    "    avg_test_loss = running_test_loss / len(test_loader)\n",
    "    test_acc = correct_test / total_test * 100\n",
    "\n",
    "    print(f\"Test Loss: {avg_test_loss:.4f}, Test Accuracy: {test_acc:.2f}%\")\n",
    "\n",
    "    return avg_test_loss, test_acc\n"
   ]
  },
  {
   "cell_type": "code",
   "execution_count": 35,
   "id": "a3f827c3-1e1a-47c5-bebb-0a62fdd6d125",
   "metadata": {},
   "outputs": [
    {
     "name": "stdout",
     "output_type": "stream",
     "text": [
      "Test Loss: 4.5813, Test Accuracy: 2.05%\n"
     ]
    }
   ],
   "source": [
    "test_loss, test_acc = test_classifier(classifier_model, test_loader, criterion, device)"
   ]
  },
  {
   "cell_type": "code",
   "execution_count": 36,
   "id": "dc4ce73d-844d-4e90-a29d-1321f621d6dd",
   "metadata": {},
   "outputs": [
    {
     "data": {
      "image/png": "[encoded data removed]",
      "text/plain": [
       "<Figure size 576x432 with 1 Axes>"
      ]
     },
     "metadata": {
      "needs_background": "light"
     },
     "output_type": "display_data"
    }
   ],
   "source": [
    "# result visualization\n",
    "\n",
    "def plot_result(bl_val_acc, val_acc, bl_test_acc, test_acc):\n",
    "\n",
    "    epochs = range(1, len(bl_val_acc) + 1)\n",
    "\n",
    "    plt.figure(figsize=(8, 6))\n",
    "\n",
    "    plt.plot(epochs, bl_val_acc, label='Baseline Validation Accuracy')\n",
    "    plt.plot(epochs, val_acc, label='Fine-tuned Validation Accuracy')\n",
    "    plt.xlabel('Epoch')\n",
    "    plt.ylabel('Accuracy (%)')\n",
    "    plt.title('Validation Accuracy Comparison')\n",
    "    plt.legend()\n",
    "    plt.text(0.5, max(max(bl_val_acc), max(val_acc)),\n",
    "             f'Baseline Test Acc: {bl_test_acc:.2f}%\\nFine-tuned Test Acc: {test_acc:.2f}%',\n",
    "             fontsize=10, bbox=dict(facecolor='white', alpha=0.5))\n",
    "\n",
    "    plt.tight_layout()\n",
    "    plt.show()\n",
    "    \n",
    "\n",
    "# 시각화    \n",
    "plot_result(bl_valacc, val_acc, vl_testacc, test_acc)"
   ]
  },
  {
   "cell_type": "markdown",
   "id": "2939d0af-825c-452c-b131-4b13efda9dd0",
   "metadata": {},
   "source": [
    "# 결과\n",
    "\n",
    "loss가 epoch이 진행될수록 감소하는 추세로 미세하게 학습이 이루어졌으나 전반적으로 두 실험 모두 정확도가 매우 낮아(2% 이하) 학습이 정상적으로 이루어졌다고 보기는 어렵다..\n",
    "SimCLR 기반의 self-supervised learning을 사전학습에 활용한 모델도 baseline 모델 대비 유의미한 성능 개선이 나타나지 않았다.\n",
    "\n",
    "## 미흡한 점 / 개선점\n",
    "- lr값(1e-6)이 너무 낮았다.\n",
    "- CIFAR100은 상대적으로 어려운 데이터셋이므로 더 많은 epoch(50~100 이상)을 학습하거나 batch size를 증가시켜야할 것 같다(학습 소요시간의 단축을 위해 batch size를 작게 하고, epoch를 적게 두었음)"
   ]
  },
  {
   "cell_type": "code",
   "execution_count": null,
   "id": "3fc228f1-76a8-41f7-875e-7519068b1c3f",
   "metadata": {},
   "outputs": [],
   "source": []
  }
 ],
 "metadata": {
  "kernelspec": {
   "display_name": "Python 3",
   "language": "python",
   "name": "python3"
  },
  "language_info": {
   "codemirror_mode": {
    "name": "ipython",
    "version": 3
   },
   "file_extension": ".py",
   "mimetype": "text/x-python",
   "name": "python",
   "nbconvert_exporter": "python",
   "pygments_lexer": "ipython3",
   "version": "3.8.10"
  }
 },
 "nbformat": 4,
 "nbformat_minor": 5
}
