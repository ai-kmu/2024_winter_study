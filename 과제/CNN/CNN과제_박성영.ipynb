{
  "cells": [
    {
      "cell_type": "markdown",
      "metadata": {
        "id": "0IIh1rDFHMj2"
      },
      "source": [
        "##Oxford Pet 데이터 다운 및 압축 해제"
      ]
    },
    {
      "cell_type": "code",
      "execution_count": null,
      "metadata": {
        "colab": {
          "base_uri": "https://localhost:8080/"
        },
        "collapsed": true,
        "id": "HEIqeFRrE3iN",
        "outputId": "6b4a149f-9591-4473-d917-9c59bb5c5f4c"
      },
      "outputs": [],
      "source": [
        "!wget https://www.robots.ox.ac.uk/~vgg/data/pets/data/images.tar.gz\n",
        "!wget https://www.robots.ox.ac.uk/~vgg/data/pets/data/annotations.tar.gz"
      ]
    },
    {
      "cell_type": "code",
      "execution_count": null,
      "metadata": {
        "colab": {
          "base_uri": "https://localhost:8080/"
        },
        "collapsed": true,
        "id": "CrX-EvvXHWt9",
        "outputId": "fe7349d1-7762-4727-efcf-fcf4cc2fccbc"
      },
      "outputs": [],
      "source": [
        "# data 디렉토리 생성 후 압축 풀기\n",
        "!mkdir /content/data\n",
        "!tar -xvf images.tar.gz -C /content/data\n",
        "!tar -xvf annotations.tar.gz -C /content/data"
      ]
    },
    {
      "cell_type": "markdown",
      "metadata": {
        "id": "3AOJL7lWYLxU"
      },
      "source": [
        "## Custom dataset class 구현\n",
        "\n",
        "- TrainDataset을 만들 때 txt_file 에서 이미지 이름과 라벨 정보를 기준으로 실제 이미지 파일경로를 찾아 연결하였습니다\n",
        "- TrainDataset에서 이미지를 128*128 크기로 조정 및 정규화를 적용하여 데이터를 변환하였습니다\n",
        "- 전체 학습데이터에서 20%를 검증데이터로 사용하였습니다."
      ]
    },
    {
      "cell_type": "code",
      "execution_count": 3,
      "metadata": {
        "id": "keFe-IZpUiiN"
      },
      "outputs": [],
      "source": [
        "import os\n",
        "from torch.utils.data import Dataset\n",
        "from PIL import Image\n",
        "from torchvision.transforms import Compose, Resize, ToTensor, Normalize\n",
        "from torch.utils.data import DataLoader, random_split\n",
        "\n",
        "class Dataset(Dataset):\n",
        "    def __init__(self, txt_file, root_dir, transform=None):\n",
        "        self.data = []\n",
        "        self.root_dir = root_dir\n",
        "        self.transform = transform\n",
        "\n",
        "        with open(txt_file, 'r') as f:\n",
        "            for line in f:\n",
        "                items = line.strip().split()\n",
        "                image_name, label = items[0], int(items[1]) - 1  # 0-based 인덱스\n",
        "                self.data.append((image_name, label))\n",
        "\n",
        "    def __len__(self):\n",
        "        return len(self.data)\n",
        "\n",
        "    def __getitem__(self, idx):\n",
        "        image_name, label = self.data[idx]\n",
        "        # 이미지 파일 경로 생성\n",
        "        image_path = os.path.join(self.root_dir, image_name + \".jpg\")\n",
        "\n",
        "        # 이미지 로드\n",
        "        if not os.path.exists(image_path):\n",
        "            raise FileNotFoundError(f\"Image file {image_path} not found.\")\n",
        "\n",
        "        image = Image.open(image_path).convert(\"RGB\")\n",
        "\n",
        "        if self.transform:\n",
        "            image = self.transform(image)\n",
        "\n",
        "        return image, label\n",
        "\n",
        "\n",
        "# 데이터 변환 및 DataLoader 설정\n",
        "full_transform = Compose([\n",
        "    Resize((128, 128)),  # 이미지 크기 조정\n",
        "    ToTensor(),          # 텐서로 변환\n",
        "    Normalize(mean=[0.5, 0.5, 0.5], std=[0.5, 0.5, 0.5])  # 정규화 추가\n",
        "])\n",
        "images_dir = \"/content/data/images/\"\n",
        "trainval_txt = \"/content/data/annotations/trainval.txt\"\n",
        "test_txt = \"/content/data/annotations/test.txt\"\n",
        "\n",
        "\n",
        "# 데이터셋 생성\n",
        "train_dataset = Dataset(txt_file=trainval_txt, root_dir=images_dir, transform=full_transform)\n",
        "\n",
        "# Train과 val분리\n",
        "train_size = int(0.8 * len(train_dataset))\n",
        "val_size = len(train_dataset) - train_size\n",
        "train_dataset, val_dataset = random_split(train_dataset, [train_size, val_size])\n",
        "\n",
        "# Test Dataset\n",
        "test_dataset = Dataset(txt_file = test_txt, root_dir=images_dir, transform=full_transform)\n",
        "\n",
        "# DataLoader 설정\n",
        "train_loader = DataLoader(train_dataset, batch_size=32, shuffle=True)\n",
        "val_loader = DataLoader(val_dataset, batch_size=32, shuffle=False)\n",
        "test_loader = DataLoader(test_dataset, batch_size=32, shuffle=False)\n"
      ]
    },
    {
      "cell_type": "markdown",
      "metadata": {
        "id": "imjo5Xd2YPSv"
      },
      "source": [
        "## CNN 모델 구축\n",
        "\n",
        "**Convolution층**: 4개\n",
        "- 첫 번째 합성곱: 32개의 출력채널, 커널크기: 3*3, 패딩: 1\n",
        "- 두 번째 합성곱: 64개의 출력채널, 커널크기: 3*3, 패딩: 1\n",
        "- 세 번째 합성곱: 128개의 출력채널, 커널크기: 3*3, 패딩: 1\n",
        "- 네 번째 합성곱: 256개의 출력채널, 커널크기: 3*3, 패딩: 1\n",
        "\n",
        "**pooling**\n",
        "- 각 합성곱뒤에 2*2 MaxPooling 적용(stride = 2)\n",
        "\n",
        "**Fully Connected층**: 2개\n",
        "- 첫 번째 FC: 입력크기256 -> 출력크기 128\n",
        "- 두 번째 FC: 입력크기 128 -> 최종 클래스 수로 출력하였습니다\n",
        "\n",
        "**Dropout**\n",
        "- 완전 연결층에서 드롭아웃 사용하여 Fully Connected층에서 과적합을 방지하기 위해 사용하였습니다\n",
        "\n",
        "**Skip Connection**\n",
        "- 첫 번째와 두번째 블록 사이에서 적용하여 정보 손실 방지 및 기울기 소실 문제를 줄이기 위해 사용하였습니다.\n",
        "\n",
        "**Global Average Pooling**\n",
        "- 마지막 합성곱 뒤에 적용하여 출력 크기를 고정하였습니다."
      ]
    },
    {
      "cell_type": "code",
      "execution_count": 4,
      "metadata": {
        "id": "0rivdYcil8WF"
      },
      "outputs": [],
      "source": [
        "import torch\n",
        "import torch.nn as nn\n",
        "import torch.nn.functional as F\n",
        "\n",
        "class CNN(nn.Module):\n",
        "    def __init__(self, num_classes):\n",
        "        super(CNN, self).__init__()\n",
        "\n",
        "        self.conv1 = nn.Conv2d(3, 32, kernel_size=3, padding=1)\n",
        "        self.bn1 = nn.BatchNorm2d(32)\n",
        "        self.pool1 = nn.MaxPool2d(kernel_size=2, stride=2)\n",
        "\n",
        "        self.conv2 = nn.Conv2d(32, 64, kernel_size=3, padding=1)\n",
        "        self.bn2 = nn.BatchNorm2d(64)\n",
        "        self.pool2 = nn.MaxPool2d(kernel_size=2, stride=2)\n",
        "\n",
        "        # Skip Connection\n",
        "        self.skip_conv1 = nn.Conv2d(32, 64, kernel_size=1, stride=2, bias=False)\n",
        "\n",
        "        self.conv3 = nn.Conv2d(64, 128, kernel_size=3, padding=1)\n",
        "        self.bn3 = nn.BatchNorm2d(128)\n",
        "        self.pool3 = nn.MaxPool2d(kernel_size=2, stride=2)\n",
        "\n",
        "        self.conv4 = nn.Conv2d(128, 256, kernel_size=3, padding=1)\n",
        "        self.bn4 = nn.BatchNorm2d(256)\n",
        "        self.pool4 = nn.MaxPool2d(kernel_size=2, stride=2)\n",
        "\n",
        "        # Global Average Pooling\n",
        "        self.global_avg_pool = nn.AdaptiveAvgPool2d(1)\n",
        "\n",
        "        # Fully Connected Layer\n",
        "        self.fc1 = nn.Linear(256, 128)\n",
        "        self.dropout = nn.Dropout(0.5)\n",
        "        self.fc2 = nn.Linear(128, num_classes)\n",
        "\n",
        "    def forward(self, x):\n",
        "\n",
        "        x1 = F.relu(self.bn1(self.conv1(x)))\n",
        "        x1 = self.pool1(x1)\n",
        "\n",
        "        x2 = F.relu(self.bn2(self.conv2(x1)))\n",
        "        x2 = self.pool2(x2)\n",
        "\n",
        "        # Skip Connection\n",
        "        x1_resized = self.skip_conv1(x1)\n",
        "        x2 = x2 + x1_resized\n",
        "\n",
        "        x3 = F.relu(self.bn3(self.conv3(x2)))\n",
        "        x3 = self.pool3(x3)\n",
        "\n",
        "        x4 = F.relu(self.bn4(self.conv4(x3)))\n",
        "        x4 = self.pool4(x4)\n",
        "\n",
        "        # Global Average Pooling\n",
        "        x5 = self.global_avg_pool(x4)\n",
        "        x5 = torch.flatten(x5, 1)\n",
        "\n",
        "        # Fully Connected Layer\n",
        "        x6 = F.relu(self.fc1(x5))\n",
        "        x6 = self.dropout(x6)\n",
        "\n",
        "        # 최종 출력\n",
        "        out = self.fc2(x6)\n",
        "        return out\n"
      ]
    },
    {
      "cell_type": "markdown",
      "metadata": {
        "id": "0nkxV9qvYqPc"
      },
      "source": [
        "## 손실 함수와 옵티마이저 설정\n",
        "\n",
        "- Optimizer로 AdamW를 사용하였습니다\n",
        "- Scheduler를 사용해 5step마다 학습률을 조정하였습니다"
      ]
    },
    {
      "cell_type": "code",
      "execution_count": null,
      "metadata": {
        "colab": {
          "base_uri": "https://localhost:8080/"
        },
        "id": "gmddw-SpYs3D",
        "outputId": "16dc08d9-c620-4c8d-f562-121a588bc601"
      },
      "outputs": [],
      "source": [
        "import torch.optim as optim\n",
        "import torch.optim.lr_scheduler as lr_scheduler\n",
        "\n",
        "num_classes = max(label for _, label in train_dataset) + 1\n",
        "model = CNN(num_classes = num_classes)\n",
        "\n",
        "# 손실 함수와 옵티마이저\n",
        "criterion = nn.CrossEntropyLoss()\n",
        "optimizer = optim.AdamW(model.parameters(), lr=0.001, weight_decay=1e-4)\n",
        "scheduler = lr_scheduler.StepLR(optimizer, step_size=5, gamma=0.5)\n",
        "\n",
        "# GPU 사용\n",
        "device = torch.device(\"cuda\" if torch.cuda.is_available() else \"cpu\")\n",
        "model.to(device)\n"
      ]
    },
    {
      "cell_type": "markdown",
      "metadata": {
        "id": "8-vmPea_YwYH"
      },
      "source": [
        "## 모델 학습 및 평가 함수"
      ]
    },
    {
      "cell_type": "code",
      "execution_count": 7,
      "metadata": {
        "id": "DTkkckTBYxeD"
      },
      "outputs": [],
      "source": [
        "def train(model, train_loader, optimizer, criterion, device):\n",
        "    model.train()\n",
        "    running_loss = 0.0\n",
        "    correct = 0\n",
        "    total = 0\n",
        "\n",
        "    for images, labels in train_loader:\n",
        "        images, labels = images.to(device), labels.to(device)\n",
        "\n",
        "        # Optimizer 초기화\n",
        "        optimizer.zero_grad()\n",
        "\n",
        "        outputs = model(images)\n",
        "        loss = criterion(outputs, labels)\n",
        "        loss.backward()\n",
        "\n",
        "        optimizer.step()\n",
        "\n",
        "        # loss 누적\n",
        "        running_loss += loss.item()\n",
        "\n",
        "        # 정확도 계산\n",
        "        _, preds = torch.max(outputs, 1)\n",
        "        correct += (preds == labels).sum().item()\n",
        "        total += labels.size(0)\n",
        "\n",
        "    avg_loss = running_loss / len(train_loader)\n",
        "    accuracy = correct / total * 100\n",
        "    return avg_loss, accuracy\n",
        "\n",
        "# 모델 평가\n",
        "def evaluate(model, val_loader, criterion, device):\n",
        "    model.eval()\n",
        "    running_loss = 0.0\n",
        "    correct = 0\n",
        "    total = 0\n",
        "\n",
        "    # 평가중에는 기울기 막음\n",
        "    with torch.no_grad():\n",
        "        for images, labels in val_loader:\n",
        "            images, labels = images.to(device), labels.to(device)\n",
        "\n",
        "            outputs = model(images)\n",
        "\n",
        "            loss = criterion(outputs, labels)\n",
        "            # loss 누적\n",
        "            running_loss += loss.item()\n",
        "\n",
        "            # 정확도 계산\n",
        "            _, preds = torch.max(outputs, 1)\n",
        "            correct += (preds == labels).sum().item()\n",
        "            total += labels.size(0)\n",
        "\n",
        "    avg_loss = running_loss / len(val_loader)\n",
        "    accuracy = correct / total * 100\n",
        "    return avg_loss, accuracy\n",
        "\n"
      ]
    },
    {
      "cell_type": "markdown",
      "metadata": {
        "id": "3iCHijklbd_d"
      },
      "source": [
        "## 결과 출력\n",
        "\n",
        "- Test Accuracy 가 21.89%가 나오는 것을 확인했습니다"
      ]
    },
    {
      "cell_type": "code",
      "execution_count": 8,
      "metadata": {
        "colab": {
          "base_uri": "https://localhost:8080/"
        },
        "id": "2J5DwLqRa5Ke",
        "outputId": "fc28f6bf-e2fe-48a0-bfdc-56b17f5d36c7"
      },
      "outputs": [
        {
          "name": "stdout",
          "output_type": "stream",
          "text": [
            "Epoch 1/30\n",
            "Train Loss: 3.6034, Train Accuracy: 4.31%\n",
            "Validation Loss: 3.5483, Validation Accuracy: 6.93%\n",
            "--------------------------------------------------\n",
            "Epoch 2/30\n",
            "Train Loss: 3.5366, Train Accuracy: 5.30%\n",
            "Validation Loss: 3.4808, Validation Accuracy: 8.29%\n",
            "--------------------------------------------------\n",
            "Epoch 3/30\n",
            "Train Loss: 3.4728, Train Accuracy: 7.34%\n",
            "Validation Loss: 3.4904, Validation Accuracy: 5.57%\n",
            "--------------------------------------------------\n",
            "Epoch 4/30\n",
            "Train Loss: 3.4325, Train Accuracy: 7.88%\n",
            "Validation Loss: 3.3890, Validation Accuracy: 7.88%\n",
            "--------------------------------------------------\n",
            "Epoch 5/30\n",
            "Train Loss: 3.3652, Train Accuracy: 8.53%\n",
            "Validation Loss: 3.3384, Validation Accuracy: 9.78%\n",
            "--------------------------------------------------\n",
            "Epoch 6/30\n",
            "Train Loss: 3.2882, Train Accuracy: 11.07%\n",
            "Validation Loss: 3.2502, Validation Accuracy: 13.18%\n",
            "--------------------------------------------------\n",
            "Epoch 7/30\n",
            "Train Loss: 3.2351, Train Accuracy: 11.58%\n",
            "Validation Loss: 3.2175, Validation Accuracy: 12.50%\n",
            "--------------------------------------------------\n",
            "Epoch 8/30\n",
            "Train Loss: 3.1800, Train Accuracy: 11.85%\n",
            "Validation Loss: 3.1973, Validation Accuracy: 13.18%\n",
            "--------------------------------------------------\n",
            "Epoch 9/30\n",
            "Train Loss: 3.1425, Train Accuracy: 13.72%\n",
            "Validation Loss: 3.1469, Validation Accuracy: 14.81%\n",
            "--------------------------------------------------\n",
            "Epoch 10/30\n",
            "Train Loss: 3.1221, Train Accuracy: 13.79%\n",
            "Validation Loss: 3.1549, Validation Accuracy: 14.40%\n",
            "--------------------------------------------------\n",
            "Epoch 11/30\n",
            "Train Loss: 3.0448, Train Accuracy: 15.29%\n",
            "Validation Loss: 3.0520, Validation Accuracy: 15.90%\n",
            "--------------------------------------------------\n",
            "Epoch 12/30\n",
            "Train Loss: 3.0095, Train Accuracy: 16.64%\n",
            "Validation Loss: 3.0251, Validation Accuracy: 17.66%\n",
            "--------------------------------------------------\n",
            "Epoch 13/30\n",
            "Train Loss: 2.9849, Train Accuracy: 16.71%\n",
            "Validation Loss: 3.0470, Validation Accuracy: 17.66%\n",
            "--------------------------------------------------\n",
            "Epoch 14/30\n",
            "Train Loss: 2.9299, Train Accuracy: 17.97%\n",
            "Validation Loss: 2.9780, Validation Accuracy: 18.61%\n",
            "--------------------------------------------------\n",
            "Epoch 15/30\n",
            "Train Loss: 2.8960, Train Accuracy: 19.29%\n",
            "Validation Loss: 2.9626, Validation Accuracy: 16.85%\n",
            "--------------------------------------------------\n",
            "Epoch 16/30\n",
            "Train Loss: 2.8473, Train Accuracy: 19.90%\n",
            "Validation Loss: 2.9101, Validation Accuracy: 20.11%\n",
            "--------------------------------------------------\n",
            "Epoch 17/30\n",
            "Train Loss: 2.8330, Train Accuracy: 19.50%\n",
            "Validation Loss: 2.8746, Validation Accuracy: 21.74%\n",
            "--------------------------------------------------\n",
            "Epoch 18/30\n",
            "Train Loss: 2.7921, Train Accuracy: 21.67%\n",
            "Validation Loss: 2.8835, Validation Accuracy: 20.92%\n",
            "--------------------------------------------------\n",
            "Epoch 19/30\n",
            "Train Loss: 2.7951, Train Accuracy: 21.09%\n",
            "Validation Loss: 2.9480, Validation Accuracy: 18.89%\n",
            "--------------------------------------------------\n",
            "Epoch 20/30\n",
            "Train Loss: 2.7665, Train Accuracy: 21.71%\n",
            "Validation Loss: 2.9513, Validation Accuracy: 19.29%\n",
            "--------------------------------------------------\n",
            "Epoch 21/30\n",
            "Train Loss: 2.7376, Train Accuracy: 21.60%\n",
            "Validation Loss: 2.7998, Validation Accuracy: 23.23%\n",
            "--------------------------------------------------\n",
            "Epoch 22/30\n",
            "Train Loss: 2.7217, Train Accuracy: 22.01%\n",
            "Validation Loss: 2.8138, Validation Accuracy: 24.18%\n",
            "--------------------------------------------------\n",
            "Epoch 23/30\n",
            "Train Loss: 2.7133, Train Accuracy: 23.06%\n",
            "Validation Loss: 2.8042, Validation Accuracy: 23.23%\n",
            "--------------------------------------------------\n",
            "Epoch 24/30\n",
            "Train Loss: 2.6887, Train Accuracy: 24.01%\n",
            "Validation Loss: 2.7714, Validation Accuracy: 22.96%\n",
            "--------------------------------------------------\n",
            "Epoch 25/30\n",
            "Train Loss: 2.6718, Train Accuracy: 24.69%\n",
            "Validation Loss: 2.7603, Validation Accuracy: 24.46%\n",
            "--------------------------------------------------\n",
            "Epoch 26/30\n",
            "Train Loss: 2.6517, Train Accuracy: 24.46%\n",
            "Validation Loss: 2.7527, Validation Accuracy: 24.73%\n",
            "--------------------------------------------------\n",
            "Epoch 27/30\n",
            "Train Loss: 2.6416, Train Accuracy: 24.83%\n",
            "Validation Loss: 2.7496, Validation Accuracy: 24.73%\n",
            "--------------------------------------------------\n",
            "Epoch 28/30\n",
            "Train Loss: 2.6398, Train Accuracy: 23.37%\n",
            "Validation Loss: 2.7429, Validation Accuracy: 25.68%\n",
            "--------------------------------------------------\n",
            "Epoch 29/30\n",
            "Train Loss: 2.6545, Train Accuracy: 24.52%\n",
            "Validation Loss: 2.7598, Validation Accuracy: 24.05%\n",
            "--------------------------------------------------\n",
            "Epoch 30/30\n",
            "Train Loss: 2.6280, Train Accuracy: 24.05%\n",
            "Validation Loss: 2.7372, Validation Accuracy: 24.46%\n",
            "--------------------------------------------------\n",
            "Test Loss: 2.7939, Test Accuracy: 21.89%\n"
          ]
        }
      ],
      "source": [
        "# 결과 저장 리스트\n",
        "train_losses, train_accuracies = [], []\n",
        "val_losses, val_accuracies = [], []\n",
        "\n",
        "num_epochs = 30\n",
        "for epoch in range(num_epochs):\n",
        "    # 학습\n",
        "    train_loss, train_accuracy = train(model, train_loader, optimizer, criterion, device)\n",
        "    train_losses.append(train_loss)\n",
        "    train_accuracies.append(train_accuracy)\n",
        "\n",
        "    # 검증\n",
        "    val_loss, val_accuracy = evaluate(model, val_loader, criterion, device)\n",
        "    val_losses.append(val_loss)\n",
        "    val_accuracies.append(val_accuracy)\n",
        "\n",
        "    # 결과 출력\n",
        "    print(f\"Epoch {epoch+1}/{num_epochs}\")\n",
        "    print(f\"Train Loss: {train_loss:.4f}, Train Accuracy: {train_accuracy:.2f}%\")\n",
        "    print(f\"Validation Loss: {val_loss:.4f}, Validation Accuracy: {val_accuracy:.2f}%\")\n",
        "    print(\"-\" * 50)\n",
        "\n",
        "    # 스케쥴러 사용\n",
        "    scheduler.step()\n",
        "\n",
        "# 학습 종료 후 테스트 평가\n",
        "test_loss, test_accuracy = evaluate(model, test_loader, criterion, device)\n",
        "print(f\"Test Loss: {test_loss:.4f}, Test Accuracy: {test_accuracy:.2f}%\")\n"
      ]
    },
    {
      "cell_type": "markdown",
      "metadata": {
        "id": "LCC_ca5Xf9ae"
      },
      "source": [
        "## 실험의 Training log 시각화"
      ]
    },
    {
      "cell_type": "code",
      "execution_count": 20,
      "metadata": {
        "colab": {
          "base_uri": "https://localhost:8080/",
          "height": 407
        },
        "id": "zt_DCHYg3Cux",
        "outputId": "c8d4f149-53e1-40a8-ca80-0f6a4eb11dc3"
      },
      "outputs": [
        {
          "data": {
            "image/png": "[encoded data removed]",
            "text/plain": [
              "<Figure size 800x400 with 2 Axes>"
            ]
          },
          "metadata": {},
          "output_type": "display_data"
        }
      ],
      "source": [
        "import matplotlib.pyplot as plt\n",
        "\n",
        "# 그래프 크기\n",
        "plt.figure(figsize=(8, 4))\n",
        "\n",
        "# 첫 번째 그래프: 손실\n",
        "plt.subplot(1, 2, 1)\n",
        "plt.plot(range(1, num_epochs+1), train_losses, label='Train Loss')\n",
        "plt.plot(range(1, num_epochs+1), val_losses, label='Validation Loss')\n",
        "plt.xlabel('Epochs')\n",
        "plt.ylabel('Loss')\n",
        "plt.title('Train and Validation Loss')\n",
        "plt.legend()\n",
        "plt.grid(True)\n",
        "\n",
        "# 두 번째 그래프: 정확도\n",
        "plt.subplot(1, 2, 2)\n",
        "plt.plot(range(1, num_epochs+1), train_accuracies, label='Train Accuracy')\n",
        "plt.plot(range(1, num_epochs+1), val_accuracies, label='Validation Accuracy')\n",
        "plt.xlabel('Epochs')\n",
        "plt.ylabel('Accuracy')\n",
        "plt.title('Train and Validation Accuracy')\n",
        "plt.legend()\n",
        "plt.grid(True)\n",
        "\n",
        "plt.tight_layout()\n",
        "plt.show()\n"
      ]
    },
    {
      "cell_type": "markdown",
      "metadata": {
        "id": "tgkM85CurUaV"
      },
      "source": [
        "## 분석 및 고찰\n",
        "\n",
        "**정확도가 낮은 이유**\n",
        "- Oxford-IIIT Pet 데이터셋은 크기가 작고, 클래스가 세부적인 품종으로 나뉘어 있어서 모델이 충분히 학습하기 어려웠던 것 같습니다\n",
        "- 30 에폭만으로는 데이터셋을 충분히 학습하기에 부족한 것을 확인할 수 있었습니다.\n",
        "\n",
        "**개선 방안**\n",
        "- 에폭을 더 늘려서 학습을 진행하거나 학습률을 초기에 조금 높게 설정해서 점차 감소시키는 방식을 사용해볼수 있을 것 같습니다.\n",
        "- 학습 데이터에 정규화뿐만 아니라 회전, 좌우 반전, 색상변환 등의 증강 기법을 적용해 데이터에 다양성을 주면 모델의 일반화 능력을 향상시킬 수 있을 것 같습니다.\n",
        "\n",
        "**CNN 모델 구현에서 겪은 어려움**\n",
        "- CNN 모델을 구축할 때 합성곱 연산과 풀링 층을 거친 후 완전 연결 층과 연결하는데 있어서 차원 오류가 자주 생겨서 어려움이 있었습니다. 또한 입력데이터가 다운샘플링 과정을 거친후에 차원이 정확하게 출력이 안되서 오류가 발생했었습니다.\n",
        "- CNN 모델 설계 시에 각 층의 출력 차원을 잘 계산해서 구현하는 것이 중요하다는 것을 느꼈습니다"
      ]
    }
  ],
  "metadata": {
    "accelerator": "GPU",
    "colab": {
      "gpuType": "T4",
      "provenance": []
    },
    "kernelspec": {
      "display_name": "Python 3",
      "name": "python3"
    },
    "language_info": {
      "name": "python"
    }
  },
  "nbformat": 4,
  "nbformat_minor": 0
}
