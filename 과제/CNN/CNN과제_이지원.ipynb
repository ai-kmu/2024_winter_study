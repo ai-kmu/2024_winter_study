{
  "cells": [
    {
      "cell_type": "markdown",
      "metadata": {
        "id": "CBwY4YqDZbuI"
      },
      "source": [
        "# CNN 과제 - 이지원"
      ]
    },
    {
      "cell_type": "markdown",
      "metadata": {
        "id": "iI9LJnXgd5kA"
      },
      "source": [
        "## 필요한 라이브러리 import"
      ]
    },
    {
      "cell_type": "code",
      "execution_count": 1,
      "metadata": {
        "id": "kfKotZ5roV8o"
      },
      "outputs": [],
      "source": [
        "import torch\n",
        "import torch.nn as nn\n",
        "from torchvision import transforms\n",
        "from sklearn.model_selection import train_test_split"
      ]
    },
    {
      "cell_type": "markdown",
      "metadata": {
        "id": "nDXLxAq2qgDi"
      },
      "source": [
        "## 랜덤 시드 고정\n",
        "\n",
        "- Random Seed를 고정하여 재현성을 보장"
      ]
    },
    {
      "cell_type": "code",
      "execution_count": 2,
      "metadata": {
        "id": "3qZhzHoIwv_2"
      },
      "outputs": [],
      "source": [
        "import random\n",
        "import numpy as np\n",
        "\n",
        "def set_random_seed(seed):\n",
        "  torch.manual_seed(seed)\n",
        "  torch.cuda.manual_seed(seed)\n",
        "  torch.cuda.manual_seed_all(seed)\n",
        "  torch.backends.cudnn.deterministic = True\n",
        "  torch.backends.cudnn.benchmark = False\n",
        "  np.random.seed(seed)\n",
        "  random.seed(seed)\n",
        "\n",
        "set_random_seed(1234)"
      ]
    },
    {
      "cell_type": "markdown",
      "metadata": {
        "id": "NZfbLnSfoVTz"
      },
      "source": [
        "## GPU 가용성 확인 및 연산 장치 결정"
      ]
    },
    {
      "cell_type": "code",
      "execution_count": 3,
      "metadata": {
        "colab": {
          "base_uri": "https://localhost:8080/"
        },
        "id": "gWzyUVx7oUDx",
        "outputId": "99d5f98d-7d9a-4642-d69b-0b2b22596a93"
      },
      "outputs": [
        {
          "name": "stdout",
          "output_type": "stream",
          "text": [
            "CUDA Available: True\n",
            "Current Device: cuda\n"
          ]
        }
      ],
      "source": [
        "print(f\"CUDA Available: {torch.cuda.is_available()}\")\n",
        "device = torch.device(\"cuda\" if torch.cuda.is_available() else \"cpu\")\n",
        "print(f\"Current Device: {device}\")"
      ]
    },
    {
      "cell_type": "markdown",
      "metadata": {
        "id": "YE4UG-Ai8O9K"
      },
      "source": [
        "## Dataset Class 정의\n",
        "\n",
        "- 데이터 파일이 없을 경우 자동으로 다운로드 수행"
      ]
    },
    {
      "cell_type": "code",
      "execution_count": 4,
      "metadata": {
        "id": "nj6FvOWYrki8"
      },
      "outputs": [],
      "source": [
        "import typing\n",
        "import os\n",
        "import tarfile\n",
        "import numpy as np\n",
        "from PIL import Image\n",
        "from urllib.request import urlretrieve\n",
        "from tqdm import tqdm\n",
        "\n",
        "\n",
        "class OxfordIIITPetDataset(torch.utils.data.Dataset):\n",
        "  def __init__(self, root: str = \"./data\", split: str = \"trainval\", download: bool = True, transform: typing.Callable | None = None):\n",
        "    self.root = root\n",
        "    self.split = split\n",
        "    self.transform = transform\n",
        "\n",
        "    self.url = \"https://www.robots.ox.ac.uk/~vgg/data/pets/data/images.tar.gz\"\n",
        "    self.annotations_url = \"https://www.robots.ox.ac.uk/~vgg/data/pets/data/annotations.tar.gz\"\n",
        "    self.image_folder = os.path.join(self.root, \"images\")\n",
        "    self.annotations_folder = os.path.join(self.root, \"annotations\")\n",
        "\n",
        "    if download:\n",
        "      self._download()\n",
        "\n",
        "    self.data = self._load_data()\n",
        "\n",
        "  def _download(self):\n",
        "    os.makedirs(self.root, exist_ok=True)\n",
        "\n",
        "    image_tar_path = os.path.join(self.root, \"images.tar.gz\")\n",
        "    annotations_tar_path = os.path.join(self.root, \"annotations.tar.gz\")\n",
        "\n",
        "    if not os.path.exists(self.image_folder):\n",
        "      print(\"Downloading images...\")\n",
        "      self._download_with_progress(self.url, image_tar_path)\n",
        "      print(\"Extracting images...\")\n",
        "      with tarfile.open(image_tar_path, \"r:gz\") as tar:\n",
        "        tar.extractall(path=self.root)\n",
        "\n",
        "    if not os.path.exists(self.annotations_folder):\n",
        "      print(\"Downloading annotations...\")\n",
        "      self._download_with_progress(self.annotations_url, annotations_tar_path)\n",
        "      print(\"Extracting annotations...\")\n",
        "      with tarfile.open(annotations_tar_path, \"r:gz\") as tar:\n",
        "        tar.extractall(path=self.root)\n",
        "\n",
        "  def _download_with_progress(self, url: str, file_path: str):\n",
        "    with tqdm(total=None, unit=\"B\", unit_scale=True, desc=\"Downloading\", dynamic_ncols=True) as progress_bar:\n",
        "      def show_progress(block_num, block_size, total_size):\n",
        "        if progress_bar.total != total_size:\n",
        "          progress_bar.total = total_size\n",
        "        progress_bar.update(block_size)\n",
        "\n",
        "      urlretrieve(url, file_path, reporthook=show_progress)\n",
        "\n",
        "  def _load_data(self):\n",
        "    if self.split not in (\"trainval\", \"test\"):\n",
        "      raise ValueError(self.split)\n",
        "\n",
        "    split_file = os.path.join(self.annotations_folder, f\"{self.split}.txt\")\n",
        "    if not os.path.exists(split_file):\n",
        "      raise FileNotFoundError(split_file)\n",
        "\n",
        "    data = []\n",
        "    with open(split_file, \"r\") as f:\n",
        "      for line in f:\n",
        "        img_name, label = line.strip().split()[:2]\n",
        "        img_path = os.path.join(self.image_folder, img_name + \".jpg\")\n",
        "        if os.path.exists(img_path):\n",
        "          data.append((img_path, int(label) - 1))\n",
        "\n",
        "    return data\n",
        "\n",
        "  def __len__(self):\n",
        "    return len(self.data)\n",
        "\n",
        "  def __getitem__(self, idx):\n",
        "    img_path, label = self.data[idx]\n",
        "    img = Image.open(img_path).convert(\"RGB\")\n",
        "\n",
        "    if self.transform:\n",
        "      img = self.transform(img)\n",
        "\n",
        "    return img, label"
      ]
    },
    {
      "cell_type": "markdown",
      "metadata": {
        "id": "P4cm7662oY3u"
      },
      "source": [
        "## 데이터셋 준비\n",
        "\n",
        "- Train Dataset, Validation Dataset 4:1 분할\n",
        "- Train Dataset에 Data Argumatation 적용"
      ]
    },
    {
      "cell_type": "code",
      "execution_count": 5,
      "metadata": {
        "colab": {
          "base_uri": "https://localhost:8080/"
        },
        "id": "jKI0pCpz0qIL",
        "outputId": "7c3fab5d-057b-4e2d-d093-baf4b740fcc7"
      },
      "outputs": [
        {
          "name": "stdout",
          "output_type": "stream",
          "text": [
            "Downloading images...\n"
          ]
        },
        {
          "name": "stderr",
          "output_type": "stream",
          "text": [
            "Downloading: 792MB [00:44, 17.8MB/s]                           \n"
          ]
        },
        {
          "name": "stdout",
          "output_type": "stream",
          "text": [
            "Extracting images...\n",
            "Downloading annotations...\n"
          ]
        },
        {
          "name": "stderr",
          "output_type": "stream",
          "text": [
            "Downloading: 19.2MB [00:04, 3.90MB/s]                            \n"
          ]
        },
        {
          "name": "stdout",
          "output_type": "stream",
          "text": [
            "Extracting annotations...\n",
            "Train 데이터 개수: 2944\n",
            "Validation 데이터 개수: 736\n",
            "Test 데이터 개수: 3669\n"
          ]
        }
      ],
      "source": [
        "# train 데이터셋 준비\n",
        "train_dataset = OxfordIIITPetDataset(\n",
        "  root=\".\",\n",
        "  split=\"trainval\",\n",
        "  download=True,\n",
        "  transform=transforms.Compose([\n",
        "    transforms.RandomRotation(degrees=10),\n",
        "    transforms.RandomAffine(0, shear=10, scale=(0.8, 1.2)),\n",
        "    transforms.Resize((128, 128)),\n",
        "    transforms.ToTensor()\n",
        "  ])\n",
        ")\n",
        "\n",
        "train_indices, validation_indices = train_test_split(range(len(train_dataset)), test_size=0.2, random_state=42)\n",
        "\n",
        "train_sampler = torch.utils.data.SubsetRandomSampler(train_indices)\n",
        "validation_sampler = torch.utils.data.SubsetRandomSampler(validation_indices)\n",
        "\n",
        "\n",
        "# validation 데이터셋 준비\n",
        "validation_dataset = OxfordIIITPetDataset(\n",
        "  root=\".\",\n",
        "  split=\"trainval\",\n",
        "  download=True,\n",
        "  transform=transforms.Compose([\n",
        "    transforms.Resize((128, 128)),\n",
        "    transforms.ToTensor()\n",
        "  ])\n",
        ")\n",
        "\n",
        "# test 데이터셋 준비\n",
        "test_dataset = OxfordIIITPetDataset(\n",
        "  root=\".\",\n",
        "  split=\"test\",\n",
        "  download=True,\n",
        "  transform=transforms.Compose([\n",
        "    transforms.Resize((128, 128)),\n",
        "    transforms.ToTensor()\n",
        "  ])\n",
        ")\n",
        "\n",
        "print(f\"Train 데이터 개수: {len(train_indices)}\")\n",
        "print(f\"Validation 데이터 개수: {len(validation_indices)}\")\n",
        "print(f\"Test 데이터 개수: {len(test_dataset)}\")"
      ]
    },
    {
      "cell_type": "markdown",
      "metadata": {
        "id": "WTr_jmZpocA3"
      },
      "source": [
        "## CNN 모델 정의\n",
        "\n",
        "- BatchNorm을 사용하여 정규화\n",
        "- Dropout을 사용하여 오버피팅 방지\n",
        "- ReLU 활성화 함수를 사용\n",
        "- Residual Block을 사용하여 Skip-Connection 구현"
      ]
    },
    {
      "cell_type": "code",
      "execution_count": 6,
      "metadata": {
        "id": "kXq-XyYunNwO"
      },
      "outputs": [],
      "source": [
        "class ResidualBlock(nn.Module):\n",
        "  def __init__(self, in_planes: int, planes: int, stride: int = 1, dropout: int | float | None = None):\n",
        "    super().__init__()\n",
        "    self.conv1 = nn.Conv2d(\n",
        "      in_channels=in_planes,\n",
        "      out_channels=planes,\n",
        "      kernel_size=3,\n",
        "      stride=stride,\n",
        "      padding=1,\n",
        "      bias=False\n",
        "    )\n",
        "    self.bn1 = nn.BatchNorm2d(num_features=planes)\n",
        "    self.act1 = nn.ReLU()\n",
        "    self.conv2 = nn.Conv2d(\n",
        "      in_channels=planes,\n",
        "      out_channels=planes,\n",
        "      kernel_size=3,\n",
        "      stride=1,\n",
        "      padding=1,\n",
        "      bias=False\n",
        "    )\n",
        "    self.bn2 = nn.BatchNorm2d(num_features=planes)\n",
        "    self.act2 = nn.ReLU()\n",
        "\n",
        "    self.shortcut = nn.Sequential()\n",
        "    if stride != 1 or in_planes != planes:\n",
        "      self.shortcut = nn.Sequential(\n",
        "        nn.Conv2d(\n",
        "          in_channels=in_planes,\n",
        "          out_channels=planes,\n",
        "          kernel_size=1,\n",
        "          stride=stride,\n",
        "          bias=False\n",
        "        ),\n",
        "        nn.BatchNorm2d(num_features=planes)\n",
        "      )\n",
        "\n",
        "    self.dropout = nn.Sequential() if dropout == None else nn.Dropout(dropout)\n",
        "\n",
        "  def forward(self, x):\n",
        "    out = self.conv1(x)\n",
        "    out = self.bn1(out)\n",
        "    out = self.act1(out)\n",
        "    out = self.conv2(out)\n",
        "    out = self.bn2(out)\n",
        "    out += self.shortcut(x)\n",
        "    out = self.act2(out)\n",
        "    out = self.dropout(out)\n",
        "    return out\n",
        "\n",
        "\n",
        "class Pool(nn.Module):\n",
        "  def forward(self, x):\n",
        "    input = nn.functional.adaptive_avg_pool2d(x, 1)\n",
        "    return input.view(input.shape[0], -1)\n",
        "\n",
        "\n",
        "class ResNet(nn.Module):\n",
        "  def __init__(self, block, num_blocks, num_classes):\n",
        "    super().__init__()\n",
        "    self.in_planes = 64\n",
        "    self.conv1 = nn.Conv2d(\n",
        "      in_channels=3,\n",
        "      out_channels=64,\n",
        "      kernel_size=3,\n",
        "      stride=1,\n",
        "      padding=1,\n",
        "      bias=False\n",
        "    )\n",
        "    self.bn1 = nn.BatchNorm2d(num_features=64)\n",
        "    self.act1 = nn.ReLU()\n",
        "    self.layer1 = self._make_layer(block, 64, num_blocks[0], stride=1, dropout=0.2)\n",
        "    self.layer2 = self._make_layer(block, 128, num_blocks[1], stride=2, dropout=0.2)\n",
        "    self.layer3 = self._make_layer(block, 256, num_blocks[2], stride=2, dropout=0.2)\n",
        "    self.layer4 = self._make_layer(block, 512, num_blocks[3], stride=2, dropout=0.2)\n",
        "    self.pool = Pool()\n",
        "    self.linear = nn.Linear(512, num_classes)\n",
        "\n",
        "  def _make_layer(self, block, planes, num_blocks, stride, dropout: int | float | None = None):\n",
        "    strides = [stride] + [1] * (num_blocks - 1)\n",
        "    layers = []\n",
        "    for stride in strides:\n",
        "      layers.append(block(self.in_planes, planes, stride, dropout))\n",
        "      self.in_planes = planes\n",
        "    return nn.Sequential(*layers)\n",
        "\n",
        "  def forward(self, x):\n",
        "    out = self.conv1(x)\n",
        "    out = self.bn1(out)\n",
        "    out = self.act1(out)\n",
        "    out = self.layer1(out)\n",
        "    out = self.layer2(out)\n",
        "    out = self.layer3(out)\n",
        "    out = self.layer4(out)\n",
        "    out = self.pool(out)\n",
        "    out = self.linear(out)\n",
        "    return out\n",
        "\n",
        "\n",
        "def ResNet18(num_classes):\n",
        "  return ResNet(block=ResidualBlock, num_blocks=[2, 2, 2, 2], num_classes=num_classes)"
      ]
    },
    {
      "cell_type": "markdown",
      "metadata": {
        "id": "JUOrexyBsk20"
      },
      "source": [
        "## 학습 함수 정의\n",
        "\n",
        "- 각 Epoch마다 Validation Dataset에 대한 성능을 측정하여 Overfitting 여부 확인\n",
        "- Early Stopping을 적용하여 일정 단위의 학습 동안 Validation Loss의 개선이 이루어지지 않는다면 조기 종료\n",
        "- Validation Loss가 가장 낮았던 모델 상태를 저장하여 학습이 종료되는 시점에 반영"
      ]
    },
    {
      "cell_type": "code",
      "execution_count": 7,
      "metadata": {
        "id": "SiPbwA3KtVV3"
      },
      "outputs": [],
      "source": [
        "def train(model, optimizer, loss_function, num_epochs, early_stop_patience, train_loader, validation_loader):\n",
        "  min_validation_loss = None\n",
        "  best_parameters = None\n",
        "  checkpoint_epoch = None\n",
        "  early_stop_epoch_count = 0\n",
        "  history = []\n",
        "\n",
        "  for epoch in range(num_epochs):\n",
        "    # Train\n",
        "    model.train()\n",
        "    loss_temp = 0.0\n",
        "    accuracy_temp = 0.0\n",
        "    for images, labels in train_loader:\n",
        "      images = images.to(device)\n",
        "      labels = labels.to(device)\n",
        "\n",
        "      output = model(images)\n",
        "      loss = loss_function(output, labels)\n",
        "\n",
        "      optimizer.zero_grad()\n",
        "      loss.backward()\n",
        "      optimizer.step()\n",
        "\n",
        "      prediction = output.argmax(dim=1)\n",
        "      loss_temp += loss.item()\n",
        "      accuracy_temp += torch.sum(prediction == labels)\n",
        "\n",
        "    train_loss = loss_temp / len(train_loader.sampler)\n",
        "    train_accuracy = accuracy_temp.cpu() / len(train_loader.sampler) * 100\n",
        "\n",
        "    # Validation\n",
        "    model.eval()\n",
        "    loss_temp = 0.0\n",
        "    accuracy_temp = 0.0\n",
        "    with torch.no_grad():\n",
        "      for images, labels in validation_loader:\n",
        "        images = images.to(device)\n",
        "        labels = labels.to(device)\n",
        "\n",
        "        output = model(images)\n",
        "        loss = loss_function(output, labels)\n",
        "\n",
        "        prediction = output.argmax(dim=1)\n",
        "        loss_temp += loss.item()\n",
        "        accuracy_temp += torch.sum(prediction == labels)\n",
        "\n",
        "    validation_loss = loss_temp / len(validation_loader.sampler)\n",
        "    validation_accuracy = accuracy_temp.cpu() / len(validation_loader.sampler) * 100\n",
        "\n",
        "    history.append((train_loss, train_accuracy, validation_loss, validation_accuracy))\n",
        "\n",
        "    print(f\"[Epoch: {epoch + 1}] Train Loss: {train_loss:.4f}, \\tTrain Accuracy: {train_accuracy:.4f}%, \\tValidation Loss: {validation_loss:.4f}, \\tValidation Accuracy: {validation_accuracy:.4f}%\")\n",
        "\n",
        "    if min_validation_loss is None or validation_loss < min_validation_loss:\n",
        "      min_validation_loss = validation_loss\n",
        "      best_parameters = model.state_dict()\n",
        "      early_stop_epoch_count = 0\n",
        "      checkpoint_epoch = epoch\n",
        "      print(f\"[Epoch: {epoch + 1}] Min Validation Loss: {min_validation_loss}\")\n",
        "    else:\n",
        "      early_stop_epoch_count += 1\n",
        "      if early_stop_epoch_count == early_stop_patience:\n",
        "        print(f\"[Epoch: {epoch + 1}] Early Stop\")\n",
        "        break\n",
        "      else:\n",
        "        print(f\"[Epoch: {epoch + 1}] No Improve\")\n",
        "    print(\"\")\n",
        "\n",
        "  model.load_state_dict(best_parameters)\n",
        "  print(f\"Best Parameters Loaded (Checkpoint Epoch: {checkpoint_epoch}) (Validation Loss: {min_validation_loss})\")\n",
        "  return checkpoint_epoch, history"
      ]
    },
    {
      "cell_type": "markdown",
      "metadata": {
        "id": "U7txwVYPocia"
      },
      "source": [
        "## 학습 수행\n",
        "\n",
        "- Learning Rate: 0.0001\n",
        "- Optimizer: Adam\n",
        "- Weight Decay: 0.00001\n",
        "- Loss Function: CrossEntropyLoss\n",
        "- Epochs: 100\n",
        "- Early Stop Patience: 30\n",
        "- Batch Size: 64"
      ]
    },
    {
      "cell_type": "code",
      "execution_count": 8,
      "metadata": {
        "id": "ZHsH0eFeskPX"
      },
      "outputs": [],
      "source": [
        "model = ResNet18(num_classes=37).to(device)\n",
        "\n",
        "learning_rate = 0.0001\n",
        "\n",
        "optimizer = torch.optim.Adam(\n",
        "  model.parameters(),\n",
        "  lr=learning_rate,\n",
        "  weight_decay=0.00001\n",
        ")\n",
        "\n",
        "loss_function = nn.CrossEntropyLoss()\n",
        "\n",
        "num_epochs = 100\n",
        "\n",
        "early_stop_patience = 30\n",
        "\n",
        "batch_size = 64\n",
        "\n",
        "train_loader = torch.utils.data.DataLoader(dataset=train_dataset, batch_size=batch_size, sampler=train_sampler)\n",
        "validation_loader = torch.utils.data.DataLoader(dataset=validation_dataset, batch_size=batch_size, sampler=validation_sampler)\n",
        "test_loader = torch.utils.data.DataLoader(dataset=test_dataset, batch_size=batch_size)"
      ]
    },
    {
      "cell_type": "code",
      "execution_count": 9,
      "metadata": {
        "colab": {
          "base_uri": "https://localhost:8080/"
        },
        "id": "8XZkKj2fwm7P",
        "outputId": "73381dc1-cc73-484a-a1c5-553b7957859a"
      },
      "outputs": [
        {
          "name": "stdout",
          "output_type": "stream",
          "text": [
            "[Epoch: 1] Train Loss: 0.0559, \tTrain Accuracy: 4.4837%, \tValidation Loss: 0.0776, \tValidation Accuracy: 3.8043%\n",
            "[Epoch: 1] Min Validation Loss: 0.07758136287979457\n",
            "\n",
            "[Epoch: 2] Train Loss: 0.0534, \tTrain Accuracy: 8.1522%, \tValidation Loss: 0.0650, \tValidation Accuracy: 5.0272%\n",
            "[Epoch: 2] Min Validation Loss: 0.06502302671256273\n",
            "\n",
            "[Epoch: 3] Train Loss: 0.0511, \tTrain Accuracy: 11.7867%, \tValidation Loss: 0.0648, \tValidation Accuracy: 7.6087%\n",
            "[Epoch: 3] Min Validation Loss: 0.06483519271663997\n",
            "\n",
            "[Epoch: 4] Train Loss: 0.0492, \tTrain Accuracy: 14.7418%, \tValidation Loss: 0.0609, \tValidation Accuracy: 9.9185%\n",
            "[Epoch: 4] Min Validation Loss: 0.060883516202802246\n",
            "\n",
            "[Epoch: 5] Train Loss: 0.0473, \tTrain Accuracy: 17.2215%, \tValidation Loss: 0.0682, \tValidation Accuracy: 7.7446%\n",
            "[Epoch: 5] No Improve\n",
            "\n",
            "[Epoch: 6] Train Loss: 0.0456, \tTrain Accuracy: 19.4293%, \tValidation Loss: 0.0643, \tValidation Accuracy: 10.7337%\n",
            "[Epoch: 6] No Improve\n",
            "\n",
            "[Epoch: 7] Train Loss: 0.0447, \tTrain Accuracy: 20.7541%, \tValidation Loss: 0.0621, \tValidation Accuracy: 10.5978%\n",
            "[Epoch: 7] No Improve\n",
            "\n",
            "[Epoch: 8] Train Loss: 0.0431, \tTrain Accuracy: 23.9470%, \tValidation Loss: 0.0549, \tValidation Accuracy: 15.6250%\n",
            "[Epoch: 8] Min Validation Loss: 0.05491472780704498\n",
            "\n",
            "[Epoch: 9] Train Loss: 0.0417, \tTrain Accuracy: 26.2568%, \tValidation Loss: 0.0584, \tValidation Accuracy: 14.6739%\n",
            "[Epoch: 9] No Improve\n",
            "\n",
            "[Epoch: 10] Train Loss: 0.0404, \tTrain Accuracy: 27.7853%, \tValidation Loss: 0.0618, \tValidation Accuracy: 15.7609%\n",
            "[Epoch: 10] No Improve\n",
            "\n",
            "[Epoch: 11] Train Loss: 0.0393, \tTrain Accuracy: 30.4348%, \tValidation Loss: 0.0638, \tValidation Accuracy: 15.3533%\n",
            "[Epoch: 11] No Improve\n",
            "\n",
            "[Epoch: 12] Train Loss: 0.0375, \tTrain Accuracy: 31.9293%, \tValidation Loss: 0.0471, \tValidation Accuracy: 22.8261%\n",
            "[Epoch: 12] Min Validation Loss: 0.0471086090673571\n",
            "\n",
            "[Epoch: 13] Train Loss: 0.0373, \tTrain Accuracy: 32.7446%, \tValidation Loss: 0.0497, \tValidation Accuracy: 22.4185%\n",
            "[Epoch: 13] No Improve\n",
            "\n",
            "[Epoch: 14] Train Loss: 0.0359, \tTrain Accuracy: 34.9185%, \tValidation Loss: 0.0553, \tValidation Accuracy: 20.7880%\n",
            "[Epoch: 14] No Improve\n",
            "\n",
            "[Epoch: 15] Train Loss: 0.0351, \tTrain Accuracy: 37.0245%, \tValidation Loss: 0.0609, \tValidation Accuracy: 16.0326%\n",
            "[Epoch: 15] No Improve\n",
            "\n",
            "[Epoch: 16] Train Loss: 0.0336, \tTrain Accuracy: 38.4511%, \tValidation Loss: 0.0567, \tValidation Accuracy: 17.7989%\n",
            "[Epoch: 16] No Improve\n",
            "\n",
            "[Epoch: 17] Train Loss: 0.0324, \tTrain Accuracy: 41.6780%, \tValidation Loss: 0.0575, \tValidation Accuracy: 16.7120%\n",
            "[Epoch: 17] No Improve\n",
            "\n",
            "[Epoch: 18] Train Loss: 0.0318, \tTrain Accuracy: 43.4103%, \tValidation Loss: 0.0477, \tValidation Accuracy: 24.8641%\n",
            "[Epoch: 18] No Improve\n",
            "\n",
            "[Epoch: 19] Train Loss: 0.0305, \tTrain Accuracy: 44.7351%, \tValidation Loss: 0.0563, \tValidation Accuracy: 18.4783%\n",
            "[Epoch: 19] No Improve\n",
            "\n",
            "[Epoch: 20] Train Loss: 0.0296, \tTrain Accuracy: 46.9769%, \tValidation Loss: 0.0588, \tValidation Accuracy: 19.7011%\n",
            "[Epoch: 20] No Improve\n",
            "\n",
            "[Epoch: 21] Train Loss: 0.0290, \tTrain Accuracy: 47.1128%, \tValidation Loss: 0.0425, \tValidation Accuracy: 29.3478%\n",
            "[Epoch: 21] Min Validation Loss: 0.042472908516292984\n",
            "\n",
            "[Epoch: 22] Train Loss: 0.0285, \tTrain Accuracy: 47.2147%, \tValidation Loss: 0.0483, \tValidation Accuracy: 24.8641%\n",
            "[Epoch: 22] No Improve\n",
            "\n",
            "[Epoch: 23] Train Loss: 0.0272, \tTrain Accuracy: 49.6603%, \tValidation Loss: 0.0459, \tValidation Accuracy: 29.3478%\n",
            "[Epoch: 23] No Improve\n",
            "\n",
            "[Epoch: 24] Train Loss: 0.0259, \tTrain Accuracy: 52.9552%, \tValidation Loss: 0.0438, \tValidation Accuracy: 30.2989%\n",
            "[Epoch: 24] No Improve\n",
            "\n",
            "[Epoch: 25] Train Loss: 0.0251, \tTrain Accuracy: 54.0421%, \tValidation Loss: 0.0445, \tValidation Accuracy: 31.1141%\n",
            "[Epoch: 25] No Improve\n",
            "\n",
            "[Epoch: 26] Train Loss: 0.0244, \tTrain Accuracy: 55.6386%, \tValidation Loss: 0.0507, \tValidation Accuracy: 24.7283%\n",
            "[Epoch: 26] No Improve\n",
            "\n",
            "[Epoch: 27] Train Loss: 0.0239, \tTrain Accuracy: 55.9783%, \tValidation Loss: 0.0515, \tValidation Accuracy: 26.2228%\n",
            "[Epoch: 27] No Improve\n",
            "\n",
            "[Epoch: 28] Train Loss: 0.0228, \tTrain Accuracy: 59.2052%, \tValidation Loss: 0.0448, \tValidation Accuracy: 31.9293%\n",
            "[Epoch: 28] No Improve\n",
            "\n",
            "[Epoch: 29] Train Loss: 0.0223, \tTrain Accuracy: 59.1033%, \tValidation Loss: 0.0445, \tValidation Accuracy: 32.6087%\n",
            "[Epoch: 29] No Improve\n",
            "\n",
            "[Epoch: 30] Train Loss: 0.0216, \tTrain Accuracy: 61.4810%, \tValidation Loss: 0.0507, \tValidation Accuracy: 25.5435%\n",
            "[Epoch: 30] No Improve\n",
            "\n",
            "[Epoch: 31] Train Loss: 0.0207, \tTrain Accuracy: 61.9905%, \tValidation Loss: 0.0412, \tValidation Accuracy: 32.8804%\n",
            "[Epoch: 31] Min Validation Loss: 0.04120816387560056\n",
            "\n",
            "[Epoch: 32] Train Loss: 0.0205, \tTrain Accuracy: 63.6209%, \tValidation Loss: 0.0438, \tValidation Accuracy: 33.4239%\n",
            "[Epoch: 32] No Improve\n",
            "\n",
            "[Epoch: 33] Train Loss: 0.0197, \tTrain Accuracy: 64.1304%, \tValidation Loss: 0.0379, \tValidation Accuracy: 36.9565%\n",
            "[Epoch: 33] Min Validation Loss: 0.03788906999904176\n",
            "\n",
            "[Epoch: 34] Train Loss: 0.0184, \tTrain Accuracy: 68.0706%, \tValidation Loss: 0.0435, \tValidation Accuracy: 32.6087%\n",
            "[Epoch: 34] No Improve\n",
            "\n",
            "[Epoch: 35] Train Loss: 0.0177, \tTrain Accuracy: 69.2595%, \tValidation Loss: 0.0566, \tValidation Accuracy: 23.5054%\n",
            "[Epoch: 35] No Improve\n",
            "\n",
            "[Epoch: 36] Train Loss: 0.0169, \tTrain Accuracy: 70.6182%, \tValidation Loss: 0.0483, \tValidation Accuracy: 29.8913%\n",
            "[Epoch: 36] No Improve\n",
            "\n",
            "[Epoch: 37] Train Loss: 0.0167, \tTrain Accuracy: 69.7011%, \tValidation Loss: 0.0445, \tValidation Accuracy: 32.2011%\n",
            "[Epoch: 37] No Improve\n",
            "\n",
            "[Epoch: 38] Train Loss: 0.0160, \tTrain Accuracy: 72.5204%, \tValidation Loss: 0.0408, \tValidation Accuracy: 35.3261%\n",
            "[Epoch: 38] No Improve\n",
            "\n",
            "[Epoch: 39] Train Loss: 0.0154, \tTrain Accuracy: 73.1318%, \tValidation Loss: 0.0416, \tValidation Accuracy: 34.3750%\n",
            "[Epoch: 39] No Improve\n",
            "\n",
            "[Epoch: 40] Train Loss: 0.0141, \tTrain Accuracy: 75.9171%, \tValidation Loss: 0.0415, \tValidation Accuracy: 37.3641%\n",
            "[Epoch: 40] No Improve\n",
            "\n",
            "[Epoch: 41] Train Loss: 0.0138, \tTrain Accuracy: 77.2079%, \tValidation Loss: 0.0409, \tValidation Accuracy: 36.0054%\n",
            "[Epoch: 41] No Improve\n",
            "\n",
            "[Epoch: 42] Train Loss: 0.0138, \tTrain Accuracy: 76.6304%, \tValidation Loss: 0.0399, \tValidation Accuracy: 36.5489%\n",
            "[Epoch: 42] No Improve\n",
            "\n",
            "[Epoch: 43] Train Loss: 0.0129, \tTrain Accuracy: 78.6005%, \tValidation Loss: 0.0381, \tValidation Accuracy: 39.4022%\n",
            "[Epoch: 43] No Improve\n",
            "\n",
            "[Epoch: 44] Train Loss: 0.0126, \tTrain Accuracy: 79.3139%, \tValidation Loss: 0.0444, \tValidation Accuracy: 35.1902%\n",
            "[Epoch: 44] No Improve\n",
            "\n",
            "[Epoch: 45] Train Loss: 0.0115, \tTrain Accuracy: 82.2011%, \tValidation Loss: 0.0419, \tValidation Accuracy: 36.0054%\n",
            "[Epoch: 45] No Improve\n",
            "\n",
            "[Epoch: 46] Train Loss: 0.0110, \tTrain Accuracy: 82.9144%, \tValidation Loss: 0.0420, \tValidation Accuracy: 38.3152%\n",
            "[Epoch: 46] No Improve\n",
            "\n",
            "[Epoch: 47] Train Loss: 0.0103, \tTrain Accuracy: 84.0014%, \tValidation Loss: 0.0503, \tValidation Accuracy: 32.4728%\n",
            "[Epoch: 47] No Improve\n",
            "\n",
            "[Epoch: 48] Train Loss: 0.0102, \tTrain Accuracy: 84.7147%, \tValidation Loss: 0.0385, \tValidation Accuracy: 36.8207%\n",
            "[Epoch: 48] No Improve\n",
            "\n",
            "[Epoch: 49] Train Loss: 0.0094, \tTrain Accuracy: 86.0054%, \tValidation Loss: 0.0403, \tValidation Accuracy: 37.7717%\n",
            "[Epoch: 49] No Improve\n",
            "\n",
            "[Epoch: 50] Train Loss: 0.0091, \tTrain Accuracy: 86.3791%, \tValidation Loss: 0.0436, \tValidation Accuracy: 33.6957%\n",
            "[Epoch: 50] No Improve\n",
            "\n",
            "[Epoch: 51] Train Loss: 0.0088, \tTrain Accuracy: 87.3981%, \tValidation Loss: 0.0437, \tValidation Accuracy: 37.7717%\n",
            "[Epoch: 51] No Improve\n",
            "\n",
            "[Epoch: 52] Train Loss: 0.0080, \tTrain Accuracy: 88.7228%, \tValidation Loss: 0.0385, \tValidation Accuracy: 41.4402%\n",
            "[Epoch: 52] No Improve\n",
            "\n",
            "[Epoch: 53] Train Loss: 0.0073, \tTrain Accuracy: 89.6739%, \tValidation Loss: 0.0395, \tValidation Accuracy: 39.6739%\n",
            "[Epoch: 53] No Improve\n",
            "\n",
            "[Epoch: 54] Train Loss: 0.0074, \tTrain Accuracy: 89.4022%, \tValidation Loss: 0.0425, \tValidation Accuracy: 35.5978%\n",
            "[Epoch: 54] No Improve\n",
            "\n",
            "[Epoch: 55] Train Loss: 0.0074, \tTrain Accuracy: 89.1644%, \tValidation Loss: 0.0387, \tValidation Accuracy: 40.6250%\n",
            "[Epoch: 55] No Improve\n",
            "\n",
            "[Epoch: 56] Train Loss: 0.0068, \tTrain Accuracy: 91.0666%, \tValidation Loss: 0.0446, \tValidation Accuracy: 36.8207%\n",
            "[Epoch: 56] No Improve\n",
            "\n",
            "[Epoch: 57] Train Loss: 0.0060, \tTrain Accuracy: 92.9008%, \tValidation Loss: 0.0421, \tValidation Accuracy: 36.5489%\n",
            "[Epoch: 57] No Improve\n",
            "\n",
            "[Epoch: 58] Train Loss: 0.0059, \tTrain Accuracy: 92.3573%, \tValidation Loss: 0.0379, \tValidation Accuracy: 38.3152%\n",
            "[Epoch: 58] No Improve\n",
            "\n",
            "[Epoch: 59] Train Loss: 0.0056, \tTrain Accuracy: 93.7840%, \tValidation Loss: 0.0379, \tValidation Accuracy: 42.1196%\n",
            "[Epoch: 59] No Improve\n",
            "\n",
            "[Epoch: 60] Train Loss: 0.0051, \tTrain Accuracy: 94.3954%, \tValidation Loss: 0.0369, \tValidation Accuracy: 42.6630%\n",
            "[Epoch: 60] Min Validation Loss: 0.03694476656939672\n",
            "\n",
            "[Epoch: 61] Train Loss: 0.0052, \tTrain Accuracy: 94.2595%, \tValidation Loss: 0.0427, \tValidation Accuracy: 38.8587%\n",
            "[Epoch: 61] No Improve\n",
            "\n",
            "[Epoch: 62] Train Loss: 0.0051, \tTrain Accuracy: 94.0557%, \tValidation Loss: 0.0365, \tValidation Accuracy: 42.1196%\n",
            "[Epoch: 62] Min Validation Loss: 0.03653476986548175\n",
            "\n",
            "[Epoch: 63] Train Loss: 0.0045, \tTrain Accuracy: 94.9728%, \tValidation Loss: 0.0411, \tValidation Accuracy: 39.6739%\n",
            "[Epoch: 63] No Improve\n",
            "\n",
            "[Epoch: 64] Train Loss: 0.0041, \tTrain Accuracy: 95.6182%, \tValidation Loss: 0.0361, \tValidation Accuracy: 44.0217%\n",
            "[Epoch: 64] Min Validation Loss: 0.036104320507982506\n",
            "\n",
            "[Epoch: 65] Train Loss: 0.0039, \tTrain Accuracy: 95.8899%, \tValidation Loss: 0.0397, \tValidation Accuracy: 42.9348%\n",
            "[Epoch: 65] No Improve\n",
            "\n",
            "[Epoch: 66] Train Loss: 0.0037, \tTrain Accuracy: 96.3995%, \tValidation Loss: 0.0392, \tValidation Accuracy: 39.6739%\n",
            "[Epoch: 66] No Improve\n",
            "\n",
            "[Epoch: 67] Train Loss: 0.0036, \tTrain Accuracy: 96.3995%, \tValidation Loss: 0.0410, \tValidation Accuracy: 38.7228%\n",
            "[Epoch: 67] No Improve\n",
            "\n",
            "[Epoch: 68] Train Loss: 0.0033, \tTrain Accuracy: 96.5693%, \tValidation Loss: 0.0390, \tValidation Accuracy: 40.8967%\n",
            "[Epoch: 68] No Improve\n",
            "\n",
            "[Epoch: 69] Train Loss: 0.0033, \tTrain Accuracy: 96.9769%, \tValidation Loss: 0.0357, \tValidation Accuracy: 45.5163%\n",
            "[Epoch: 69] Min Validation Loss: 0.035656052601078285\n",
            "\n",
            "[Epoch: 70] Train Loss: 0.0029, \tTrain Accuracy: 97.5883%, \tValidation Loss: 0.0417, \tValidation Accuracy: 39.6739%\n",
            "[Epoch: 70] No Improve\n",
            "\n",
            "[Epoch: 71] Train Loss: 0.0031, \tTrain Accuracy: 97.0448%, \tValidation Loss: 0.0420, \tValidation Accuracy: 40.2174%\n",
            "[Epoch: 71] No Improve\n",
            "\n",
            "[Epoch: 72] Train Loss: 0.0028, \tTrain Accuracy: 97.6562%, \tValidation Loss: 0.0417, \tValidation Accuracy: 40.6250%\n",
            "[Epoch: 72] No Improve\n",
            "\n",
            "[Epoch: 73] Train Loss: 0.0024, \tTrain Accuracy: 97.9959%, \tValidation Loss: 0.0389, \tValidation Accuracy: 42.3913%\n",
            "[Epoch: 73] No Improve\n",
            "\n",
            "[Epoch: 74] Train Loss: 0.0027, \tTrain Accuracy: 97.0448%, \tValidation Loss: 0.0379, \tValidation Accuracy: 42.5272%\n",
            "[Epoch: 74] No Improve\n",
            "\n",
            "[Epoch: 75] Train Loss: 0.0030, \tTrain Accuracy: 96.8750%, \tValidation Loss: 0.0447, \tValidation Accuracy: 38.4511%\n",
            "[Epoch: 75] No Improve\n",
            "\n",
            "[Epoch: 76] Train Loss: 0.0031, \tTrain Accuracy: 96.8071%, \tValidation Loss: 0.0388, \tValidation Accuracy: 41.3043%\n",
            "[Epoch: 76] No Improve\n",
            "\n",
            "[Epoch: 77] Train Loss: 0.0031, \tTrain Accuracy: 96.8071%, \tValidation Loss: 0.0423, \tValidation Accuracy: 39.1304%\n",
            "[Epoch: 77] No Improve\n",
            "\n",
            "[Epoch: 78] Train Loss: 0.0026, \tTrain Accuracy: 97.3505%, \tValidation Loss: 0.0458, \tValidation Accuracy: 38.5870%\n",
            "[Epoch: 78] No Improve\n",
            "\n",
            "[Epoch: 79] Train Loss: 0.0023, \tTrain Accuracy: 97.8940%, \tValidation Loss: 0.0423, \tValidation Accuracy: 38.3152%\n",
            "[Epoch: 79] No Improve\n",
            "\n",
            "[Epoch: 80] Train Loss: 0.0019, \tTrain Accuracy: 98.4715%, \tValidation Loss: 0.0470, \tValidation Accuracy: 38.3152%\n",
            "[Epoch: 80] No Improve\n",
            "\n",
            "[Epoch: 81] Train Loss: 0.0017, \tTrain Accuracy: 98.8111%, \tValidation Loss: 0.0353, \tValidation Accuracy: 48.2337%\n",
            "[Epoch: 81] Min Validation Loss: 0.03526866565579954\n",
            "\n",
            "[Epoch: 82] Train Loss: 0.0018, \tTrain Accuracy: 98.5054%, \tValidation Loss: 0.0384, \tValidation Accuracy: 44.5652%\n",
            "[Epoch: 82] No Improve\n",
            "\n",
            "[Epoch: 83] Train Loss: 0.0018, \tTrain Accuracy: 98.6753%, \tValidation Loss: 0.0381, \tValidation Accuracy: 43.6141%\n",
            "[Epoch: 83] No Improve\n",
            "\n",
            "[Epoch: 84] Train Loss: 0.0019, \tTrain Accuracy: 98.2677%, \tValidation Loss: 0.0387, \tValidation Accuracy: 41.8478%\n",
            "[Epoch: 84] No Improve\n",
            "\n",
            "[Epoch: 85] Train Loss: 0.0019, \tTrain Accuracy: 98.4375%, \tValidation Loss: 0.0459, \tValidation Accuracy: 38.1793%\n",
            "[Epoch: 85] No Improve\n",
            "\n",
            "[Epoch: 86] Train Loss: 0.0015, \tTrain Accuracy: 99.0149%, \tValidation Loss: 0.0351, \tValidation Accuracy: 46.0598%\n",
            "[Epoch: 86] Min Validation Loss: 0.03505290947530581\n",
            "\n",
            "[Epoch: 87] Train Loss: 0.0011, \tTrain Accuracy: 99.5584%, \tValidation Loss: 0.0377, \tValidation Accuracy: 43.8859%\n",
            "[Epoch: 87] No Improve\n",
            "\n",
            "[Epoch: 88] Train Loss: 0.0010, \tTrain Accuracy: 99.5924%, \tValidation Loss: 0.0371, \tValidation Accuracy: 45.6522%\n",
            "[Epoch: 88] No Improve\n",
            "\n",
            "[Epoch: 89] Train Loss: 0.0009, \tTrain Accuracy: 99.6943%, \tValidation Loss: 0.0383, \tValidation Accuracy: 45.6522%\n",
            "[Epoch: 89] No Improve\n",
            "\n",
            "[Epoch: 90] Train Loss: 0.0014, \tTrain Accuracy: 98.8791%, \tValidation Loss: 0.0452, \tValidation Accuracy: 40.2174%\n",
            "[Epoch: 90] No Improve\n",
            "\n",
            "[Epoch: 91] Train Loss: 0.0018, \tTrain Accuracy: 98.3356%, \tValidation Loss: 0.0432, \tValidation Accuracy: 43.3424%\n",
            "[Epoch: 91] No Improve\n",
            "\n",
            "[Epoch: 92] Train Loss: 0.0017, \tTrain Accuracy: 98.5054%, \tValidation Loss: 0.0378, \tValidation Accuracy: 45.1087%\n",
            "[Epoch: 92] No Improve\n",
            "\n",
            "[Epoch: 93] Train Loss: 0.0017, \tTrain Accuracy: 98.3016%, \tValidation Loss: 0.0422, \tValidation Accuracy: 44.1576%\n",
            "[Epoch: 93] No Improve\n",
            "\n",
            "[Epoch: 94] Train Loss: 0.0018, \tTrain Accuracy: 98.3356%, \tValidation Loss: 0.0446, \tValidation Accuracy: 40.8967%\n",
            "[Epoch: 94] No Improve\n",
            "\n",
            "[Epoch: 95] Train Loss: 0.0014, \tTrain Accuracy: 98.9810%, \tValidation Loss: 0.0417, \tValidation Accuracy: 43.2065%\n",
            "[Epoch: 95] No Improve\n",
            "\n",
            "[Epoch: 96] Train Loss: 0.0011, \tTrain Accuracy: 99.1508%, \tValidation Loss: 0.0394, \tValidation Accuracy: 43.0707%\n",
            "[Epoch: 96] No Improve\n",
            "\n",
            "[Epoch: 97] Train Loss: 0.0017, \tTrain Accuracy: 98.0299%, \tValidation Loss: 0.0409, \tValidation Accuracy: 44.4293%\n",
            "[Epoch: 97] No Improve\n",
            "\n",
            "[Epoch: 98] Train Loss: 0.0024, \tTrain Accuracy: 96.8410%, \tValidation Loss: 0.0546, \tValidation Accuracy: 36.8207%\n",
            "[Epoch: 98] No Improve\n",
            "\n",
            "[Epoch: 99] Train Loss: 0.0022, \tTrain Accuracy: 97.1807%, \tValidation Loss: 0.0429, \tValidation Accuracy: 42.3913%\n",
            "[Epoch: 99] No Improve\n",
            "\n",
            "[Epoch: 100] Train Loss: 0.0020, \tTrain Accuracy: 97.8601%, \tValidation Loss: 0.0388, \tValidation Accuracy: 45.1087%\n",
            "[Epoch: 100] No Improve\n",
            "\n",
            "Best Parameters Loaded (Checkpoint Epoch: 85) (Validation Loss: 0.03505290947530581)\n"
          ]
        }
      ],
      "source": [
        "checkpoint_epoch, history = train(model, optimizer, loss_function, num_epochs, early_stop_patience, train_loader, validation_loader)"
      ]
    },
    {
      "cell_type": "markdown",
      "metadata": {
        "id": "PgpJFLqo2jp0"
      },
      "source": [
        "## 학습 과정 시각화"
      ]
    },
    {
      "cell_type": "code",
      "execution_count": 10,
      "metadata": {
        "id": "04LgO7P4mBlG"
      },
      "outputs": [],
      "source": [
        "import matplotlib.pyplot as plt\n",
        "\n",
        "def visualize(checkpoint_epoch, history):\n",
        "  epochs = range(1, len(history) + 1)\n",
        "\n",
        "  plt.figure(figsize=(18, 5))\n",
        "\n",
        "  plt.subplot(1, 3, 1)\n",
        "  plt.plot(epochs, tuple(item[0] for item in history), \"r-\", label=\"Train Loss\")\n",
        "  plt.plot(epochs, tuple(item[2] for item in history), \"b-\", label=\"Validation Loss\")\n",
        "  plt.axvline(x=checkpoint_epoch + 1, color=\"g\", linestyle=\"--\", label=\"Checkpoint\")\n",
        "  plt.title(\"Model Loss\")\n",
        "  plt.xlabel(\"Epochs\")\n",
        "  plt.ylabel(\"Loss\")\n",
        "  plt.legend()\n",
        "  plt.grid()\n",
        "\n",
        "  plt.subplot(1, 3, 2)\n",
        "  plt.plot(epochs, tuple(item[1] for item in history), \"r-\", label=\"Train Accuracy\")\n",
        "  plt.plot(epochs, tuple(item[3] for item in history), \"b-\", label=\"Validation Accuracy\")\n",
        "  plt.axvline(x=checkpoint_epoch + 1, color=\"g\", linestyle=\"--\", label=\"Checkpoint\")\n",
        "  plt.title(\"Model Accuracy\")\n",
        "  plt.xlabel(\"Epochs\")\n",
        "  plt.ylabel(\"Accuracy\")\n",
        "  plt.legend()\n",
        "  plt.grid()\n",
        "\n",
        "  plt.tight_layout()\n",
        "  plt.show()"
      ]
    },
    {
      "cell_type": "code",
      "execution_count": 11,
      "metadata": {
        "colab": {
          "base_uri": "https://localhost:8080/",
          "height": 507
        },
        "id": "jf5s6_gN_O1Y",
        "outputId": "37bdb0c6-b17f-4e39-b34b-fdde6ad299dd"
      },
      "outputs": [
        {
          "data": {
            "image/png": "[encoded data removed]",
            "text/plain": [
              "<Figure size 1800x500 with 2 Axes>"
            ]
          },
          "metadata": {},
          "output_type": "display_data"
        }
      ],
      "source": [
        "visualize(checkpoint_epoch, history)"
      ]
    },
    {
      "cell_type": "markdown",
      "metadata": {
        "id": "VBY-WHHIoh-H"
      },
      "source": [
        "# 성능 측정"
      ]
    },
    {
      "cell_type": "code",
      "execution_count": 12,
      "metadata": {
        "id": "7DZwPnsqohog"
      },
      "outputs": [],
      "source": [
        "def test(model, optimizer, loss_function, test_loader):\n",
        "  # Test\n",
        "  model.eval()\n",
        "  loss_temp = 0.0\n",
        "  accuracy_temp = 0.0\n",
        "  with torch.no_grad():\n",
        "    for images, labels in test_loader:\n",
        "      images = images.to(device)\n",
        "      labels = labels.to(device)\n",
        "\n",
        "      output = model(images)\n",
        "      loss = loss_function(output, labels)\n",
        "\n",
        "      prediction = output.argmax(dim=1)\n",
        "      loss_temp += loss.item()\n",
        "      accuracy_temp += torch.sum(prediction == labels)\n",
        "\n",
        "  test_loss = loss_temp / len(test_loader.sampler)\n",
        "  test_accuracy = accuracy_temp.cpu() / len(test_loader.sampler) * 100\n",
        "\n",
        "  print(f\"Test Loss: {test_loss:.4f}, \\tTest Accuracy: {test_accuracy:.4f}%\")"
      ]
    },
    {
      "cell_type": "code",
      "execution_count": 13,
      "metadata": {
        "colab": {
          "base_uri": "https://localhost:8080/"
        },
        "id": "dO7Ek_qmwbvP",
        "outputId": "d5d1a8e5-b2f9-419a-cc8c-50750a1d5476"
      },
      "outputs": [
        {
          "name": "stdout",
          "output_type": "stream",
          "text": [
            "Test Loss: 0.0454, \tTest Accuracy: 37.9667%\n"
          ]
        }
      ],
      "source": [
        "test(model, optimizer, loss_function, test_loader)"
      ]
    },
    {
      "cell_type": "markdown",
      "metadata": {
        "id": "M5VwmSfq6hJ8"
      },
      "source": [
        "## 분석 및 고찰"
      ]
    },
    {
      "cell_type": "markdown",
      "metadata": {
        "id": "N2a6mMmggQ-w"
      },
      "source": [
        "- Oxford-IIIT Pet 특징\n",
        "  - Oxford-IIIT Pet 데이터셋은 총 37개의 클래스를 가지고 있으며 각 클래스마다 200개의 라벨링된 학습 데이터를 제공\n",
        "  - Oxford-IIIT Pet 데이터셋은 이미지의 크기가 일정하지 않고 모두 달라 CNN 모델에 입력하기 위해서는 전처리가 필요\n",
        "\n",
        "- 적용한 학습 기법\n",
        "  - Early Stopping\n",
        "\n",
        "    학습 과정에서 Validation Loss가 일정 Epoch 동안 개선되지 않을 경우 학습을 조기에 중단하도록 구현\n",
        "\n",
        "  - Weight Dacay\n",
        "\n",
        "    모델의 가중치에 대한 정규화를 적용하여 Overfitting을 방지\n",
        "\n",
        "  - Dropout\n",
        "\n",
        "    학습 과정에서 무작위 뉴런을 비활성화하여 Bagging과 유사한 효과를 부여\n",
        "\n",
        "  - Model Checkpoint\n",
        "\n",
        "    학습 과정에서 Validation Loss가 가장 낮았던 상태의 모델 가중치를 저장하고 갱신하면서 최종 학습이 끝난 후 그 상태를 모델에 적용\n",
        "\n",
        "\n",
        "- 어려웠던 점 / 한계\n",
        "  - 입력 이미지의 크기가 모두 다르기 때문에 통일시킬 수 있는 적절한 크기를 찾는 부분이 어려웠음\n",
        "  - 입력 이미지가 작으면 데이터 손실이 많았고, 입력 이미지가 크면 학습에 오랜 시간이 걸렸음\n",
        "  - 입력 이미지의 크기와 비율이 모두 달랐기 때문에 하나의 크기로 통일시키는 과정에서 기존 이미지의 비율이 변형되는 경우가 많았음\n",
        "  - 이를 해결하기 위해 비율을 유지하면서 Padding을 채우거나, CenterCrop을 하는 방법도 고민해봤으나, 이미지의 비율이 변형됨에 따라 생기는 Data Augmentation 효과를 기대하고 비율을 변형하면서 고정 크기로 변형하는 방식을 채택함\n",
        "  - 모델 자체가 가변 이미지 크기를 입력받을 수 있도록 구현하는 시도도 있었으나, 이 경우 Batch 처리가 불가능하고 복잡해지는 관계로 입력 이미지를 고정 크기로 변환하는 방식을 채택함"
      ]
    }
  ],
  "metadata": {
    "accelerator": "GPU",
    "colab": {
      "gpuType": "T4",
      "provenance": []
    },
    "kernelspec": {
      "display_name": "Python 3",
      "name": "python3"
    },
    "language_info": {
      "name": "python"
    }
  },
  "nbformat": 4,
  "nbformat_minor": 0
}
